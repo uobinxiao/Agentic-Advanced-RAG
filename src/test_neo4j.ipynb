{
 "cells": [
  {
   "cell_type": "code",
   "execution_count": 1,
   "metadata": {},
   "outputs": [
    {
     "ename": "FileNotFoundError",
     "evalue": "[Errno 2] No such file or directory: '/create_final_community_reports.parquet'",
     "output_type": "error",
     "traceback": [
      "\u001b[0;31m---------------------------------------------------------------------------\u001b[0m",
      "\u001b[0;31mFileNotFoundError\u001b[0m                         Traceback (most recent call last)",
      "Cell \u001b[0;32mIn[1], line 3\u001b[0m\n\u001b[1;32m      1\u001b[0m \u001b[38;5;28;01mimport\u001b[39;00m \u001b[38;5;21;01mpandas\u001b[39;00m \u001b[38;5;28;01mas\u001b[39;00m \u001b[38;5;21;01mpd\u001b[39;00m\n\u001b[1;32m      2\u001b[0m Graph_rag_artifacts \u001b[38;5;241m=\u001b[39m \u001b[38;5;124m\"\u001b[39m\u001b[38;5;124m\"\u001b[39m\n\u001b[0;32m----> 3\u001b[0m doc_df \u001b[38;5;241m=\u001b[39m \u001b[43mpd\u001b[49m\u001b[38;5;241;43m.\u001b[39;49m\u001b[43mread_parquet\u001b[49m\u001b[43m(\u001b[49m\u001b[38;5;124;43mf\u001b[39;49m\u001b[38;5;124;43m\"\u001b[39;49m\u001b[38;5;132;43;01m{\u001b[39;49;00m\u001b[43mGraph_rag_artifacts\u001b[49m\u001b[38;5;132;43;01m}\u001b[39;49;00m\u001b[38;5;124;43m/create_final_community_reports.parquet\u001b[39;49m\u001b[38;5;124;43m\"\u001b[39;49m\u001b[43m)\u001b[49m\n\u001b[1;32m      4\u001b[0m doc_df\u001b[38;5;241m.\u001b[39mhead(\u001b[38;5;241m5\u001b[39m)\n",
      "File \u001b[0;32m/opt/anaconda3/envs/poetry310/lib/python3.10/site-packages/pandas/io/parquet.py:667\u001b[0m, in \u001b[0;36mread_parquet\u001b[0;34m(path, engine, columns, storage_options, use_nullable_dtypes, dtype_backend, filesystem, filters, **kwargs)\u001b[0m\n\u001b[1;32m    664\u001b[0m     use_nullable_dtypes \u001b[38;5;241m=\u001b[39m \u001b[38;5;28;01mFalse\u001b[39;00m\n\u001b[1;32m    665\u001b[0m check_dtype_backend(dtype_backend)\n\u001b[0;32m--> 667\u001b[0m \u001b[38;5;28;01mreturn\u001b[39;00m \u001b[43mimpl\u001b[49m\u001b[38;5;241;43m.\u001b[39;49m\u001b[43mread\u001b[49m\u001b[43m(\u001b[49m\n\u001b[1;32m    668\u001b[0m \u001b[43m    \u001b[49m\u001b[43mpath\u001b[49m\u001b[43m,\u001b[49m\n\u001b[1;32m    669\u001b[0m \u001b[43m    \u001b[49m\u001b[43mcolumns\u001b[49m\u001b[38;5;241;43m=\u001b[39;49m\u001b[43mcolumns\u001b[49m\u001b[43m,\u001b[49m\n\u001b[1;32m    670\u001b[0m \u001b[43m    \u001b[49m\u001b[43mfilters\u001b[49m\u001b[38;5;241;43m=\u001b[39;49m\u001b[43mfilters\u001b[49m\u001b[43m,\u001b[49m\n\u001b[1;32m    671\u001b[0m \u001b[43m    \u001b[49m\u001b[43mstorage_options\u001b[49m\u001b[38;5;241;43m=\u001b[39;49m\u001b[43mstorage_options\u001b[49m\u001b[43m,\u001b[49m\n\u001b[1;32m    672\u001b[0m \u001b[43m    \u001b[49m\u001b[43muse_nullable_dtypes\u001b[49m\u001b[38;5;241;43m=\u001b[39;49m\u001b[43muse_nullable_dtypes\u001b[49m\u001b[43m,\u001b[49m\n\u001b[1;32m    673\u001b[0m \u001b[43m    \u001b[49m\u001b[43mdtype_backend\u001b[49m\u001b[38;5;241;43m=\u001b[39;49m\u001b[43mdtype_backend\u001b[49m\u001b[43m,\u001b[49m\n\u001b[1;32m    674\u001b[0m \u001b[43m    \u001b[49m\u001b[43mfilesystem\u001b[49m\u001b[38;5;241;43m=\u001b[39;49m\u001b[43mfilesystem\u001b[49m\u001b[43m,\u001b[49m\n\u001b[1;32m    675\u001b[0m \u001b[43m    \u001b[49m\u001b[38;5;241;43m*\u001b[39;49m\u001b[38;5;241;43m*\u001b[39;49m\u001b[43mkwargs\u001b[49m\u001b[43m,\u001b[49m\n\u001b[1;32m    676\u001b[0m \u001b[43m\u001b[49m\u001b[43m)\u001b[49m\n",
      "File \u001b[0;32m/opt/anaconda3/envs/poetry310/lib/python3.10/site-packages/pandas/io/parquet.py:267\u001b[0m, in \u001b[0;36mPyArrowImpl.read\u001b[0;34m(self, path, columns, filters, use_nullable_dtypes, dtype_backend, storage_options, filesystem, **kwargs)\u001b[0m\n\u001b[1;32m    264\u001b[0m \u001b[38;5;28;01mif\u001b[39;00m manager \u001b[38;5;241m==\u001b[39m \u001b[38;5;124m\"\u001b[39m\u001b[38;5;124marray\u001b[39m\u001b[38;5;124m\"\u001b[39m:\n\u001b[1;32m    265\u001b[0m     to_pandas_kwargs[\u001b[38;5;124m\"\u001b[39m\u001b[38;5;124msplit_blocks\u001b[39m\u001b[38;5;124m\"\u001b[39m] \u001b[38;5;241m=\u001b[39m \u001b[38;5;28;01mTrue\u001b[39;00m  \u001b[38;5;66;03m# type: ignore[assignment]\u001b[39;00m\n\u001b[0;32m--> 267\u001b[0m path_or_handle, handles, filesystem \u001b[38;5;241m=\u001b[39m \u001b[43m_get_path_or_handle\u001b[49m\u001b[43m(\u001b[49m\n\u001b[1;32m    268\u001b[0m \u001b[43m    \u001b[49m\u001b[43mpath\u001b[49m\u001b[43m,\u001b[49m\n\u001b[1;32m    269\u001b[0m \u001b[43m    \u001b[49m\u001b[43mfilesystem\u001b[49m\u001b[43m,\u001b[49m\n\u001b[1;32m    270\u001b[0m \u001b[43m    \u001b[49m\u001b[43mstorage_options\u001b[49m\u001b[38;5;241;43m=\u001b[39;49m\u001b[43mstorage_options\u001b[49m\u001b[43m,\u001b[49m\n\u001b[1;32m    271\u001b[0m \u001b[43m    \u001b[49m\u001b[43mmode\u001b[49m\u001b[38;5;241;43m=\u001b[39;49m\u001b[38;5;124;43m\"\u001b[39;49m\u001b[38;5;124;43mrb\u001b[39;49m\u001b[38;5;124;43m\"\u001b[39;49m\u001b[43m,\u001b[49m\n\u001b[1;32m    272\u001b[0m \u001b[43m\u001b[49m\u001b[43m)\u001b[49m\n\u001b[1;32m    273\u001b[0m \u001b[38;5;28;01mtry\u001b[39;00m:\n\u001b[1;32m    274\u001b[0m     pa_table \u001b[38;5;241m=\u001b[39m \u001b[38;5;28mself\u001b[39m\u001b[38;5;241m.\u001b[39mapi\u001b[38;5;241m.\u001b[39mparquet\u001b[38;5;241m.\u001b[39mread_table(\n\u001b[1;32m    275\u001b[0m         path_or_handle,\n\u001b[1;32m    276\u001b[0m         columns\u001b[38;5;241m=\u001b[39mcolumns,\n\u001b[0;32m   (...)\u001b[0m\n\u001b[1;32m    279\u001b[0m         \u001b[38;5;241m*\u001b[39m\u001b[38;5;241m*\u001b[39mkwargs,\n\u001b[1;32m    280\u001b[0m     )\n",
      "File \u001b[0;32m/opt/anaconda3/envs/poetry310/lib/python3.10/site-packages/pandas/io/parquet.py:140\u001b[0m, in \u001b[0;36m_get_path_or_handle\u001b[0;34m(path, fs, storage_options, mode, is_dir)\u001b[0m\n\u001b[1;32m    130\u001b[0m handles \u001b[38;5;241m=\u001b[39m \u001b[38;5;28;01mNone\u001b[39;00m\n\u001b[1;32m    131\u001b[0m \u001b[38;5;28;01mif\u001b[39;00m (\n\u001b[1;32m    132\u001b[0m     \u001b[38;5;129;01mnot\u001b[39;00m fs\n\u001b[1;32m    133\u001b[0m     \u001b[38;5;129;01mand\u001b[39;00m \u001b[38;5;129;01mnot\u001b[39;00m is_dir\n\u001b[0;32m   (...)\u001b[0m\n\u001b[1;32m    138\u001b[0m     \u001b[38;5;66;03m# fsspec resources can also point to directories\u001b[39;00m\n\u001b[1;32m    139\u001b[0m     \u001b[38;5;66;03m# this branch is used for example when reading from non-fsspec URLs\u001b[39;00m\n\u001b[0;32m--> 140\u001b[0m     handles \u001b[38;5;241m=\u001b[39m \u001b[43mget_handle\u001b[49m\u001b[43m(\u001b[49m\n\u001b[1;32m    141\u001b[0m \u001b[43m        \u001b[49m\u001b[43mpath_or_handle\u001b[49m\u001b[43m,\u001b[49m\u001b[43m \u001b[49m\u001b[43mmode\u001b[49m\u001b[43m,\u001b[49m\u001b[43m \u001b[49m\u001b[43mis_text\u001b[49m\u001b[38;5;241;43m=\u001b[39;49m\u001b[38;5;28;43;01mFalse\u001b[39;49;00m\u001b[43m,\u001b[49m\u001b[43m \u001b[49m\u001b[43mstorage_options\u001b[49m\u001b[38;5;241;43m=\u001b[39;49m\u001b[43mstorage_options\u001b[49m\n\u001b[1;32m    142\u001b[0m \u001b[43m    \u001b[49m\u001b[43m)\u001b[49m\n\u001b[1;32m    143\u001b[0m     fs \u001b[38;5;241m=\u001b[39m \u001b[38;5;28;01mNone\u001b[39;00m\n\u001b[1;32m    144\u001b[0m     path_or_handle \u001b[38;5;241m=\u001b[39m handles\u001b[38;5;241m.\u001b[39mhandle\n",
      "File \u001b[0;32m/opt/anaconda3/envs/poetry310/lib/python3.10/site-packages/pandas/io/common.py:882\u001b[0m, in \u001b[0;36mget_handle\u001b[0;34m(path_or_buf, mode, encoding, compression, memory_map, is_text, errors, storage_options)\u001b[0m\n\u001b[1;32m    873\u001b[0m         handle \u001b[38;5;241m=\u001b[39m \u001b[38;5;28mopen\u001b[39m(\n\u001b[1;32m    874\u001b[0m             handle,\n\u001b[1;32m    875\u001b[0m             ioargs\u001b[38;5;241m.\u001b[39mmode,\n\u001b[0;32m   (...)\u001b[0m\n\u001b[1;32m    878\u001b[0m             newline\u001b[38;5;241m=\u001b[39m\u001b[38;5;124m\"\u001b[39m\u001b[38;5;124m\"\u001b[39m,\n\u001b[1;32m    879\u001b[0m         )\n\u001b[1;32m    880\u001b[0m     \u001b[38;5;28;01melse\u001b[39;00m:\n\u001b[1;32m    881\u001b[0m         \u001b[38;5;66;03m# Binary mode\u001b[39;00m\n\u001b[0;32m--> 882\u001b[0m         handle \u001b[38;5;241m=\u001b[39m \u001b[38;5;28;43mopen\u001b[39;49m\u001b[43m(\u001b[49m\u001b[43mhandle\u001b[49m\u001b[43m,\u001b[49m\u001b[43m \u001b[49m\u001b[43mioargs\u001b[49m\u001b[38;5;241;43m.\u001b[39;49m\u001b[43mmode\u001b[49m\u001b[43m)\u001b[49m\n\u001b[1;32m    883\u001b[0m     handles\u001b[38;5;241m.\u001b[39mappend(handle)\n\u001b[1;32m    885\u001b[0m \u001b[38;5;66;03m# Convert BytesIO or file objects passed with an encoding\u001b[39;00m\n",
      "\u001b[0;31mFileNotFoundError\u001b[0m: [Errno 2] No such file or directory: '/create_final_community_reports.parquet'"
     ]
    }
   ],
   "source": [
    "\n",
    "import pandas as pd\n",
    "Graph_rag_artifacts = \"\"\n",
    "doc_df = pd.read_parquet(f\"{Graph_rag_artifacts}/create_final_community_reports.parquet\")\n",
    "doc_df.head(5)\n"
   ]
  },
  {
   "cell_type": "code",
   "execution_count": 2,
   "metadata": {},
   "outputs": [
    {
     "ename": "FileNotFoundError",
     "evalue": "[Errno 2] No such file or directory: '/create_final_documents.parquet'",
     "output_type": "error",
     "traceback": [
      "\u001b[0;31m---------------------------------------------------------------------------\u001b[0m",
      "\u001b[0;31mFileNotFoundError\u001b[0m                         Traceback (most recent call last)",
      "Cell \u001b[0;32mIn[2], line 1\u001b[0m\n\u001b[0;32m----> 1\u001b[0m text_df \u001b[38;5;241m=\u001b[39m \u001b[43mpd\u001b[49m\u001b[38;5;241;43m.\u001b[39;49m\u001b[43mread_parquet\u001b[49m\u001b[43m(\u001b[49m\u001b[38;5;124;43mf\u001b[39;49m\u001b[38;5;124;43m\"\u001b[39;49m\u001b[38;5;132;43;01m{\u001b[39;49;00m\u001b[43mGraph_rag_artifacts\u001b[49m\u001b[38;5;132;43;01m}\u001b[39;49;00m\u001b[38;5;124;43m/create_final_documents.parquet\u001b[39;49m\u001b[38;5;124;43m\"\u001b[39;49m\u001b[43m)\u001b[49m\n\u001b[1;32m      2\u001b[0m text_df\u001b[38;5;241m.\u001b[39mhead(\u001b[38;5;241m10\u001b[39m)\n",
      "File \u001b[0;32m/opt/anaconda3/envs/poetry310/lib/python3.10/site-packages/pandas/io/parquet.py:667\u001b[0m, in \u001b[0;36mread_parquet\u001b[0;34m(path, engine, columns, storage_options, use_nullable_dtypes, dtype_backend, filesystem, filters, **kwargs)\u001b[0m\n\u001b[1;32m    664\u001b[0m     use_nullable_dtypes \u001b[38;5;241m=\u001b[39m \u001b[38;5;28;01mFalse\u001b[39;00m\n\u001b[1;32m    665\u001b[0m check_dtype_backend(dtype_backend)\n\u001b[0;32m--> 667\u001b[0m \u001b[38;5;28;01mreturn\u001b[39;00m \u001b[43mimpl\u001b[49m\u001b[38;5;241;43m.\u001b[39;49m\u001b[43mread\u001b[49m\u001b[43m(\u001b[49m\n\u001b[1;32m    668\u001b[0m \u001b[43m    \u001b[49m\u001b[43mpath\u001b[49m\u001b[43m,\u001b[49m\n\u001b[1;32m    669\u001b[0m \u001b[43m    \u001b[49m\u001b[43mcolumns\u001b[49m\u001b[38;5;241;43m=\u001b[39;49m\u001b[43mcolumns\u001b[49m\u001b[43m,\u001b[49m\n\u001b[1;32m    670\u001b[0m \u001b[43m    \u001b[49m\u001b[43mfilters\u001b[49m\u001b[38;5;241;43m=\u001b[39;49m\u001b[43mfilters\u001b[49m\u001b[43m,\u001b[49m\n\u001b[1;32m    671\u001b[0m \u001b[43m    \u001b[49m\u001b[43mstorage_options\u001b[49m\u001b[38;5;241;43m=\u001b[39;49m\u001b[43mstorage_options\u001b[49m\u001b[43m,\u001b[49m\n\u001b[1;32m    672\u001b[0m \u001b[43m    \u001b[49m\u001b[43muse_nullable_dtypes\u001b[49m\u001b[38;5;241;43m=\u001b[39;49m\u001b[43muse_nullable_dtypes\u001b[49m\u001b[43m,\u001b[49m\n\u001b[1;32m    673\u001b[0m \u001b[43m    \u001b[49m\u001b[43mdtype_backend\u001b[49m\u001b[38;5;241;43m=\u001b[39;49m\u001b[43mdtype_backend\u001b[49m\u001b[43m,\u001b[49m\n\u001b[1;32m    674\u001b[0m \u001b[43m    \u001b[49m\u001b[43mfilesystem\u001b[49m\u001b[38;5;241;43m=\u001b[39;49m\u001b[43mfilesystem\u001b[49m\u001b[43m,\u001b[49m\n\u001b[1;32m    675\u001b[0m \u001b[43m    \u001b[49m\u001b[38;5;241;43m*\u001b[39;49m\u001b[38;5;241;43m*\u001b[39;49m\u001b[43mkwargs\u001b[49m\u001b[43m,\u001b[49m\n\u001b[1;32m    676\u001b[0m \u001b[43m\u001b[49m\u001b[43m)\u001b[49m\n",
      "File \u001b[0;32m/opt/anaconda3/envs/poetry310/lib/python3.10/site-packages/pandas/io/parquet.py:267\u001b[0m, in \u001b[0;36mPyArrowImpl.read\u001b[0;34m(self, path, columns, filters, use_nullable_dtypes, dtype_backend, storage_options, filesystem, **kwargs)\u001b[0m\n\u001b[1;32m    264\u001b[0m \u001b[38;5;28;01mif\u001b[39;00m manager \u001b[38;5;241m==\u001b[39m \u001b[38;5;124m\"\u001b[39m\u001b[38;5;124marray\u001b[39m\u001b[38;5;124m\"\u001b[39m:\n\u001b[1;32m    265\u001b[0m     to_pandas_kwargs[\u001b[38;5;124m\"\u001b[39m\u001b[38;5;124msplit_blocks\u001b[39m\u001b[38;5;124m\"\u001b[39m] \u001b[38;5;241m=\u001b[39m \u001b[38;5;28;01mTrue\u001b[39;00m  \u001b[38;5;66;03m# type: ignore[assignment]\u001b[39;00m\n\u001b[0;32m--> 267\u001b[0m path_or_handle, handles, filesystem \u001b[38;5;241m=\u001b[39m \u001b[43m_get_path_or_handle\u001b[49m\u001b[43m(\u001b[49m\n\u001b[1;32m    268\u001b[0m \u001b[43m    \u001b[49m\u001b[43mpath\u001b[49m\u001b[43m,\u001b[49m\n\u001b[1;32m    269\u001b[0m \u001b[43m    \u001b[49m\u001b[43mfilesystem\u001b[49m\u001b[43m,\u001b[49m\n\u001b[1;32m    270\u001b[0m \u001b[43m    \u001b[49m\u001b[43mstorage_options\u001b[49m\u001b[38;5;241;43m=\u001b[39;49m\u001b[43mstorage_options\u001b[49m\u001b[43m,\u001b[49m\n\u001b[1;32m    271\u001b[0m \u001b[43m    \u001b[49m\u001b[43mmode\u001b[49m\u001b[38;5;241;43m=\u001b[39;49m\u001b[38;5;124;43m\"\u001b[39;49m\u001b[38;5;124;43mrb\u001b[39;49m\u001b[38;5;124;43m\"\u001b[39;49m\u001b[43m,\u001b[49m\n\u001b[1;32m    272\u001b[0m \u001b[43m\u001b[49m\u001b[43m)\u001b[49m\n\u001b[1;32m    273\u001b[0m \u001b[38;5;28;01mtry\u001b[39;00m:\n\u001b[1;32m    274\u001b[0m     pa_table \u001b[38;5;241m=\u001b[39m \u001b[38;5;28mself\u001b[39m\u001b[38;5;241m.\u001b[39mapi\u001b[38;5;241m.\u001b[39mparquet\u001b[38;5;241m.\u001b[39mread_table(\n\u001b[1;32m    275\u001b[0m         path_or_handle,\n\u001b[1;32m    276\u001b[0m         columns\u001b[38;5;241m=\u001b[39mcolumns,\n\u001b[0;32m   (...)\u001b[0m\n\u001b[1;32m    279\u001b[0m         \u001b[38;5;241m*\u001b[39m\u001b[38;5;241m*\u001b[39mkwargs,\n\u001b[1;32m    280\u001b[0m     )\n",
      "File \u001b[0;32m/opt/anaconda3/envs/poetry310/lib/python3.10/site-packages/pandas/io/parquet.py:140\u001b[0m, in \u001b[0;36m_get_path_or_handle\u001b[0;34m(path, fs, storage_options, mode, is_dir)\u001b[0m\n\u001b[1;32m    130\u001b[0m handles \u001b[38;5;241m=\u001b[39m \u001b[38;5;28;01mNone\u001b[39;00m\n\u001b[1;32m    131\u001b[0m \u001b[38;5;28;01mif\u001b[39;00m (\n\u001b[1;32m    132\u001b[0m     \u001b[38;5;129;01mnot\u001b[39;00m fs\n\u001b[1;32m    133\u001b[0m     \u001b[38;5;129;01mand\u001b[39;00m \u001b[38;5;129;01mnot\u001b[39;00m is_dir\n\u001b[0;32m   (...)\u001b[0m\n\u001b[1;32m    138\u001b[0m     \u001b[38;5;66;03m# fsspec resources can also point to directories\u001b[39;00m\n\u001b[1;32m    139\u001b[0m     \u001b[38;5;66;03m# this branch is used for example when reading from non-fsspec URLs\u001b[39;00m\n\u001b[0;32m--> 140\u001b[0m     handles \u001b[38;5;241m=\u001b[39m \u001b[43mget_handle\u001b[49m\u001b[43m(\u001b[49m\n\u001b[1;32m    141\u001b[0m \u001b[43m        \u001b[49m\u001b[43mpath_or_handle\u001b[49m\u001b[43m,\u001b[49m\u001b[43m \u001b[49m\u001b[43mmode\u001b[49m\u001b[43m,\u001b[49m\u001b[43m \u001b[49m\u001b[43mis_text\u001b[49m\u001b[38;5;241;43m=\u001b[39;49m\u001b[38;5;28;43;01mFalse\u001b[39;49;00m\u001b[43m,\u001b[49m\u001b[43m \u001b[49m\u001b[43mstorage_options\u001b[49m\u001b[38;5;241;43m=\u001b[39;49m\u001b[43mstorage_options\u001b[49m\n\u001b[1;32m    142\u001b[0m \u001b[43m    \u001b[49m\u001b[43m)\u001b[49m\n\u001b[1;32m    143\u001b[0m     fs \u001b[38;5;241m=\u001b[39m \u001b[38;5;28;01mNone\u001b[39;00m\n\u001b[1;32m    144\u001b[0m     path_or_handle \u001b[38;5;241m=\u001b[39m handles\u001b[38;5;241m.\u001b[39mhandle\n",
      "File \u001b[0;32m/opt/anaconda3/envs/poetry310/lib/python3.10/site-packages/pandas/io/common.py:882\u001b[0m, in \u001b[0;36mget_handle\u001b[0;34m(path_or_buf, mode, encoding, compression, memory_map, is_text, errors, storage_options)\u001b[0m\n\u001b[1;32m    873\u001b[0m         handle \u001b[38;5;241m=\u001b[39m \u001b[38;5;28mopen\u001b[39m(\n\u001b[1;32m    874\u001b[0m             handle,\n\u001b[1;32m    875\u001b[0m             ioargs\u001b[38;5;241m.\u001b[39mmode,\n\u001b[0;32m   (...)\u001b[0m\n\u001b[1;32m    878\u001b[0m             newline\u001b[38;5;241m=\u001b[39m\u001b[38;5;124m\"\u001b[39m\u001b[38;5;124m\"\u001b[39m,\n\u001b[1;32m    879\u001b[0m         )\n\u001b[1;32m    880\u001b[0m     \u001b[38;5;28;01melse\u001b[39;00m:\n\u001b[1;32m    881\u001b[0m         \u001b[38;5;66;03m# Binary mode\u001b[39;00m\n\u001b[0;32m--> 882\u001b[0m         handle \u001b[38;5;241m=\u001b[39m \u001b[38;5;28;43mopen\u001b[39;49m\u001b[43m(\u001b[49m\u001b[43mhandle\u001b[49m\u001b[43m,\u001b[49m\u001b[43m \u001b[49m\u001b[43mioargs\u001b[49m\u001b[38;5;241;43m.\u001b[39;49m\u001b[43mmode\u001b[49m\u001b[43m)\u001b[49m\n\u001b[1;32m    883\u001b[0m     handles\u001b[38;5;241m.\u001b[39mappend(handle)\n\u001b[1;32m    885\u001b[0m \u001b[38;5;66;03m# Convert BytesIO or file objects passed with an encoding\u001b[39;00m\n",
      "\u001b[0;31mFileNotFoundError\u001b[0m: [Errno 2] No such file or directory: '/create_final_documents.parquet'"
     ]
    }
   ],
   "source": [
    "text_df = pd.read_parquet(f\"{Graph_rag_artifacts}/create_final_documents.parquet\")\n",
    "text_df.head(10)\n"
   ]
  },
  {
   "cell_type": "code",
   "execution_count": 1,
   "metadata": {},
   "outputs": [
    {
     "name": "stdout",
     "output_type": "stream",
     "text": [
      "GraphDatabase initialized.\n"
     ]
    }
   ],
   "source": [
    "from Utils.knowledge_graph_database import KnowledgeGraphDatabase\n",
    "KG = KnowledgeGraphDatabase()"
   ]
  },
  {
   "cell_type": "code",
   "execution_count": 2,
   "metadata": {},
   "outputs": [
    {
     "name": "stdout",
     "output_type": "stream",
     "text": [
      "\n",
      "        DROP INDEX entity_name_index IF EXISTS\n",
      "\n",
      "        DROP INDEX entity_description_vector_index IF EXISTS\n",
      "\n",
      "        DROP INDEX relationship_description_vector_index IF EXISTS\n",
      "\n",
      "        DROP INDEX community_summary_vector_index IF EXISTS\n",
      "All indexes deleted.\n",
      "All schema deleted.\n",
      "All data deleted.\n",
      "All data and schema deleted.\n"
     ]
    }
   ],
   "source": [
    "KG.delete_all()"
   ]
  },
  {
   "cell_type": "code",
   "execution_count": 3,
   "metadata": {},
   "outputs": [
    {
     "name": "stdout",
     "output_type": "stream",
     "text": [
      "\n",
      "        create constraint chunk_id          if not exists for (chunk:__Chunk__)                 require chunk.id            is unique\n",
      "\n",
      "        create constraint document_id       if not exists for (document:__Document__)           require document.id         is unique\n",
      "\n",
      "        create constraint community_id      if not exists for (community:__Community__)         require community.id        is unique\n",
      "\n",
      "        create constraint entity_id         if not exists for (entity:__Entity__)               require entity.id           is unique\n",
      "\n",
      "        create constraint entity_name       if not exists for (entity:__Entity__)               require entity.name         is unique\n",
      "\n",
      "        create constraint covariate_title   if not exists for (covariate:__Covariate__)         require covariate.title     is unique\n",
      "\n",
      "        create constraint relationship_id   if not exists for ()-[relationship:RELATED]->()     require relationship.id     is unique\n",
      "Constraints created.\n",
      "{'_contains_updates': True, 'labels_added': 11, 'nodes_created': 11, 'properties_set': 33}\n",
      "11 rows in 0.0702216625213623 s.\n",
      "Documents imported.\n",
      "{'_contains_updates': True, 'labels_added': 523, 'relationships_created': 523, 'nodes_created': 523, 'properties_set': 1569}\n",
      "523 rows in 0.5933785438537598 s.\n",
      "Text Units imported.\n",
      "{'_contains_updates': True, 'labels_added': 1000, 'relationships_created': 2618, 'nodes_created': 1000, 'properties_set': 4000}\n",
      "{'_contains_updates': True, 'labels_added': 1000, 'relationships_created': 1940, 'nodes_created': 1000, 'properties_set': 4000}\n",
      "{'_contains_updates': True, 'labels_added': 1000, 'relationships_created': 1626, 'nodes_created': 1000, 'properties_set': 4000}\n",
      "{'_contains_updates': True, 'labels_added': 351, 'relationships_created': 499, 'nodes_created': 351, 'properties_set': 1404}\n",
      "3351 rows in 6.267022609710693 s.\n",
      "Entities imported.\n",
      "{'_contains_updates': True, 'relationships_created': 1000, 'properties_set': 6000}\n",
      "{'_contains_updates': True, 'relationships_created': 1000, 'properties_set': 6000}\n",
      "{'_contains_updates': True, 'relationships_created': 1000, 'properties_set': 6000}\n",
      "{'_contains_updates': True, 'relationships_created': 1000, 'properties_set': 6000}\n",
      "{'_contains_updates': True, 'relationships_created': 566, 'properties_set': 3396}\n",
      "4566 rows in 4.410579204559326 s.\n",
      "Relationships imported.\n",
      "{'_contains_updates': True, 'labels_added': 548, 'relationships_created': 15675, 'nodes_created': 548, 'properties_set': 1644}\n",
      "548 rows in 20.128302574157715 s.\n",
      "Communities imported.\n",
      "{'_contains_updates': True, 'labels_added': 2971, 'relationships_created': 2971, 'nodes_created': 2971, 'properties_set': 12201}\n",
      "548 rows in 1.9383530616760254 s.\n",
      "Community Reports imported.\n",
      "All data imported.\n",
      "Entity name index created.\n",
      "Index name:  entity_name_index\n",
      "Entity description vector index created.\n",
      "Index name:  entity_description_vector_index\n",
      "Relationship description vector index created.\n",
      "Index name:  relationship_description_vector_index\n",
      "Community summary vector index created.\n",
      "Index name:  community_summary_vector_index\n",
      "All vector indexes created.\n",
      "Community weight created.\n",
      "Graph RAG transformed to Neo4j.\n"
     ]
    }
   ],
   "source": [
    "KG.transform_graph_rag_to_neo4j(\"/home/yarikama/VGMARS/graph_rag_embedding_experimental/output/20240912-151541/artifacts\")"
   ]
  },
  {
   "cell_type": "code",
   "execution_count": 1,
   "metadata": {},
   "outputs": [
    {
     "name": "stdout",
     "output_type": "stream",
     "text": [
      "Initializing sparse embedder...\n",
      "Embedder initialized\n",
      "Connected to Milvus at localhost:19530 with database default.\n",
      "VectorDatabase initialized.\n",
      "GraphDatabase initialized.\n",
      "Retriever initialized\n"
     ]
    },
    {
     "data": {
      "text/plain": [
       "{'relationship_descriptions': ['Arcite and the Countryman share a dynamic relationship characterized by both inquiry and camaraderie. Their conversations revolve around the games, suggesting a mutual interest and engagement in the events they attend. This interaction not only highlights a friendly rapport but also emphasizes a shared purpose, as they come together to discuss and experience the games. Through their exchanges, they exemplify the social bonds that can form around common interests, reflecting the values of community and collaboration in their pursuits.',\n",
       "  \"Arcite's thoughts about the Garden reflect his longing for the Lady and the beauty he is separated from, indicating a relationship of desire and loss.\",\n",
       "  'Arcite expresses admiration for Queen Emilia, indicating a romantic interest and emotional connection.',\n",
       "  \"Arcite, a character deeply intertwined with themes of nobility, exemplifies a dignified demeanor even in the face of adversity. His noble qualities are further highlighted through his pursuit of Emilia, which is portrayed as an honorable endeavor despite the competitive rivalry he faces. This framing of Arcite's actions within the context of nobility underscores his commitment to maintaining integrity and honor, reflecting the societal values associated with noble conduct.\",\n",
       "  'Arcite offers wine to Palamon, suggesting a moment of bonding and relief amidst their troubles.']}"
      ]
     },
     "execution_count": 1,
     "metadata": {},
     "output_type": "execute_result"
    }
   ],
   "source": [
    "from Utils.retriever import Retriever\n",
    "retriever = Retriever()\n",
    "retriever.local_retrieve_entity_keyword_search([\"alice\"],10,15)\n",
    "retriever.local_retrieve_relationship_vector_search([\"Where is the 5th incarnation take place?\"])"
   ]
  },
  {
   "cell_type": "code",
   "execution_count": 5,
   "metadata": {},
   "outputs": [
    {
     "data": {
      "text/plain": [
       "{'entities_name': ['ALICE',\n",
       "  'ALDRIGE',\n",
       "  'OTHERS',\n",
       "  'ALTAR',\n",
       "  'GODDESS',\n",
       "  'LIGHTS',\n",
       "  'EASTER EGG',\n",
       "  'ADVERSARIES',\n",
       "  'MAIDEN',\n",
       "  'PALLAS',\n",
       "  'TOYS',\n",
       "  'PAILING',\n",
       "  'DARKNESS',\n",
       "  'ALEC',\n",
       "  'DAY AND NIGHT'],\n",
       " 'entities_description': ['',\n",
       "  '',\n",
       "  '',\n",
       "  '',\n",
       "  '',\n",
       "  '',\n",
       "  'The term \"EASTER EGG\" refers to a symbolic element that appears on the window, representing the magic and wonder inherent in the interactions among the characters. This imagery suggests a deeper layer of meaning within the narrative, highlighting the enchanting qualities of their relationships and experiences.',\n",
       "  '',\n",
       "  '',\n",
       "  '',\n",
       "  '',\n",
       "  'The paling is a fence that separates the gardens of the Countess and the narrator, symbolizing both physical and emotional boundaries between them.',\n",
       "  '',\n",
       "  'Alec is a character who is attacked by the narrator, showing fear and desperation during the encounter.',\n",
       "  'Day and Night are figures created by Angelo, noted for their unique attributes that reflect the beauty standards of Liguria.'],\n",
       " 'chunks': [' hands, rocking himself to and fro. He is a big, powerful chap, clean-shaven, and very swarthy--something\\nlike Aldrige, who helped us in the bogus laundry affair. He jumped up\\nwhen he heard my business, and I had my whistle to my lips to call a\\ncouple of river police, who were round the corner, but he seemed to\\nhave no heart in him, and he held out his hands quietly enough for the\\ndarbies. We brought him along to the cells, and his box as well, for\\nwe thought there might be something incriminating; but, bar a big sharp\\nknife such as most sailors have, we got nothing for our trouble. However, we find that we shall want no more evidence, for on being\\nbrought before the inspector at the station he asked leave to make a\\nstatement, which was, of course, taken down, just as he made it, by our\\nshorthand man. We had three copies typewritten, one of which I\\nenclose. The affair proves, as I always thought it would, to be an\\nextremely simple one, but I am obliged to you for assisting me in my\\ninvestigation. With kind regards, \"Yours very truly, \"G. Lestrade. \"Hum! The investigation really was a very simple one, \" remarked\\nHolmes, \"but I dont think it struck him in that light when he first\\ncalled us in. However, let us see what Jim Browner has to say for\\nhimself. This is his statement as made before Inspector Montgomery at\\nthe Shadwell Police Station, and it has the advantage of being\\nverbatim. \"\\n\\n\\n\"Have I anything to say? Yes, I have a deal to say. I have to make a\\nclean breast of it all. You can hang me, or you can leave me alone. I\\ndont care a plug which you do. I tell you Ive not shut an eye in\\nsleep since I did it, and I dont believe I ever will again until I get\\npast all waking. Sometimes its his face, but most generally its\\nhers. Im never without one or the other before me. He looks frowning\\nand black-like, but she has a kind o surprise upon her face. Ay, the\\nwhite lamb, she might well be surprised when she read death on a face\\nthat had seldom looked anything but love upon her before. \"But it was Sarahs fault, and may the curse of a broken man put a\\nblight on her and set the blood rotting in her veins! Its not that I\\nwant to clear myself. I know that I went back to drink, like the beast\\nthat I was. But she would have forgiven me; she would have stuck as\\nclose to me as a rope to a block if that woman had never darkened our\\ndoor. For Sarah Cushing loved me--thats the root of the business--she\\nloved me until all her love turned to poisonous hate when she knew that\\nI thought more of my wifes footmark in the mud than I did of her whole\\nbody and soul. \"There were three sisters altogether. The old one was just a good\\nwoman, the second was a devil, and the third was an angel. Sarah was\\nthirty-three, and Mary was twenty-nine when I married. We were just as\\nhappy as the day was long when we set up house together, and in all\\nLiverpool there was no better woman than my Mary. And then we asked\\nSarah up for a week, and the week grew into a month, and one thing led\\nto another, until she was just one of ourselves. \"I was blue ribbon at that time, and we were putting a little money\\nby, and all was as bright as a new dollar. My God, whoever would have\\nthought that it could have come to this? Whoever would have dreamed it? \"I used to be home for the week-ends very often, and sometimes if the\\nship were held back for cargo I would have a whole week at a time, and\\nin this way I saw a deal of my sister-in-law, Sarah. She was a fine\\ntall woman, black and quick and fierce, with a proud way of carrying\\nher head, and a glint from her eye like a spark from a flint. But when\\nlittle Mary was there I had never a thought of her, and that I swear as\\nI hope for Gods mercy. \"It had seemed to me sometimes that she liked to be alone with me, or\\nto coax me out for a walk with her, but I had never thought anything of\\nthat. But one evening my eyes were opened. I had come up from the ship\\nand found my wife out, but Sarah at home. \"Wheres Mary? \" I asked. \"Oh, she has gone to',\n",
       "  ' check\\n on you. If you arent back in school\\n and on your way to being a\\n veterinarian in six weeks, you will\\n be dead. Get the hell out of here. Raymond staggers to his feet, heads down an alleyway. Jack\\n and Tyler watch Raymond flee, then Tyler looks at Jack. JACK\\n I feel sick. TYLER\\n Imagine how he feels. Tyler brings the gun to his own head, pulls the trigger --\\n CLICK. Empty. JACK\\n I dont care, that was horrible. Tyler walks away. TYLER\\n Tomorrow will be the most beautiful\\n day of Raymond K. Hessells life. Jack watches Tyler go. TYLER\\n His breakfast will taste better than\\n any meal he has ever eaten. Jack turns to look the direction Raymond ran. He finally\\n turns back, following after Tyler. INT. BUSINESS OFFICE - NIGHT\\n\\n SLOW MOTION: in the deserted office, gasoline filled\\n COMPUTER MONITORS begin to EXPLODE. BOOM. BOOM. BOOM. ! EXT. CITY STREETS -- MORNING\\n\\n Luxury AUTOMOBILES are parked, splattered with BIRD SHIT. EXT. PAPER ST. HOUSE - BACKYARD - DAWN\\n\\n VIEWED OUT 3RD STORY WINDOW: Tyler uses a RAKE, dragging it\\n across rocks and dirt. He stops a moment, rake on his\\n shoulder, staring off. Then, back to work. TYLER\\n (muttering quietly)\\n . You are not how much money you\\n have in the bank. You are not the\\n shoes you wear. Tylers marking a large SQUARE in the weeds and rubble of\\n the backyard, kicking rocks away, dragging the rake. TYLER\\n You are not the contents of your\\n wallet. INT. CITY BUS - NIGHT\\n\\n The DRIVER has a broken nose. The bus is empty, except for\\n Jack, in the very last seat, sleepy. JACK (V. O. )\\n He had a plan. Maybe you just didnt\\n see it till it hit you between the\\n eyes. (pause)\\n But, it started to make sense. in\\n a Tyler sort of way. No fear. No\\n distractions. The ability to let\\n that which does not matter truly\\n slide. EXT. PAPER STREET - NIGHT\\n\\n Jack gets off the bus. As the bus pulls away, we see it\\n dropped Jack off right in front of the house. INT. KITCHEN - MOMENTS LATER\\n\\n Jack enters. Tyler, dressed in FATIGUES and splattered with\\n PAINT, grabs BEERS from the refrigerator. JACK\\n Hey. TYLER\\n Hey. Jack notices ROPE and RAPPELLING TOOLS on the table. Tyler\\n comes to hand Jack a bunch of beers, nod to the living room. TYLER\\n Go on in. Were celebrating. INT. LIVING ROOM - CONTINUOUS\\n\\n Jack, bewildered, enters carrying beers. Tyler does NOT\\n follow. BOB, RICKY and several other fight club guys sit in\\n front at the TV, chanting not too loudly, all also dressed\\n in FATIGUES and splattered with PAINT. RICKY\\n You are not your job. OTHERS TOGETHER\\n You are not your job. RICKY\\n You are not how much money you have\\n in the bank. BOB\\n Shhhh, wait. theyre back to it. Bob goes to turn up the TV. One guy, sixteen years old with\\n an angelic face, ANGEL FACE, gets up to take beer from Jack. ANGEL FACE\\n (to Jack)\\n Great, thanks. Angel face starts distributing beer amongst his cohorts. BOB\\n Shhhhh! Watch! Jack looks to the TV -- it shows a LIVE shot of the \"PARKER\\n MORRIS BUILDING. \" The building has a GIANT, GRINNING FACE\\n PAINTED on it -- two BROKEN WINDOWS for EYES, with flames\\n pouring out. FIRETRUCKS spray water. REPORTER (V. O. )\\n Police Commissioner Jacobs has just\\n arrived. just a second. excuse\\n me, Commissioner, could you tell us\\n what you think has happened? COMMISSIONER JACOBS, a wrinkled official, turns to camera. COMMISSIONER JACOBS (V. O. )\\n We believe this is related to the\\n recent acts of vandalism around the\\n city. Its some kind of organized\\n group, and we are coordinating a\\n rigorous investigation. Jack turns, sees Tyler in the archway, watching him. Tyler\\n tips his beer to toast, pulls back, out of sight. JACK\\n What did you guys do? They all BURST INTO LAUGHTER. They look at Jack and shake\\n their heads. Jack doesnt get it. Suddenly, the guys\\n faces turn to stone. Bob sits rigid. BOB\\n The first rule of Project Mayhem\\n is. you',\n",
       "  ' betwixt ye\\nI part my wishes. PERITHOUS. Honour crowne the worthiest. Exit Theseus, and his traine. PALAMON. The glasse is running now that cannot finish\\nTill one of us expire: Thinke you but thus, That were there ought in me which strove to show\\nMine enemy in this businesse, wert one eye\\nAgainst another, Arme opprest by Arme, I would destroy thoffender, Coz, I would, Though parcell of my selfe: Then from this gather\\nHow I should tender you. ARCITE. I am in labour\\nTo push your name, your auncient love, our kindred\\nOut of my memory; and ith selfe same place\\nTo seate something I would confound: So hoyst we\\nThe sayles, that must these vessells port even where\\nThe heavenly Lymiter pleases. PALAMON. You speake well; Before I turne, Let me embrace thee, Cosen: This I shall never doe agen. ARCITE. One farewell. PALAMON. Why, let it be so: Farewell, Coz. Exeunt Palamon and his\\nKnights. ARCITE. Farewell, Sir. --\\nKnights, Kinsemen, Lovers, yea, my Sacrifices, True worshippers of Mars, whose spirit in you\\nExpells the seedes of feare, and thapprehension\\nWhich still is farther off it, Goe with me\\nBefore the god of our profession: There\\nRequire of him the hearts of Lyons, and\\nThe breath of Tigers, yea, the fearcenesse too, Yea, the speed also, --to goe on, I meane, Else wish we to be Snayles: you know my prize\\nMust be dragd out of blood; force and great feate\\nMust put my Garland on, where she stickes\\nThe Queene of Flowers: our intercession then\\nMust be to him that makes the Campe a Cestron\\nBrymd with the blood of men: give me your aide\\nAnd bend your spirits towards him. They kneele. Thou mighty one, that with thy power hast turnd\\nGreene Neptune into purple, (whose Approach)\\nComets prewarne, whose havocke in vaste Feild\\nVnearthed skulls proclaime, whose breath blowes downe, The teeming Ceres foyzon, who doth plucke\\nWith hand armypotent from forth blew clowdes\\nThe masond Turrets, that both makst and breakst\\nThe stony girthes of Citties: me thy puple, Yongest follower of thy Drom, instruct this day\\nWith military skill, that to thy lawde\\nI may advance my Streamer, and by thee, Be stild the Lord oth day: give me, great Mars, Some token of thy pleasure. Here they fall on their faces as formerly, and there is heard\\n clanging of Armor, with a short Thunder as the burst of a\\nBattaile, whereupon they all rise and bow to the Altar. O Great Corrector of enormous times, Shaker of ore-rank States, thou grand decider\\nOf dustie and old tytles, that healst with blood\\nThe earth when it is sicke, and curst the world\\nOth pluresie of people; I doe take\\nThy signes auspiciously, and in thy name\\nTo my designe march boldly. Let us goe. Exeunt. Enter Palamon and his Knights, with the former observance. PALAMON. Our stars must glister with new fire, or be\\nTo daie extinct; our argument is love, Which if the goddesse of it grant, she gives\\nVictory too: then blend your spirits with mine, You, whose free noblenesse doe make my cause\\nYour personall hazard; to the goddesse Venus\\nCommend we our proceeding, and implore\\nHer power unto our partie. Here they kneele as formerly. Haile, Soveraigne Queene of secrets, who hast power\\nTo call the feircest Tyrant from his rage, And weepe unto a Girle; that hast the might, Even with an ey-glance, to choke Marsis Drom\\nAnd turne thallarme to whispers; that canst make\\nA Criple florish with his Crutch, and cure him\\nBefore Apollo; that mayst force the King\\nTo be his subjects vassaile, and induce\\nStale gravitie to daunce; the pould Bachelour--\\nWhose youth, like wonton Boyes through Bonfyres, Have skipt thy flame--at seaventy thou can',\n",
       "  ' the feircest Tyrant from his rage, And weepe unto a Girle; that hast the might, Even with an ey-glance, to choke Marsis Drom\\nAnd turne thallarme to whispers; that canst make\\nA Criple florish with his Crutch, and cure him\\nBefore Apollo; that mayst force the King\\nTo be his subjects vassaile, and induce\\nStale gravitie to daunce; the pould Bachelour--\\nWhose youth, like wonton Boyes through Bonfyres, Have skipt thy flame--at seaventy thou canst catch\\nAnd make him, to the scorne of his hoarse throate, Abuse yong laies of love: what godlike power\\nHast thou not power upon? To Phoebus thou\\nAddst flames hotter then his; the heavenly fyres\\nDid scortch his mortall Son, thine him; the huntresse\\nAll moyst and cold, some say, began to throw\\nHer Bow away, and sigh. Take to thy grace\\nMe, thy vowd Souldier, who doe beare thy yoke\\nAs twer a wreath of Roses, yet is heavier\\nThen Lead it selfe, stings more than Nettles. I have never beene foule mouthd against thy law, Nevr reveald secret, for I knew none--would not, Had I kend all that were; I never practised\\nVpon mans wife, nor would the Libells reade\\nOf liberall wits; I never at great feastes\\nSought to betray a Beautie, but have blushd\\nAt simpring Sirs that did; I have beene harsh\\nTo large Confessors, and have hotly askd them\\nIf they had Mothers: I had one, a woman, And women twer they wrongd. I knew a man\\nOf eightie winters, this I told them, who\\nA Lasse of foureteene brided; twas thy power\\nTo put life into dust; the aged Crampe\\nHad screwd his square foote round, The Gout had knit his fingers into knots, Torturing Convulsions from his globie eyes, Had almost drawne their spheeres, that what was life\\nIn him seemd torture: this Anatomie\\nHad by his yong faire pheare a Boy, and I\\nBeleevd it was him, for she swore it was, And who would not beleeve her? briefe, I am\\nTo those that prate and have done no Companion; To those that boast and have not a defyer; To those that would and cannot a Rejoycer. Yea, him I doe not love, that tells close offices\\nThe fowlest way, nor names concealements in\\nThe boldest language: such a one I am, And vow that lover never yet made sigh\\nTruer then I. O, then, most soft, sweet goddesse, Give me the victory of this question, which\\nIs true loves merit, and blesse me with a signe\\nOf thy great pleasure. Here Musicke is heard, Doves are seene to flutter; they fall\\n againe upon their faces, then on their knees. PALAMON. O thou, that from eleven to ninetie raignst\\nIn mortall bosomes, whose chase is this world, And we in heards thy game: I give thee thankes\\nFor this faire Token, which, being layd unto\\nMine innocent true heart, armes in assurance They bow. My body to this businesse. Let us rise\\nAnd bow before the goddesse: Time comes on. Exeunt. Still Musicke of Records. Enter Emilia in white, her haire about her shoulders, (wearing) a\\n wheaten wreath: One in white holding up her traine, her haire stucke\\n with flowers: One before her carrying a silver Hynde, in which is\\n conveyd Incense and sweet odours, which being set upon the Altar\\n (of Diana) her maides standing a loofe, she sets fire to it; then\\n they curtsey and kneele. EMILIA. O sacred, shadowie, cold and constant Queene, Abandoner of Revells, mute, contemplative, Sweet, solitary, white as chaste, and pure\\nAs windefand Snow, who to thy femall knights\\nAlowst no more blood than will make a blush, Which is their orders robe: I heere, thy Priest, Am humbled fore thine Altar; O vouchsafe, With that thy rare greene eye, which never yet\\nBeheld thing maculate, looke on thy virgin; And, sacred silver Mistris, lend thine',\n",
       "  ', with a suitcase. He holds a paper bag\\n wrapped in twine. COBB\\n Were going to Reno. I want a\\n woman. STUMP\\n Theres a blizzard out there! COBB\\n When a man wants a woman, a man\\n wants a woman. (CONTINUED)\\n\\n 30. 28 CONTINUED: 28\\n STUMP\\n Lets just put on some soup, build\\n a fire, and we can work on the\\n book. COBB\\n How cozy. (holds up the\\n paper bag)\\n I got 25 thousand in cash and\\n negotiable securities in here. Dont let it out of your sight. STUMP\\n Look, Ty, the roads are impassable. COBB\\n You lead, Ill follow. STUMP\\n Im not driving in this stuff! COBB\\n I need a woman! CUT TO: 29 EXT. TWO LANE HIGHWAY IN SIERRAS - DUSK 29\\n A blizzard -- two cars ease down an ice-covered road\\n in an increasingly horrendous snowstorm. 30 INT. STUMPS CAR - DUSK 30\\n Stump is terrified, straining to see through the\\n flurries which grow thicker by the second. He keeps\\n checking his rearview mirror. POV SHOT THROUGH REARVIEW MIRROR\\n Cobb at the wheel of a huge, black, Chrysler Imperial. He looks possessed. 31 INT. COBBS CAR - DUSK 31\\n Cobb at the wheel -- A madman. COBB\\n You call that driving, Alice? ! My sister can drive faster than\\n that! Step on it! (CONTINUED)\\n\\n 31. 31 CONTINUED: 31\\n He grabs a bottle of bourbon on the seat and chugs it\\n down. 32 EXT. HIGHWAY IN BLIZZARD - DUSK 32\\n\\n A treacherous cliff drops quickly away from the road, certain death protected by an inadequate guardrail. Into a blizzard, increasingly out of control, the cars\\n slip and slide and skid down the mountain. Cobb leans on his HORN -- HONK, HONK, HONK. 33 INT. STUMPS CAR - DUSK 33\\n\\n Stump struggles to hang on as the car fishtails on\\n the edge of losing control. He keeps glancing at\\n Cobb who continues screaming. COBB\\n Get off the road -- ya cant\\n drive any faster? ! Move it! Stump is caught between fear and rage. STUMP\\n Fuck you! I aint dying in\\n this God damn ice cube! 34 INT. COBBS CAR - DUSK 34\\n\\n Cobbs eyes flare -- The WIND roars, the blizzard beats\\n against the windshield. COBB\\n (muttering)\\n The man drives like an old woman. Cobb steps on the gas -- His car pulls out into the\\n oncoming lane and accelerates to pass. 35 EXT. HIGHWAY IN BLIZZARD - DUSK 35\\n\\n Cobbs car passes Stumps car down the steep grade. Insane, impossible, suicidal -- not another car on the\\n road, the highway closed, barely visible. and here\\n comes Cobb. Stump stares in disbelief as he clings to the wheel. 32. 36 STUMPS POV 36\\n Cobb waves his fist as he speeds past --\\n\\n\\n37 CLOSE ON COBB 37\\n He laughs, cackling madly at Stump. COBB\\n Drive, motherfucker, drive! 38 STUMPS POV 38\\n The black Chrysler rushes down the mountain into the\\n raging storm. STUMP\\n struggles to see through the windshield -- snow is\\n swirling everywhere. STUMPS POV\\n Cobbs car disappears into the blizzard, fishtailing as\\n it goes. BACK TO SCENE\\n STUMP\\n Jesus. 39 EXT. HIGHWAY 39\\n\\n Stumps car creeps along the edge of a deep ravine that\\n plunges to a raging, icy river. The car fishtails, straightens, and continues on, slowly groping down the\\n mountain. 40 CLOSE ON STUMP 40\\n\\n Sheer terror. It takes his full powers of concentration\\n to keep the car on the road. STUMP\\n (to himself)\\n Hes a goner, Al, save your own\\n God damn ass. (CONTINUED)\\n\\n 33. 40 CONTINUED: 40\\n CLOSER ON STUMP\\n\\n He sees something. 41 EXT. HIGHWAY 41\\n\\n His car lights reveal tire tracks in the snowdrifts on\\n the highway. The tracks skid wildly, clearly out of\\n control, and head straight off the road. 42 ANOTHER ANGLE 42\\n Stump stops his car and gets out -- He hurries to the\\n edge of the road where the bank'],\n",
       " 'communities': ['This community centers around the interactions between the Doctor, the Wooer, and various characters, including the Daughter and Daugh. The relationships highlight themes of medical authority, romantic pursuit, and emotional complexity, reflecting societal values related to care, love, and rivalry.',\n",
       "  \"Lou's Tavern serves as a central hub for social interaction, with key entities including Irvine, the bartender, and the jukebox, which enhances the tavern's atmosphere. The relationships among these entities highlight the communal bonds formed in the tavern, as well as the underlying tensions related to ownership and operational control.\",\n",
       "  'The community centers around the concept of adversaries in war, particularly focusing on their innovative strategies known as original actions. The relationships highlight how these adversaries engage in actions that challenge the defensive capabilities of other nations, creating a dynamic interplay of conflict and strategy.',\n",
       "  \"This community centers around the interactions between characters and the goddess, emphasizing the significance of music, offerings, and rituals in establishing spiritual connections. Key entities include the goddess, music, the silver hynde, and the character Emilia, all of which play vital roles in the narrative's exploration of devotion and cultural expression.\",\n",
       "  \"The community centers around Jim Browner, a complex character entangled in a murder investigation, and his relationships with the Cushing family, particularly with Miss Cushing and her sisters. The dynamics of guilt, familial ties, and emotional turmoil are pivotal in understanding the narrative's progression and the societal reflections it offers.\"],\n",
       " 'inside_relations': ['Adversaries are responsible for initiating original actions that challenge the defensive capabilities of their opponents.',\n",
       "  'The figure of Night is compared to the Pensieroso statue, indicating a relationship in artistic representation.',\n",
       "  'The silver hynde is an offering to the goddess, indicating a relationship of devotion and sacrifice in the ritual.',\n",
       "  'The figures of Day and Night are creations of Angelo, showcasing his artistic style and thematic focus.',\n",
       "  'The presence of music during the rituals suggests a relationship of celebration and connection to the divine, enhancing the worship experience.'],\n",
       " 'outside_relations': ['Adversaries are responsible for initiating original actions that challenge the defensive capabilities of their opponents.',\n",
       "  'The figure of Night is compared to the Pensieroso statue, indicating a relationship in artistic representation.',\n",
       "  'The figures of Day and Night are creations of Angelo, showcasing his artistic style and thematic focus.',\n",
       "  'The silver hynde is an offering to the goddess, indicating a relationship of devotion and sacrifice in the ritual.',\n",
       "  'The presence of music during the rituals suggests a relationship of celebration and connection to the divine, enhancing the worship experience.']}"
      ]
     },
     "execution_count": 5,
     "metadata": {},
     "output_type": "execute_result"
    }
   ],
   "source": [
    "retriever.local_retrieve_entity_vector_search([\"alice\"], 15)"
   ]
  },
  {
   "cell_type": "code",
   "execution_count": 3,
   "metadata": {},
   "outputs": [
    {
     "data": {
      "text/plain": [
       "{'retrieved_relationships': [({}, 'RELATED', {}),\n",
       "  ({}, 'RELATED', {}),\n",
       "  ({}, 'RELATED', {}),\n",
       "  ({}, 'RELATED', {}),\n",
       "  ({}, 'RELATED', {})]}"
      ]
     },
     "execution_count": 3,
     "metadata": {},
     "output_type": "execute_result"
    }
   ],
   "source": []
  },
  {
   "cell_type": "code",
   "execution_count": null,
   "metadata": {},
   "outputs": [],
   "source": []
  }
 ],
 "metadata": {
  "kernelspec": {
   "display_name": "poetry310",
   "language": "python",
   "name": "python3"
  },
  "language_info": {
   "codemirror_mode": {
    "name": "ipython",
    "version": 3
   },
   "file_extension": ".py",
   "mimetype": "text/x-python",
   "name": "python",
   "nbconvert_exporter": "python",
   "pygments_lexer": "ipython3",
   "version": "3.10.14"
  }
 },
 "nbformat": 4,
 "nbformat_minor": 2
}
