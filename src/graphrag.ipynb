{
 "cells": [
  {
   "cell_type": "markdown",
   "metadata": {},
   "source": [
    "# Load dataset from NarrativeQA"
   ]
  },
  {
   "cell_type": "markdown",
   "metadata": {},
   "source": [
    "We use Narrative from Question Generation and RAG Evaluation"
   ]
  },
  {
   "cell_type": "code",
   "execution_count": null,
   "metadata": {},
   "outputs": [],
   "source": [
    "import pandas as pd\n",
    "from Utils import *\n",
    "data_loader = DatasetLoader()\n",
    "from datasets import load_dataset\n",
    "import os\n",
    "\n",
    "vector_DB = VectorDatabase()\n",
    "embedder = Embedder()\n",
    "data_processor = DataProcessor(embedder=embedder, vectordatabase=vector_DB)"
   ]
  },
  {
   "cell_type": "code",
   "execution_count": null,
   "metadata": {},
   "outputs": [],
   "source": [
    "vector_DB.list_collections()"
   ]
  },
  {
   "cell_type": "code",
   "execution_count": null,
   "metadata": {},
   "outputs": [],
   "source": [
    "def extract_narrativeqa_text(split='train'):\n",
    "    # 載入數據集\n",
    "    dataset = load_dataset(\"deepmind/narrativeqa\", split=split)\n",
    "    \n",
    "    # 用於存儲唯一文本的字典\n",
    "    unique_summaries = {}\n",
    "    unique_documents = {}\n",
    "    \n",
    "    total_summary_chars = 0\n",
    "    total_document_chars = 0\n",
    "    \n",
    "    # 用於存儲問題和答案的列表\n",
    "    questions = []\n",
    "    answers = []\n",
    "    \n",
    "    # 從每個示例中提取文本\n",
    "    for example in dataset:\n",
    "        summary = example['document']['summary']['text']\n",
    "        document = example['document']['text']\n",
    "        metadata = example['document']['kind'] + \"\\\\\" + example['document']['summary']['title']\n",
    "        \n",
    "        # 只有當摘要和文檔都是唯一的時才添加到 df_doc\n",
    "        if summary not in unique_summaries and document not in unique_documents:\n",
    "            unique_summaries[summary] = metadata\n",
    "            unique_documents[document] = metadata\n",
    "            total_summary_chars += len(summary)\n",
    "            total_document_chars += len(document)\n",
    "        \n",
    "        # 總是添加問題和答案到 df_qa\n",
    "        questions.append(example['question']['text'])\n",
    "        answers_text = \"\"\n",
    "        for answer in example['answers']:\n",
    "            answers_text += answer['text'] + \", \"\n",
    "        answers.append(answers_text)\n",
    "            \n",
    "    # 從字典創建列表\n",
    "    summaries = list(unique_summaries.keys())\n",
    "    documents = list(unique_documents.keys())\n",
    "    metadata = [unique_summaries[s] for s in summaries]  # 將元數據與摘要對齊\n",
    "    \n",
    "    # 計算平均值\n",
    "    num_examples = len(summaries)\n",
    "    avg_summary_chars = total_summary_chars / num_examples if num_examples > 0 else 0\n",
    "    avg_document_chars = total_document_chars / num_examples if num_examples > 0 else 0\n",
    "    \n",
    "    # 創建 df_doc DataFrame\n",
    "    df_doc = pd.DataFrame({\n",
    "        'summary': summaries,\n",
    "        'document': documents,\n",
    "        'metadata': metadata\n",
    "    })\n",
    "    \n",
    "    # 創建 df_qa DataFrame\n",
    "    df_qa = pd.DataFrame({\n",
    "        'questions': questions,\n",
    "        'ground_truths': answers,\n",
    "        'answers': ['' for _ in range(len(questions))],\n",
    "        'context': ['' for _ in range(len(questions))]\n",
    "    })\n",
    "    \n",
    "    print(f'唯一文檔數量: {num_examples}')\n",
    "    print(f'問答對數量: {len(df_qa)}')\n",
    "    print(f'平均摘要長度: {avg_summary_chars:.2f} 字符')\n",
    "    print(f'平均文檔長度: {avg_document_chars:.2f} 字符')\n",
    "    \n",
    "    return df_doc, df_qa"
   ]
  },
  {
   "cell_type": "code",
   "execution_count": null,
   "metadata": {},
   "outputs": [],
   "source": [
    "# df_doc, df_qa = extract_narrativeqa_text(split=\"train\")\n",
    "# df_doc.to_parquet(\".parquet/narrative_qa_doc_full.parquet\")\n",
    "# df_qa.to_parquet(\".parquet/narrative_qa_qa_full.parquet\")\n",
    "df_doc = pd.read_parquet(\".parquet/narrative_qa_doc_full.parquet\")\n",
    "df_qa = pd.read_parquet(\".parquet/narrative_qa_qa_full.parquet\")\n",
    "\n",
    "df_doc_sample = df_doc.sample(frac=0.01, random_state=42)\n",
    "# df_qa_sample = df_qa.sample(frac=0.05, random_state=42)\n",
    "df_doc_sample.to_parquet(\".parquet/narrative_qa_doc_sample_11.parquet\")\n",
    "# df_qa_sample.to_parquet(\".parquet/narrative_qa_qa_sample_11.parquet\")\n",
    "# df_doc_sample"
   ]
  },
  {
   "cell_type": "code",
   "execution_count": null,
   "metadata": {},
   "outputs": [],
   "source": [
    "# load parquet\n",
    "df_doc_sample = pd.read_parquet(\".parquet/narrative_qa_doc_sample_11.parquet\")\n",
    "\n"
   ]
  },
  {
   "cell_type": "markdown",
   "metadata": {},
   "source": [
    "# Transform the dataframe into .txts"
   ]
  },
  {
   "cell_type": "code",
   "execution_count": null,
   "metadata": {},
   "outputs": [],
   "source": [
    "\n",
    "import re\n",
    "from bs4 import BeautifulSoup\n",
    "import unicodedata\n",
    "\n",
    "def preprocess_content(content: str) -> str:\n",
    "    soup = BeautifulSoup(content, 'html.parser')\n",
    "    text = soup.get_text()\n",
    "\n",
    "    # unify to NFKC normalization form\n",
    "    text = unicodedata.normalize('NFKC', text)\n",
    "\n",
    "    # remove url\n",
    "    text = re.sub(r'http[s]?://(?:[a-zA-Z]|[0-9]|[$-_@.&+]|[!*\\\\(\\\\),]|(?:%[0-9a-fA-F][0-9a-fA-F]))+', '', text)\n",
    "\n",
    "    # remove extra whitespace\n",
    "    text = re.sub(r'[ \\t]+', ' ', text).strip()\n",
    "\n",
    "    # remove special characters, but keep some punctuation\n",
    "    text = re.sub(r'[^\\w\\s.,!?;:()\"-]', '', text)\n",
    "\n",
    "    # unify quotes\n",
    "    text = text.replace('\"', '\"').replace('\"', '\"')\n",
    "\n",
    "    # remove consecutive punctuation\n",
    "    text = re.sub(r'([.,!?;:])\\1+', r'\\1', text)\n",
    "\n",
    "    # ensure there is appropriate whitespace between sentences\n",
    "    text = re.sub(r'([.,!?;:])\\s*', r'\\1 ', text)\n",
    "\n",
    "    return text.strip()\n",
    "\n",
    "def write_text_to_files_by_metadata(df):\n",
    "    # Ensure the dataframe has the required columns\n",
    "    if not all(col in df.columns for col in ['document', 'metadata']):\n",
    "        raise ValueError(\"Dataframe must contain 'document' and 'metadata' columns\")\n",
    "\n",
    "    os.makedirs(\".txt/\", exist_ok=True)\n",
    "    \n",
    "    # Dictionary to keep track of file handles\n",
    "    file_handles = {}\n",
    "\n",
    "    try:\n",
    "        for _, row in df.iterrows():\n",
    "            metadata = row['metadata']\n",
    "            metadata = metadata.replace(\" \", \"_\").replace(\"/\", \"_\").replace(\"\\\\\", \"_\").replace(\":\", \"_\").replace(\"\\\"\", \"\")\n",
    "            document = preprocess_content(row['document'])\n",
    "\n",
    "            # Create or get file handle\n",
    "            if metadata not in file_handles:\n",
    "                filename = f\".txt/{metadata}.txt\"\n",
    "                file_handles[metadata] = open(filename, 'a', encoding='utf-8')\n",
    "\n",
    "            # Write document to file\n",
    "            file_handles[metadata].write(document + \"\\n\\n\")  # Add two newlines for separation\n",
    "\n",
    "    finally:\n",
    "        # Close all file handles\n",
    "        for handle in file_handles.values():\n",
    "            handle.close()\n",
    "\n",
    "    print(f\"Files created: {', '.join(f'{metadata}.txt' for metadata in file_handles.keys())}\")"
   ]
  },
  {
   "cell_type": "code",
   "execution_count": null,
   "metadata": {},
   "outputs": [],
   "source": [
    "write_text_to_files_by_metadata(df_doc_sample)\n"
   ]
  },
  {
   "cell_type": "markdown",
   "metadata": {},
   "source": [
    "# Embedder into Milvus (GPU) for txts"
   ]
  },
  {
   "cell_type": "code",
   "execution_count": null,
   "metadata": {},
   "outputs": [],
   "source": [
    "data_processor.directory_files_process(\"narrative_qa_full_gpu\", \".txt/\", True, True)"
   ]
  },
  {
   "cell_type": "markdown",
   "metadata": {},
   "source": [
    "# Import GRAPH RAG data to neo4j"
   ]
  },
  {
   "cell_type": "code",
   "execution_count": null,
   "metadata": {},
   "outputs": [],
   "source": [
    "knowledge_DB = KnowledgeGraphDatabase()"
   ]
  },
  {
   "cell_type": "code",
   "execution_count": null,
   "metadata": {},
   "outputs": [],
   "source": [
    "knowledge_DB.transform_graph_rag_to_neo4j(datapath=\"../graph_rag_sample/output/20240906-153334/artifacts\")"
   ]
  },
  {
   "cell_type": "code",
   "execution_count": null,
   "metadata": {},
   "outputs": [],
   "source": [
    "retriever = Retriever()\n",
    "retriever.global_retrieve(0)"
   ]
  },
  {
   "cell_type": "markdown",
   "metadata": {},
   "source": [
    "# Test Modular RAG"
   ]
  },
  {
   "cell_type": "code",
   "execution_count": 1,
   "metadata": {},
   "outputs": [
    {
     "name": "stdout",
     "output_type": "stream",
     "text": [
      "['During the last decade what kind of life has Alexis Paulvitch lived?', 'Where does the fifth incarnation take place?', 'What is the importance of the map in this story?', 'Who begins a musical career?', 'What does Mercury peresuade Clotho to do?', 'Where does Nix gather his cult?', 'Why does Luis Cervantes join the rebels?', 'What kind of play is happening at Normans school?', 'Where did Jennie meet George?', 'What kind of business hires senior Gregory when he arrives in Egypt?']\n",
      "['A life of abuse and disease among tribal people. A life of abuse and disease. ', 'New York New York ', 'The map shows the location of Luke Skywalker. It holds the location of Luke ', 'Nat Nat ', 'Kill the emperor kill the emperor ', 'The Mojave Desert. Nix gathers his cult in the Mojave desert. ', 'He was mistreated by the Federales, so he turns on them. He was mistreated by the Federales.  ', 'A reinactment of a witch being hunted and burned at the stake. A play commemorating the execution of a witch in town. ', 'In a hotel she worked at in Columbus At a hotel in Colombus, Ohio. ', 'A merchant firm A merchant firm ']\n"
     ]
    }
   ],
   "source": [
    "import pandas as pd\n",
    "rag_evaluation_dataset = pd.read_parquet(\".parquet/narrative_qa_qa_sample_11.parquet\")\n",
    "dataset_queries = rag_evaluation_dataset[\"questions\"].tolist()[:10:]\n",
    "print(dataset_queries)\n",
    "# print(vector_DB.list_collections())\n",
    "answer = rag_evaluation_dataset[\"ground_truths\"].tolist()[:10:]\n",
    "print(answer)\n"
   ]
  },
  {
   "cell_type": "code",
   "execution_count": 2,
   "metadata": {},
   "outputs": [
    {
     "name": "stderr",
     "output_type": "stream",
     "text": [
      "/opt/anaconda3/envs/poetry310/lib/python3.10/site-packages/pydantic/_internal/_config.py:341: UserWarning: Valid config keys have changed in V2:\n",
      "* 'allow_population_by_field_name' has been renamed to 'populate_by_name'\n",
      "* 'smart_union' has been removed\n",
      "  warnings.warn(message, UserWarning)\n",
      "2024-09-15 12:01:30,192 - 134799736866304 - milvus_client.py-milvus_client:658 - DEBUG: Created new connection using: c4f5bad7afeb48bfa0b7ef564f5dc980\n"
     ]
    },
    {
     "name": "stdout",
     "output_type": "stream",
     "text": [
      "Initializing sparse embedder...\n",
      "Embedder initialized\n",
      "Connected to Milvus at localhost:19530 with database default.\n",
      "VectorDatabase initialized.\n",
      "GraphDatabase initialized.\n",
      "Retriever initialized\n",
      "Agents initialized (with model: \"gpt-4o-mini\" and temperature: \"0.1\")\n",
      "Tasks initialized\n",
      "MultiAgent RAG System initialized\n",
      "index =  0\n",
      "total =  10\n",
      "\u001b[93m Error parsing JSON: Expecting value: line 1 column 1 (char 0). Attempting to handle partial JSON.\u001b[00m\n"
     ]
    },
    {
     "name": "stderr",
     "output_type": "stream",
     "text": [
      "2024-09-15 12:01:34,795 - 134790458115776 - session.py-session:581 - WARNING: Transaction failed and will be retried in 1.184570037513785s (The database is not currently available to serve your request, refer to the database logs for more details. Retrying your request at a later time may succeed.)\n",
      "2024-09-15 12:01:37,995 - 134790458115776 - session.py-session:581 - WARNING: Transaction failed and will be retried in 2.3032135382680354s (The database is not currently available to serve your request, refer to the database logs for more details. Retrying your request at a later time may succeed.)\n",
      "2024-09-15 12:01:42,315 - 134790458115776 - session.py-session:581 - WARNING: Transaction failed and will be retried in 3.2760816445742464s (The database is not currently available to serve your request, refer to the database logs for more details. Retrying your request at a later time may succeed.)\n",
      "2024-09-15 12:01:47,604 - 134790458115776 - session.py-session:581 - WARNING: Transaction failed and will be retried in 7.515021804531598s (The database is not currently available to serve your request, refer to the database logs for more details. Retrying your request at a later time may succeed.)\n"
     ]
    }
   ],
   "source": [
    "from Module import *\n",
    "from Config.output_pydantic import *\n",
    "from langchain_core.runnables.config import RunnableConfig\n",
    "\n",
    "config = RunnableConfig(recursion_limit=1000000)\n",
    "workflow = WorkFlowModularHybridRAG()\n",
    "\n",
    "results = workflow.graph.invoke({\n",
    "    \"specific_collection\": \"narrative_qa_full_gpu\",\n",
    "    \"dataset_queries\": dataset_queries,\n",
    "}, config=config)\n",
    "\n",
    "for result in results:\n",
    "    print(result)\n"
   ]
  },
  {
   "cell_type": "code",
   "execution_count": 3,
   "metadata": {},
   "outputs": [
    {
     "data": {
      "text/plain": [
       "['Over the last decade, Alexis Paulvitch has lived a life characterized by extreme suffering, degradation, and emotional turmoil. Initially fleeing into the jungle to escape the wrath of Tarzan, he fell into the hands of a savage cannibal tribe. This marked the beginning of a harrowing existence where he became the target of relentless abuse, beaten and tortured by the tribe\\'s members. His physical state deteriorated significantly; he suffered from recurrent fevers, smallpox, and the visible scars of his torment, making him appear much older than his actual age. \\n\\nDespite his suffering, Paulvitch\\'s mental state is equally tragic. He is consumed by a \"dull hatred\" towards those who wronged him, particularly his former associate Rokoff, who led him into this nightmare. His thoughts are filled with resentment towards the world around him, including law enforcement and societal order, reflecting a profound emotional disconnection and despair. \\n\\nAfter a decade of misery, he was rescued and taken aboard the Marjorie W., where he received some care. However, his recovery was minimal, and he remained a \"human derelict,\" unable to reintegrate into society or find solace. He adopted a false identity, Michael Sabrov, further illustrating his disconnection from his past self and the life he once led. \\n\\nIn summary, Alexis Paulvitch\\'s life over the last decade has been a tragic narrative of survival amidst torture and emotional desolation, leaving him a broken man with little hope for redemption or recovery. His existence is a poignant reminder of the depths of human suffering and the lasting scars it can leave on both body and mind. \\n\\n**Key Findings:**\\n- **Physical Suffering:** Endured torture and severe health issues, leading to a drastic decline in physical appearance and health.\\n- **Emotional Turmoil:** Dominated by hatred and despair, with no clear path to recovery or revenge.\\n- **Identity Crisis:** Adopted a new identity, reflecting his disconnection from his past and the life he once knew.\\n\\n**Confidence Level:** High, based on the detailed narrative provided. \\n\\n**Metadata:**  \\n- Source: \".txt/gutenberg.txt\"  \\n- Relevant themes: Misery, Torture, Hatred, Survival, Identity Crisis',\n",
       " \"The fifth incarnation does not have enough specific information available in the provided context to determine its exact location. However, based on the themes and topics discussed, it can be inferred that if the fifth incarnation is related to the narrative surrounding Rome, it likely takes place in this historically rich and culturally vibrant city. \\n\\nThe context provided highlights Rome as a modern yet historically significant setting, where characters like Francis have personal connections and experiences. The narrative describes Rome as a place of refuge, with references to significant locations such as the Villa Tiberiana, which Francis contemplates renting. This suggests that the fifth incarnation could be situated within the broader narrative framework of Rome, emphasizing its dual identity as both a contemporary city and a site steeped in history.\\n\\nMoreover, the emotional and cultural significance of Italy, particularly Rome, is underscored throughout the text. The character's longing for Italy and the contrasting experiences with England further suggest that any significant events or incarnations tied to the narrative would likely resonate within the Italian landscape.\\n\\nIn summary, while the specific details of the fifth incarnation's location are not explicitly stated, the analysis of the surrounding context indicates that it is likely to take place in Rome, given its thematic relevance and the character's connections to the city. The lack of direct information about the fifth incarnation remains a gap that could benefit from further exploration.\",\n",
       " 'The importance of the map in this story is multifaceted, serving as a crucial element that connects the characters\\' personal journeys with the broader historical and cultural context of Rome and Italy. \\n\\nFirstly, the map symbolizes the characters\\' navigation through both physical and emotional landscapes. For instance, the character Francis\\'s contemplation of renting the Villa Tiberiana signifies not only a geographical location but also a desire for refuge and a connection to a rich cultural heritage. The map, in this sense, represents a pathway to understanding one\\'s identity and aspirations within the complex backdrop of modern Rome, which is depicted as a blend of historical grandeur and contemporary decay.\\n\\nMoreover, the map serves as a metaphor for the characters\\' internal struggles and their quest for meaning. The narrative highlights the contrast between the vibrant lifestyle of Italy and the character\\'s experiences in England, suggesting that the map is not just a tool for navigation but also a representation of hope and longing. This duality reflects the characters\\' emotional states and their desire to escape the confines of their current realities.\\n\\nAdditionally, the historical context of Rome, as portrayed in the text, emphasizes the city\\'s significance beyond mere geography. The references to historical figures and events, such as the Arch and the Forum, illustrate how the map encapsulates a rich tapestry of history that informs the characters\\' experiences. The map thus becomes a bridge connecting the past with the present, allowing characters to navigate their personal histories while engaging with the broader cultural narrative of Italy.\\n\\nIn conclusion, the map in this story is vital as it encapsulates the characters\\' journeys, aspirations, and emotional struggles, while also serving as a conduit for exploring the rich historical and cultural significance of Rome. It highlights the interplay between personal and collective histories, making it an essential element in understanding the narrative\\'s depth and complexity. \\n\\nConfidence Level: High, based on the comprehensive analysis of the themes, cultural significance, and personal connections presented in the retrieved data. \\n\\nMetadata: The analysis draws from various texts, including movie scripts and literary works, with references to specific quotes from sources such as \".txt/movie.txt\" and \".txt/gutenberg.txt\".',\n",
       " \"A musical career can begin at various stages in life, depending on individual circumstances, interests, and opportunities. Generally, many musicians start their careers in their teenage years, often influenced by personal passion for music, exposure to musical environments, or encouragement from family and friends. \\n\\n1. **Early Exposure and Education**: Many aspiring musicians begin their journey by taking music lessons, participating in school bands or choirs, or engaging in community music programs. This early exposure can foster a love for music and provide foundational skills.\\n\\n2. **Influence of Environment**: The environment plays a crucial role in shaping a musician's career. Those who grow up in musically rich households or communities may find it easier to pursue music as a career. This includes access to instruments, mentorship from experienced musicians, and opportunities to perform.\\n\\n3. **Personal Motivation**: A strong personal desire to create or perform music often drives individuals to start their careers. This motivation can stem from a variety of sources, including personal experiences, cultural influences, or a desire for self-expression.\\n\\n4. **Networking and Opportunities**: As individuals progress in their musical journey, networking becomes essential. Many musicians find opportunities through connections made in school, local music scenes, or social media platforms. Collaborating with other artists can also lead to career advancements.\\n\\n5. **Professional Development**: For those serious about a musical career, pursuing formal education in music, attending workshops, or seeking mentorship can provide valuable skills and industry knowledge. This professional development is crucial for navigating the competitive music landscape.\\n\\n6. **Diverse Pathways**: It's important to note that there is no single pathway to a musical career. Some may choose to pursue music full-time, while others may balance music with other careers. The rise of digital platforms has also opened new avenues for musicians to share their work and reach audiences globally.\\n\\nIn summary, beginning a musical career is a multifaceted process influenced by personal passion, environmental factors, education, networking, and professional development. Each musician's journey is unique, shaped by their individual experiences and aspirations. \\n\\nConfidence Level: High, based on general knowledge of the music industry and common pathways for aspiring musicians. \\n\\nMetadata: The insights provided are based on general observations and trends in the music industry, reflecting common practices and experiences of musicians.\",\n",
       " 'Mercury persuades Clotho, one of the three Fates, to allow Claudius a respite from his suffering. He questions her cruelty, arguing that after enduring a long life filled with torment, Claudius deserves a break. Mercury highlights the extensive duration of Claudius\\'s life, stating, \"Four and sixty years it is now since he began to pant for breath,\" and implores Clotho to let the astrologers speak the truth for once, as they have consistently mispredicted Claudius\\'s death.\\n\\nInitially, Clotho considers granting Claudius \"another hour or two\" to fulfill his ambitions of making Roman citizens of outsiders. However, she ultimately acquiesces to Mercury\\'s request, indicating that it is his pleasure to leave a few foreigners for seed, and prepares to cause the deaths of three individuals, including Claudius, within a year.\\n\\nThis interaction between Mercury and Clotho underscores the themes of fate and mercy, illustrating the complex dynamics of divine intervention in human affairs. Mercury\\'s appeal to Clotho reflects a deep empathy for Claudius\\'s plight, while Clotho\\'s eventual compliance reveals the rigid nature of fate, even when tempered by compassion. The narrative suggests that while Mercury seeks to alleviate suffering, the ultimate control over life and death remains with the Fates, represented by Clotho\\'s final decision.\\n\\nIn summary, Mercury persuades Clotho to grant Claudius a temporary reprieve from his suffering, but ultimately, Clotho\\'s actions lead to the impending deaths of Claudius and others, highlighting the tension between mercy and the inexorable nature of fate. \\n\\n**Key Findings and Insights:**\\n- Mercury\\'s role as a mediator between the divine and mortal realms emphasizes the complexity of fate.\\n- Clotho\\'s initial willingness to grant mercy contrasts with her final decision, illustrating the struggle between compassion and duty.\\n- The narrative reflects broader themes of suffering, ambition, and the consequences of divine decisions.\\n\\n**Confidence Level:** High, based on the detailed context provided regarding the characters and their motivations.\\n\\n**Metadata:**  \\n- Source: .txt/gutenberg.txt  \\n- Relevant Characters: Mercury, Clotho, Claudius.  \\n- Notable Quotes: \"Cruel beldame, why do you let the poor wretch be tormented?\" (Mercury)  \\n- \"But since it is your pleasure to leave a few foreigners for seed... so be it.\" (Clotho)']"
      ]
     },
     "execution_count": 3,
     "metadata": {},
     "output_type": "execute_result"
    }
   ],
   "source": [
    "results[\"all_results\"]"
   ]
  },
  {
   "cell_type": "code",
   "execution_count": 4,
   "metadata": {},
   "outputs": [
    {
     "data": {
      "text/plain": [
       "['A life of abuse and disease among tribal people. A life of abuse and disease. ',\n",
       " 'New York New York ',\n",
       " 'The map shows the location of Luke Skywalker. It holds the location of Luke ',\n",
       " 'Nat Nat ',\n",
       " 'Kill the emperor kill the emperor ']"
      ]
     },
     "execution_count": 4,
     "metadata": {},
     "output_type": "execute_result"
    }
   ],
   "source": [
    "answer"
   ]
  },
  {
   "cell_type": "code",
   "execution_count": null,
   "metadata": {},
   "outputs": [],
   "source": [
    "from Module import *\n",
    "from Config.output_pydantic import *\n",
    "workflow = WorkFlowModularHybridRAG_Unit_Function_Test()\n",
    "\n",
    "results = workflow.graph.invoke({\n",
    "    \"specific_collection\": \"narrative_qa_full_gpu\",\n",
    "    \"user_query\": \"What is the main topic of this dataset?\",\n",
    "})\n",
    "\n",
    "for result in results:\n",
    "    print(result)"
   ]
  },
  {
   "cell_type": "code",
   "execution_count": null,
   "metadata": {},
   "outputs": [],
   "source": [
    "\n",
    "# Test out Retriever for local retriever and global retriever"
   ]
  },
  {
   "cell_type": "markdown",
   "metadata": {},
   "source": [
    "# Test out Retriever for local retriever and global retriever"
   ]
  },
  {
   "cell_type": "code",
   "execution_count": null,
   "metadata": {},
   "outputs": [],
   "source": [
    "from Utils import *\n",
    "retriever = Retriever()\n",
    "knowledge_DB = KnowledgeGraphDatabase()\n",
    "# knowledge_DB.create_entity_vector_index()\n",
    "# knowledge_DB.create_community_weight()\n",
    "global_result = retriever.global_retrieve(0)\n",
    "local_result = retriever.local_retrieve([\"What is the meaning of life\"])"
   ]
  },
  {
   "cell_type": "code",
   "execution_count": null,
   "metadata": {},
   "outputs": [],
   "source": [
    "local_result"
   ]
  },
  {
   "cell_type": "code",
   "execution_count": null,
   "metadata": {},
   "outputs": [],
   "source": [
    "global_result[\"communities\"]"
   ]
  },
  {
   "cell_type": "code",
   "execution_count": null,
   "metadata": {},
   "outputs": [],
   "source": [
    "import Config.constants as const\n",
    "import json\n",
    "from MultiAgent import *\n",
    "from Utils import *\n",
    "\n",
    "retriever = Retriever()\n",
    "multi_agent = MultiAgent_RAG()\n",
    "# all_communities = retriever.global_retrieve(0)[\"communities\"]\n",
    "\n",
    "# batches = []\n",
    "# for i in range(0, len(all_communities), const.NODE_BATCH_SIZE):\n",
    "#     batch_communities = all_communities[i:i + const.NODE_BATCH_SIZE]\n",
    "#     batches.append({\n",
    "#         \"user_query\": \"What is the meaning of life\",\n",
    "#         \"sub_queries\": [],\n",
    "#         \"batch_communities\": batch_communities,\n",
    "#         \"batch_size\": len(batch_communities),\n",
    "#     })\n",
    "\n",
    "\n",
    "# all_scores = multi_agent.topic_reranking_run_batch_async(node_batch_inputs=batches).relevant_scores\n",
    "# print(all_scores)\n",
    "# print(len(all_scores))\n",
    "# print(len(all_communities))\n",
    "\n",
    "multi_agent.user_query_classification_run(user_query=\"Why does the author choose to use first-person point of view in this article?\")\n",
    "\n",
    "\n",
    "\n"
   ]
  },
  {
   "cell_type": "code",
   "execution_count": null,
   "metadata": {},
   "outputs": [],
   "source": []
  }
 ],
 "metadata": {
  "kernelspec": {
   "display_name": "poetry310",
   "language": "python",
   "name": "python3"
  },
  "language_info": {
   "codemirror_mode": {
    "name": "ipython",
    "version": 3
   },
   "file_extension": ".py",
   "mimetype": "text/x-python",
   "name": "python",
   "nbconvert_exporter": "python",
   "pygments_lexer": "ipython3",
   "version": "3.10.14"
  }
 },
 "nbformat": 4,
 "nbformat_minor": 2
}
