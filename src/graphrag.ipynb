{
 "cells": [
  {
   "cell_type": "markdown",
   "metadata": {},
   "source": [
    "# Load dataset from NarrativeQA"
   ]
  },
  {
   "cell_type": "markdown",
   "metadata": {},
   "source": [
    "We use Narrative from Question Generation and RAG Evaluation"
   ]
  },
  {
   "cell_type": "code",
   "execution_count": 1,
   "metadata": {},
   "outputs": [
    {
     "name": "stdout",
     "output_type": "stream",
     "text": [
      "DatasetLoads initialized\n",
      "Connected to Milvus at localhost:19530 with database default.\n",
      "VectorDatabase initialized.\n",
      "Initializing sparse embedder...\n",
      "Embedder initialized\n",
      "Data Processor initialized\n"
     ]
    },
    {
     "name": "stderr",
     "output_type": "stream",
     "text": [
      "[nltk_data] Downloading package words to /home/yarikama/nltk_data...\n",
      "[nltk_data]   Package words is already up-to-date!\n"
     ]
    }
   ],
   "source": [
    "import pandas as pd\n",
    "from Utils import *\n",
    "data_loader = DatasetLoader()\n",
    "from datasets import load_dataset\n",
    "import os\n",
    "\n",
    "vector_DB = VectorDatabase()\n",
    "embedder = Embedder()\n",
    "data_processor = DataProcessor(embedder=embedder, vectordatabase=vector_DB)"
   ]
  },
  {
   "cell_type": "code",
   "execution_count": null,
   "metadata": {},
   "outputs": [],
   "source": [
    "def extract_narrativeqa_text(split='train'):\n",
    "    # 載入數據集\n",
    "    dataset = load_dataset(\"deepmind/narrativeqa\", split=split)\n",
    "    \n",
    "    # 用於存儲唯一文本的字典\n",
    "    unique_summaries = {}\n",
    "    unique_documents = {}\n",
    "    \n",
    "    total_summary_chars = 0\n",
    "    total_document_chars = 0\n",
    "    \n",
    "    # 用於存儲問題和答案的列表\n",
    "    questions = []\n",
    "    answers = []\n",
    "    \n",
    "    # 從每個示例中提取文本\n",
    "    for example in dataset:\n",
    "        summary = example['document']['summary']['text']\n",
    "        document = example['document']['text']\n",
    "        metadata = example['document']['kind'] + \"\\\\\" + example['document']['summary']['title']\n",
    "        \n",
    "        # 只有當摘要和文檔都是唯一的時才添加到 df_doc\n",
    "        if summary not in unique_summaries and document not in unique_documents:\n",
    "            unique_summaries[summary] = metadata\n",
    "            unique_documents[document] = metadata\n",
    "            total_summary_chars += len(summary)\n",
    "            total_document_chars += len(document)\n",
    "        \n",
    "        # 總是添加問題和答案到 df_qa\n",
    "        questions.append(example['question']['text'])\n",
    "        answers_text = \"\"\n",
    "        for answer in example['answers']:\n",
    "            answers_text += answer['text'] + \", \"\n",
    "        answers.append(answers_text)\n",
    "            \n",
    "    # 從字典創建列表\n",
    "    summaries = list(unique_summaries.keys())\n",
    "    documents = list(unique_documents.keys())\n",
    "    metadata = [unique_summaries[s] for s in summaries]  # 將元數據與摘要對齊\n",
    "    \n",
    "    # 計算平均值\n",
    "    num_examples = len(summaries)\n",
    "    avg_summary_chars = total_summary_chars / num_examples if num_examples > 0 else 0\n",
    "    avg_document_chars = total_document_chars / num_examples if num_examples > 0 else 0\n",
    "    \n",
    "    # 創建 df_doc DataFrame\n",
    "    df_doc = pd.DataFrame({\n",
    "        'summary': summaries,\n",
    "        'document': documents,\n",
    "        'metadata': metadata\n",
    "    })\n",
    "    \n",
    "    # 創建 df_qa DataFrame\n",
    "    df_qa = pd.DataFrame({\n",
    "        'questions': questions,\n",
    "        'ground_truths': answers,\n",
    "        'answers': ['' for _ in range(len(questions))],\n",
    "        'context': ['' for _ in range(len(questions))]\n",
    "    })\n",
    "    \n",
    "    print(f'唯一文檔數量: {num_examples}')\n",
    "    print(f'問答對數量: {len(df_qa)}')\n",
    "    print(f'平均摘要長度: {avg_summary_chars:.2f} 字符')\n",
    "    print(f'平均文檔長度: {avg_document_chars:.2f} 字符')\n",
    "    \n",
    "    return df_doc, df_qa"
   ]
  },
  {
   "cell_type": "code",
   "execution_count": null,
   "metadata": {},
   "outputs": [],
   "source": [
    "# df_doc, df_qa = extract_narrativeqa_text(split=\"train\")\n",
    "# df_doc.to_parquet(\".parquet/narrative_qa_doc_full.parquet\")\n",
    "# df_qa.to_parquet(\".parquet/narrative_qa_qa_full.parquet\")\n",
    "df_doc = pd.read_parquet(\".parquet/narrative_qa_doc_full.parquet\")\n",
    "df_qa = pd.read_parquet(\".parquet/narrative_qa_qa_full.parquet\")\n",
    "\n",
    "df_doc_sample = df_doc.sample(frac=0.01, random_state=42)\n",
    "# df_qa_sample = df_qa.sample(frac=0.05, random_state=42)\n",
    "df_doc_sample.to_parquet(\".parquet/narrative_qa_doc_sample_11.parquet\")\n",
    "# df_qa_sample.to_parquet(\".parquet/narrative_qa_qa_sample_11.parquet\")\n",
    "# df_doc_sample"
   ]
  },
  {
   "cell_type": "code",
   "execution_count": null,
   "metadata": {},
   "outputs": [],
   "source": [
    "# load parquet\n",
    "df_doc_sample = pd.read_parquet(\".parquet/narrative_qa_doc_sample_11.parquet\")\n",
    "\n"
   ]
  },
  {
   "cell_type": "markdown",
   "metadata": {},
   "source": [
    "# Import Multihop Dataset"
   ]
  },
  {
   "cell_type": "code",
   "execution_count": 3,
   "metadata": {},
   "outputs": [
    {
     "data": {
      "text/html": [
       "<div>\n",
       "<style scoped>\n",
       "    .dataframe tbody tr th:only-of-type {\n",
       "        vertical-align: middle;\n",
       "    }\n",
       "\n",
       "    .dataframe tbody tr th {\n",
       "        vertical-align: top;\n",
       "    }\n",
       "\n",
       "    .dataframe thead th {\n",
       "        text-align: right;\n",
       "    }\n",
       "</style>\n",
       "<table border=\"1\" class=\"dataframe\">\n",
       "  <thead>\n",
       "    <tr style=\"text-align: right;\">\n",
       "      <th></th>\n",
       "      <th>query</th>\n",
       "      <th>question_type</th>\n",
       "      <th>gold_list</th>\n",
       "      <th>retrieval_list</th>\n",
       "      <th>model_answer</th>\n",
       "      <th>gold_answer</th>\n",
       "    </tr>\n",
       "  </thead>\n",
       "  <tbody>\n",
       "    <tr>\n",
       "      <th>0</th>\n",
       "      <td>Who is the individual associated with the cryp...</td>\n",
       "      <td>inference_query</td>\n",
       "      <td>[{'fact': 'Before his fall, Bankman-Fried made...</td>\n",
       "      <td>[]</td>\n",
       "      <td></td>\n",
       "      <td>Sam Bankman-Fried</td>\n",
       "    </tr>\n",
       "    <tr>\n",
       "      <th>1</th>\n",
       "      <td>Which individual is implicated in both inflati...</td>\n",
       "      <td>inference_query</td>\n",
       "      <td>[{'fact': 'No apartment in New York City has e...</td>\n",
       "      <td>[]</td>\n",
       "      <td></td>\n",
       "      <td>Donald Trump</td>\n",
       "    </tr>\n",
       "    <tr>\n",
       "      <th>2</th>\n",
       "      <td>Who is the figure associated with generative A...</td>\n",
       "      <td>inference_query</td>\n",
       "      <td>[{'fact': 'Altman’s exit “is indeed shocking a...</td>\n",
       "      <td>[]</td>\n",
       "      <td></td>\n",
       "      <td>Sam Altman</td>\n",
       "    </tr>\n",
       "    <tr>\n",
       "      <th>3</th>\n",
       "      <td>Do the TechCrunch article on software companie...</td>\n",
       "      <td>comparison_query</td>\n",
       "      <td>[{'fact': 'They really just want to be able to...</td>\n",
       "      <td>[]</td>\n",
       "      <td></td>\n",
       "      <td>Yes</td>\n",
       "    </tr>\n",
       "    <tr>\n",
       "      <th>4</th>\n",
       "      <td>Which online betting platform provides a welco...</td>\n",
       "      <td>inference_query</td>\n",
       "      <td>[{'fact': 'New customers can get up to $1000 i...</td>\n",
       "      <td>[]</td>\n",
       "      <td></td>\n",
       "      <td>Caesars Sportsbook</td>\n",
       "    </tr>\n",
       "    <tr>\n",
       "      <th>...</th>\n",
       "      <td>...</td>\n",
       "      <td>...</td>\n",
       "      <td>...</td>\n",
       "      <td>...</td>\n",
       "      <td>...</td>\n",
       "      <td>...</td>\n",
       "    </tr>\n",
       "    <tr>\n",
       "      <th>2551</th>\n",
       "      <td>Who is the individual associated with using FT...</td>\n",
       "      <td>inference_query</td>\n",
       "      <td>[{'fact': 'It was Bankman-Fried’s decision, sh...</td>\n",
       "      <td>[]</td>\n",
       "      <td></td>\n",
       "      <td>Sam Bankman-Fried</td>\n",
       "    </tr>\n",
       "    <tr>\n",
       "      <th>2552</th>\n",
       "      <td>Who is the individual that was once likened to...</td>\n",
       "      <td>inference_query</td>\n",
       "      <td>[{'fact': 'Bankman-Fried was even compared to ...</td>\n",
       "      <td>[]</td>\n",
       "      <td></td>\n",
       "      <td>Sam Bankman-Fried</td>\n",
       "    </tr>\n",
       "    <tr>\n",
       "      <th>2553</th>\n",
       "      <td>Who, according to articles in Sporting News, s...</td>\n",
       "      <td>inference_query</td>\n",
       "      <td>[{'fact': 'If you bet $130 on the Cowboys and ...</td>\n",
       "      <td>[]</td>\n",
       "      <td></td>\n",
       "      <td>Bettors</td>\n",
       "    </tr>\n",
       "    <tr>\n",
       "      <th>2554</th>\n",
       "      <td>Does the Cnbc | World Business News Leader art...</td>\n",
       "      <td>comparison_query</td>\n",
       "      <td>[{'fact': 'During cross-examination, Huang sai...</td>\n",
       "      <td>[]</td>\n",
       "      <td></td>\n",
       "      <td>Yes</td>\n",
       "    </tr>\n",
       "    <tr>\n",
       "      <th>2555</th>\n",
       "      <td>Between the report by Business Today | Latest ...</td>\n",
       "      <td>temporal_query</td>\n",
       "      <td>[{'fact': 'Israel stopped allowing deliveries ...</td>\n",
       "      <td>[]</td>\n",
       "      <td></td>\n",
       "      <td>Yes</td>\n",
       "    </tr>\n",
       "  </tbody>\n",
       "</table>\n",
       "<p>2556 rows × 6 columns</p>\n",
       "</div>"
      ],
      "text/plain": [
       "                                                  query     question_type  \\\n",
       "0     Who is the individual associated with the cryp...   inference_query   \n",
       "1     Which individual is implicated in both inflati...   inference_query   \n",
       "2     Who is the figure associated with generative A...   inference_query   \n",
       "3     Do the TechCrunch article on software companie...  comparison_query   \n",
       "4     Which online betting platform provides a welco...   inference_query   \n",
       "...                                                 ...               ...   \n",
       "2551  Who is the individual associated with using FT...   inference_query   \n",
       "2552  Who is the individual that was once likened to...   inference_query   \n",
       "2553  Who, according to articles in Sporting News, s...   inference_query   \n",
       "2554  Does the Cnbc | World Business News Leader art...  comparison_query   \n",
       "2555  Between the report by Business Today | Latest ...    temporal_query   \n",
       "\n",
       "                                              gold_list retrieval_list  \\\n",
       "0     [{'fact': 'Before his fall, Bankman-Fried made...             []   \n",
       "1     [{'fact': 'No apartment in New York City has e...             []   \n",
       "2     [{'fact': 'Altman’s exit “is indeed shocking a...             []   \n",
       "3     [{'fact': 'They really just want to be able to...             []   \n",
       "4     [{'fact': 'New customers can get up to $1000 i...             []   \n",
       "...                                                 ...            ...   \n",
       "2551  [{'fact': 'It was Bankman-Fried’s decision, sh...             []   \n",
       "2552  [{'fact': 'Bankman-Fried was even compared to ...             []   \n",
       "2553  [{'fact': 'If you bet $130 on the Cowboys and ...             []   \n",
       "2554  [{'fact': 'During cross-examination, Huang sai...             []   \n",
       "2555  [{'fact': 'Israel stopped allowing deliveries ...             []   \n",
       "\n",
       "     model_answer         gold_answer  \n",
       "0                   Sam Bankman-Fried  \n",
       "1                        Donald Trump  \n",
       "2                          Sam Altman  \n",
       "3                                 Yes  \n",
       "4                  Caesars Sportsbook  \n",
       "...           ...                 ...  \n",
       "2551                Sam Bankman-Fried  \n",
       "2552                Sam Bankman-Fried  \n",
       "2553                          Bettors  \n",
       "2554                              Yes  \n",
       "2555                              Yes  \n",
       "\n",
       "[2556 rows x 6 columns]"
      ]
     },
     "execution_count": 3,
     "metadata": {},
     "output_type": "execute_result"
    }
   ],
   "source": [
    "import pandas as pd\n",
    "import json\n",
    "\n",
    "def read_json_dataset(file_path):\n",
    "    with open(file_path, 'r', encoding='utf-8') as file:\n",
    "        dataset = json.load(file)\n",
    "    return dataset\n",
    "\n",
    "def transform_to_dataframe(dataset):\n",
    "    data_list = []\n",
    "    for data in dataset:\n",
    "        content = data[\"body\"]\n",
    "        metadata = {\n",
    "            \"title\": data[\"title\"],\n",
    "            \"source\": data[\"source\"],\n",
    "            \"published_at\": data[\"published_at\"]\n",
    "        }\n",
    "        data_list.append({\"content\": content, \"metadata\": metadata})\n",
    "    \n",
    "    return pd.DataFrame(data_list)\n",
    "\n",
    "def transform_to_qa_dataframe(dataset):\n",
    "    df_dataset = pd.DataFrame(dataset)    \n",
    "    gold_lists = []\n",
    "    for row in df_dataset[\"evidence_list\"]:\n",
    "        gold_list = []\n",
    "        for evidence_list in row:\n",
    "            gold_list.append({\"fact\": evidence_list[\"fact\"], \"source\": evidence_list[\"source\"], \"url\": evidence_list[\"url\"], \"title\": evidence_list[\"title\"]})            \n",
    "        gold_lists.append(gold_list)\n",
    "    df_dataset[\"gold_list\"] = gold_lists\n",
    "    df_dataset.drop(columns=[\"evidence_list\"], inplace=True)\n",
    "    df_dataset[\"retrieval_list\"] = [[] for i in range(len(df_dataset))]\n",
    "    df_dataset[\"model_answer\"] = [\"\" for _ in range(len(df_dataset))]\n",
    "    df_dataset[\"gold_answer\"] = df_dataset[\"answer\"]\n",
    "    df_dataset.drop(columns=[\"answer\"], inplace=True)\n",
    "    \n",
    "    return df_dataset\n",
    "\n",
    "dataset = read_json_dataset(\"/home/yarikama/VGMARS/src/.dataset/multihop/MultiHopRAG.json\")\n",
    "\n",
    "df_dataset_multihop = transform_to_qa_dataframe(dataset)\n",
    "df_dataset_multihop.to_parquet(\"/home/yarikama/VGMARS/src/.parquet/multihop_dataset.parquet\")\n",
    "df_dataset_multihop\n"
   ]
  },
  {
   "cell_type": "code",
   "execution_count": 6,
   "metadata": {},
   "outputs": [],
   "source": [
    "retriever = Retriever(vector_DB)\n",
    "retriever.hybrid_retrieve(\"multihop\", [\"Who is Sam Alterman?\"])"
   ]
  },
  {
   "cell_type": "markdown",
   "metadata": {},
   "source": [
    "# Transform the dataframe into .txts"
   ]
  },
  {
   "cell_type": "code",
   "execution_count": 2,
   "metadata": {},
   "outputs": [],
   "source": [
    "\n",
    "import re\n",
    "from bs4 import BeautifulSoup\n",
    "import unicodedata\n",
    "\n",
    "def preprocess_content(content: str) -> str:\n",
    "    soup = BeautifulSoup(content, 'html.parser')\n",
    "    text = soup.get_text()\n",
    "    text = unicodedata.normalize('NFKC', text)\n",
    "    text = re.sub(r'http[s]?://(?:[a-zA-Z]|[0-9]|[$-_@.&+]|[!*\\\\(\\\\),]|(?:%[0-9a-fA-F][0-9a-fA-F]))+', '', text)\n",
    "    text = re.sub(r'[ \\t]+', ' ', text).strip()\n",
    "    text = re.sub(r'[^\\w\\s.,!?;:()\"-]', '', text)\n",
    "    text = text.replace('\"', '\"').replace('\"', '\"')\n",
    "    text = re.sub(r'([.,!?;:])\\1+', r'\\1', text)\n",
    "    text = re.sub(r'([.,!?;:])\\s*', r'\\1 ', text)\n",
    "\n",
    "    return text.strip()\n",
    "\n",
    "def write_text_to_files_by_metadata(df):\n",
    "    # Ensure the dataframe has the required columns\n",
    "    if not all(col in df.columns for col in ['content', 'metadata']):\n",
    "        raise ValueError(\"Dataframe must contain 'document' and 'metadata' columns\")\n",
    "\n",
    "    os.makedirs(\".txt/\", exist_ok=True)\n",
    "    \n",
    "    # Dictionary to keep track of file handles\n",
    "    file_handles = {}\n",
    "\n",
    "    try:\n",
    "        for _, row in df.iterrows():\n",
    "            metadata = row['metadata']\n",
    "            # content = preprocess_content(row['content'])\n",
    "            content = row['content']\n",
    "            filename = re.sub(r'[^\\w\\-\\_\\.]', '_', \"-\".join(metadata.values()))\n",
    "            filename = f\".txt/{filename}.txt\"\n",
    "            if metadata not in file_handles:\n",
    "                file_handles[metadata] = open(filename, 'a', encoding='utf-8')\n",
    "\n",
    "            # Write document to file\n",
    "            file_handles[metadata].write(content + \"\\n\")  # Add two newlines for separation\n",
    "\n",
    "    finally:\n",
    "        # Close all file handles\n",
    "        print(\"close\")\n",
    "        for handle in file_handles.values():\n",
    "            handle.close()\n",
    "\n",
    "    print(f\"{len(file_handles)} files have been created\")"
   ]
  },
  {
   "cell_type": "code",
   "execution_count": 3,
   "metadata": {},
   "outputs": [],
   "source": [
    "write_text_to_files_by_metadata(df_dataset)\n"
   ]
  },
  {
   "cell_type": "markdown",
   "metadata": {},
   "source": [
    "# Embedder into Milvus (GPU) for txts"
   ]
  },
  {
   "cell_type": "code",
   "execution_count": null,
   "metadata": {},
   "outputs": [],
   "source": [
    "data_processor.directory_files_process(\"narrative_qa_full_gpu\", \".txt/\", True, True)"
   ]
  },
  {
   "cell_type": "markdown",
   "metadata": {},
   "source": [
    "# Import GRAPH RAG data to neo4j"
   ]
  },
  {
   "cell_type": "code",
   "execution_count": 7,
   "metadata": {},
   "outputs": [],
   "source": [
    "knowledge_DB = KnowledgeGraphDatabase()"
   ]
  },
  {
   "cell_type": "code",
   "execution_count": 8,
   "metadata": {},
   "outputs": [],
   "source": [
    "knowledge_DB.delete_all()"
   ]
  },
  {
   "cell_type": "code",
   "execution_count": 9,
   "metadata": {},
   "outputs": [],
   "source": [
    "knowledge_DB.transform_graph_rag_to_neo4j(data_path=\"/home/yarikama/VGMARS/graph_rag_multihop/output/20240918-104951/artifacts\")"
   ]
  },
  {
   "cell_type": "code",
   "execution_count": 7,
   "metadata": {},
   "outputs": [],
   "source": [
    "retriever = Retriever()\n",
    "retriever.local_retrieve_community_vector_search([\"Who is Sam Alterman?\"], 19)"
   ]
  },
  {
   "cell_type": "markdown",
   "metadata": {},
   "source": [
    "# Test Modular RAG (Narrative QA)"
   ]
  },
  {
   "cell_type": "code",
   "execution_count": 5,
   "metadata": {},
   "outputs": [
    {
     "name": "stdout",
     "output_type": "stream",
     "text": [
      "['Why is Hal torn when he grows close to Mary Burke?', 'In what time period does the story end?', \"Who is Blank's therapist?\", 'What was the island called?', 'Who does Tom get a job with out West to help support his family?']\n",
      "['He has a fiancee back home. because he has a fiancee back home ', 'The future A future time period. ', 'Dr. Oatman Dr. Oatman. ', 'Devil Island Devil Island ', 'Ned Ned ']\n"
     ]
    }
   ],
   "source": [
    "import pandas as pd\n",
    "rag_evaluation_dataset = pd.read_parquet(\".parquet/narrative_qa_qa_sample_11.parquet\")\n",
    "dataset_queries = rag_evaluation_dataset[\"questions\"].tolist()[15:20]\n",
    "print(dataset_queries)\n",
    "# print(vector_DB.list_collections())\n",
    "answer = rag_evaluation_dataset[\"ground_truths\"].tolist()[15:20]\n",
    "print(answer)\n"
   ]
  },
  {
   "cell_type": "code",
   "execution_count": 6,
   "metadata": {},
   "outputs": [
    {
     "name": "stderr",
     "output_type": "stream",
     "text": [
      "/opt/anaconda3/envs/poetry310/lib/python3.10/site-packages/pydantic/_internal/_config.py:341: UserWarning: Valid config keys have changed in V2:\n",
      "* 'allow_population_by_field_name' has been renamed to 'populate_by_name'\n",
      "* 'smart_union' has been removed\n",
      "  warnings.warn(message, UserWarning)\n"
     ]
    },
    {
     "ename": "NameError",
     "evalue": "name 'WorkFlowModularHybridRAG' is not defined",
     "output_type": "error",
     "traceback": [
      "\u001b[0;31m---------------------------------------------------------------------------\u001b[0m",
      "\u001b[0;31mNameError\u001b[0m                                 Traceback (most recent call last)",
      "Cell \u001b[0;32mIn[6], line 8\u001b[0m\n\u001b[1;32m      4\u001b[0m \u001b[38;5;28;01mfrom\u001b[39;00m \u001b[38;5;21;01mIPython\u001b[39;00m\u001b[38;5;21;01m.\u001b[39;00m\u001b[38;5;21;01mdisplay\u001b[39;00m \u001b[38;5;28;01mimport\u001b[39;00m Image\n\u001b[1;32m      7\u001b[0m config \u001b[38;5;241m=\u001b[39m RunnableConfig(recursion_limit\u001b[38;5;241m=\u001b[39m\u001b[38;5;241m1000000\u001b[39m)\n\u001b[0;32m----> 8\u001b[0m workflow \u001b[38;5;241m=\u001b[39m \u001b[43mWorkFlowModularHybridRAG\u001b[49m()\n\u001b[1;32m     10\u001b[0m results \u001b[38;5;241m=\u001b[39m workflow\u001b[38;5;241m.\u001b[39mgraph\u001b[38;5;241m.\u001b[39mstream({\n\u001b[1;32m     11\u001b[0m     \u001b[38;5;124m\"\u001b[39m\u001b[38;5;124mdataset_queries\u001b[39m\u001b[38;5;124m\"\u001b[39m: dataset_queries,\n\u001b[1;32m     12\u001b[0m     \u001b[38;5;124m\"\u001b[39m\u001b[38;5;124mspecific_collection\u001b[39m\u001b[38;5;124m\"\u001b[39m: \u001b[38;5;124m\"\u001b[39m\u001b[38;5;124mnarrative_qa_full_gpu\u001b[39m\u001b[38;5;124m\"\u001b[39m,\n\u001b[1;32m     13\u001b[0m }, config\u001b[38;5;241m=\u001b[39mconfig)\n\u001b[1;32m     15\u001b[0m \u001b[38;5;28;01mfor\u001b[39;00m result \u001b[38;5;129;01min\u001b[39;00m results:\n",
      "\u001b[0;31mNameError\u001b[0m: name 'WorkFlowModularHybridRAG' is not defined"
     ]
    }
   ],
   "source": [
    "from Module import *\n",
    "from Config.output_pydantic import *\n",
    "from langchain_core.runnables.config import RunnableConfig\n",
    "from IPython.display import Image\n",
    "\n",
    "\n",
    "config = RunnableConfig(recursion_limit=1000000)\n",
    "workflow = WorkFlowModularHybridRAG()\n",
    "\n",
    "results = workflow.graph.stream({\n",
    "    \"dataset_queries\": dataset_queries,\n",
    "    \"specific_collection\": \"narrative_qa_full_gpu\",\n",
    "}, config=config)\n",
    "\n",
    "for result in results:\n",
    "    print(result)\n",
    "\n",
    "\n",
    "Image(workflow.graph.get_graph().draw_mermaid_png())\n",
    "\n"
   ]
  },
  {
   "cell_type": "code",
   "execution_count": null,
   "metadata": {},
   "outputs": [],
   "source": [
    "results[\"all_results\"]"
   ]
  },
  {
   "cell_type": "code",
   "execution_count": null,
   "metadata": {},
   "outputs": [],
   "source": [
    "answer"
   ]
  },
  {
   "cell_type": "markdown",
   "metadata": {},
   "source": [
    "# Test Modular RAG (Multihop)"
   ]
  },
  {
   "cell_type": "code",
   "execution_count": 12,
   "metadata": {},
   "outputs": [
    {
     "data": {
      "text/plain": [
       "[\"Considering the information from an article in The New York Times about the band Used To Be Young's latest tour and a review in Rolling Stone discussing the standout performance of a particular member during a recent concert, which member of Used To Be Young was highlighted for their exceptional solo during the tour's opening night and also plays the instrument that begins with the letter 'B'?\",\n",
       " 'Has the advice provided by Sporting News to bettors regarding the evaluation of betting opportunities and offers involved reading requirements, going with the favored Eagles, and focusing on hype between the reports published on September 28, 2023, and December 18, 2023?',\n",
       " 'Which company, covered by Engadget and Polygon, is set to release an updated gaming hardware with over 300 improvements on November 16, emphasizing a singular performance target for developers?',\n",
       " \"Was there inconsistency in Jada Pinkett Smith's statements regarding what she learned from her children after The Independent - Life and Style's report on her views on self-acceptance published at 13:41:30, and before The Independent - Life and Style's subsequent report on the same topic published at 15:48:10 on the same day?\",\n",
       " 'Considering the economic forecasts from a Bloomberg article and the archaeological discoveries reported by Al Jazeera, which country in North Africa, expected to see a significant rise in GDP, also recently unveiled an ancient artifact believed to be from the reign of a pharaoh whose name begins with the letter \"T\"?',\n",
       " \"Was the news about Taylor Swift's relationship with Travis Kelce inconsistent with the later report from The Independent - Life and Style on December 6, 2023?\",\n",
       " \"Has the portrayal of Google's market practices in reports by The Age before October 22, 2023, remained consistent with the depiction in The Verge's coverage of the Epic v. Google case, and with TechCrunch's report on the class action antitrust suit filed against Google?\",\n",
       " \"Does the TechCrunch article suggest that Amazon's large language model (LLM) is not trained on kids' responses, while The Age article raises concerns about TikTok's pixel collecting data without consent?\",\n",
       " 'Did the report from Cnbc | World Business News Leader on \"Nike\\'s Latin America and Asia Pacific unit\" or the article from Fortune on the \"U.S. home sales price\" both report a decrease in their respective financial figures?',\n",
       " \"Did the coverage of ski resorts by 'The Independent - Travel' change after their report on the 'Swiss slopes of Zermatt and pistes of Vail in Colorado' on October 13th, 2023, compared to their subsequent report on 'Tremblant Ski Resort' on October 25th, 2023?\",\n",
       " \"Which company, according to articles from TechCrunch and The Verge, not only spent billions to maintain its default search engine status across various devices and platforms but was also considered by a major tech competitor as the only valid option for such services at the time of their deal, and is simultaneously facing a class action lawsuit for allegedly harming news publishers' revenues through its business practices?\",\n",
       " \"Do 'The Verge' and 'Engadget' articles both suggest that 'Consumers' have guides or opportunities to make better purchasing decisions, while 'TechCrunch' discusses 'Consumers' desire for a new model in a different sector?\",\n",
       " 'Who is the individual associated with OpenAI, recognized for both his vision of AI agents and his generosity, and has made headlines in both Fortune and TechCrunch for his controversial departure from the company?',\n",
       " 'What company, recently reported by TechCrunch to have made significant profitability in the third quarter, has also faced criticism for not adequately preventing incidents and streamlining driver sign-ups, despite being aware of safety concerns since 2014 and introducing new app features to address them?',\n",
       " \"After TechCrunch reported on October 31, 2023, about Google's financial strategies to maintain its search engine dominance, and again on December 15, 2023, about a class action antitrust suit filed against Google, was there inconsistency in the portrayal of Google's competitive practices according to TechCrunch?\",\n",
       " \"Does the TechCrunch article on GPT-4 suggest a greater ease of prompting toxic output compared to other models, while the TechCrunch article on Meta's open source AI approach indicate concerns of potential danger and disinformation from industry competitors like Google, OpenAI, and Microsoft?\",\n",
       " 'Does the Sporting News article claim that Caesars Sportsbook offers a cash-out option for early bet settlement, while the CBSSports.com and the second Sporting News article both focus on Caesars Sportsbook providing a welcome bonus offer for new customers?',\n",
       " 'Does the TechCrunch article on generative AI in the enterprise suggest that CIOs are more cautious in their AI adoption strategy compared to the belief of business leaders mentioned in another TechCrunch article, who think AI will be essential for all businesses within five years?',\n",
       " \"Considering the information from an article by The Verge and another by Forbes about Sygic, which letter represents both the first character of the European country where Sygic is headquartered and the last character of the name of Sygic's CEO as mentioned in these articles?\",\n",
       " \"Considering the information from an article by Forbes about the growth strategies of Pets Best Insurance Services and a report by The Wall Street Journal on the company's recent partnership with a major pet retailer, which letter of the alphabet starts the name of the CEO who has overseen these developments at Pets Best Insurance Services?\"]"
      ]
     },
     "execution_count": 12,
     "metadata": {},
     "output_type": "execute_result"
    }
   ],
   "source": [
    "import pandas as pd\n",
    "df_dataset_multihop = pd.read_parquet(\"/home/yarikama/VGMARS/src/.parquet/multihop_dataset.parquet\")[20:40]\n",
    "queries = df_dataset_multihop[\"query\"].to_list()\n",
    "queries"
   ]
  },
  {
   "cell_type": "code",
   "execution_count": 10,
   "metadata": {},
   "outputs": [
    {
     "name": "stderr",
     "output_type": "stream",
     "text": [
      "2024-09-19 17:32:23,078 - 132922374481408 - milvus_client.py-milvus_client:658 - DEBUG: Created new connection using: 1296c7191a9e4bbd8ff8e654ea93fab7\n",
      "2024-09-19 17:32:23,136 - 132905514829504 - __init__.py-__init__:531 - WARNING: Overriding of current TracerProvider is not allowed\n"
     ]
    },
    {
     "name": "stdout",
     "output_type": "stream",
     "text": [
      "Initializing sparse embedder...\n",
      "Embedder initialized\n",
      "Connected to Milvus at localhost:19530 with database default.\n",
      "VectorDatabase initialized.\n",
      "GraphDatabase initialized.\n",
      "Retriever initialized\n",
      "Agents initialized (with model: \"gpt-4o-mini\" and temperature: \"0.1\")\n",
      "Tasks initialized\n",
      "MultiAgent RAG System initialized\n",
      "Query 0/20\n",
      "\u001b[93m Error parsing JSON: Expecting value: line 1 column 1 (char 0). Attempting to handle partial JSON.\u001b[00m\n"
     ]
    },
    {
     "name": "stderr",
     "output_type": "stream",
     "text": [
      "2024-09-19 17:33:57,426 - 132905514829504 - __init__.py-__init__:531 - WARNING: Overriding of current TracerProvider is not allowed\n"
     ]
    },
    {
     "name": "stdout",
     "output_type": "stream",
     "text": [
      "\u001b[93m Error parsing JSON: Expecting value: line 1 column 1 (char 0). Attempting to handle partial JSON.\u001b[00m\n",
      "local possible answers: [\"During the tour's opening night, the standout member of Used To Be Young who delivered an exceptional solo was BJ, who plays the banjo.\", 'BJ, known for his captivating performances, showcased his talent on the bass during the opening night of the tour.', \"The member highlighted for their exceptional solo during the tour's opening night is BJ, who plays the bongo.\"]\n",
      "local scores: [12, 10]\n"
     ]
    },
    {
     "name": "stderr",
     "output_type": "stream",
     "text": [
      "2024-09-19 17:34:08,652 - 132905514829504 - __init__.py-__init__:531 - WARNING: Overriding of current TracerProvider is not allowed\n"
     ]
    },
    {
     "name": "stdout",
     "output_type": "stream",
     "text": [
      "detail scores: []\n",
      "all scores: [12, 10]\n",
      "\u001b[93m Error parsing JSON: Expecting value: line 1 column 1 (char 0). Attempting to handle partial JSON.\u001b[00m\n"
     ]
    },
    {
     "name": "stderr",
     "output_type": "stream",
     "text": [
      "2024-09-19 17:34:15,631 - 132905514829504 - __init__.py-__init__:531 - WARNING: Overriding of current TracerProvider is not allowed\n",
      "2024-09-19 17:34:16,932 - 132905514829504 - __init__.py-__init__:531 - WARNING: Overriding of current TracerProvider is not allowed\n"
     ]
    },
    {
     "name": "stdout",
     "output_type": "stream",
     "text": [
      "Query 1/20\n",
      "\u001b[93m Error parsing JSON: Expecting value: line 1 column 1 (char 0). Attempting to handle partial JSON.\u001b[00m\n"
     ]
    },
    {
     "name": "stderr",
     "output_type": "stream",
     "text": [
      "2024-09-19 17:34:22,149 - 132905101690560 - __init__.py-__init__:531 - WARNING: Overriding of current TracerProvider is not allowed\n"
     ]
    },
    {
     "name": "stdout",
     "output_type": "stream",
     "text": [
      "\u001b[93m Error parsing JSON: Expecting value: line 1 column 1 (char 0). Attempting to handle partial JSON.\u001b[00m\n",
      "global possible answers: ['The advice provided by Sporting News to bettors regarding the evaluation of betting opportunities involves reading requirements and understanding the dynamics of the NFL community, particularly focusing on the favored Eagles.', 'Bettors are encouraged to focus on the hype surrounding the Eagles and other teams, as this can influence their betting strategies and decisions.', 'To evaluate betting opportunities effectively, bettors should consider the promotional offers from sportsbooks and the competitive landscape of the NFL, especially as it relates to the Eagles.']\n",
      "global scores: [80, 80, 60, 20, 15, 15, 10, 10, 10, 10, 10, 5, 5, 5]\n"
     ]
    },
    {
     "name": "stderr",
     "output_type": "stream",
     "text": [
      "2024-09-19 17:34:34,648 - 132905514829504 - __init__.py-__init__:531 - WARNING: Overriding of current TracerProvider is not allowed\n"
     ]
    },
    {
     "name": "stdout",
     "output_type": "stream",
     "text": [
      "detail scores: [29, 26]\n",
      "all scores: [80, 80, 60, 29, 26, 20, 15, 15, 10, 10, 10, 10, 10, 5, 5, 5]\n",
      "\u001b[93m Error parsing JSON: Expecting value: line 1 column 1 (char 0). Attempting to handle partial JSON.\u001b[00m\n"
     ]
    },
    {
     "name": "stderr",
     "output_type": "stream",
     "text": [
      "2024-09-19 17:34:46,835 - 132904709523136 - __init__.py-__init__:531 - WARNING: Overriding of current TracerProvider is not allowed\n",
      "2024-09-19 17:34:50,942 - 132904740980416 - __init__.py-__init__:531 - WARNING: Overriding of current TracerProvider is not allowed\n"
     ]
    },
    {
     "name": "stdout",
     "output_type": "stream",
     "text": [
      "Query 2/20\n",
      "\u001b[93m Error parsing JSON: Expecting value: line 1 column 1 (char 0). Attempting to handle partial JSON.\u001b[00m\n"
     ]
    },
    {
     "name": "stderr",
     "output_type": "stream",
     "text": [
      "2024-09-19 17:36:38,802 - 132904889878208 - __init__.py-__init__:531 - WARNING: Overriding of current TracerProvider is not allowed\n"
     ]
    },
    {
     "name": "stdout",
     "output_type": "stream",
     "text": [
      "\u001b[93m Error parsing JSON: Expecting value: line 1 column 1 (char 0). Attempting to handle partial JSON.\u001b[00m\n",
      "local possible answers: ['The company set to release the updated gaming hardware with over 300 improvements on November 16 is focused on a singular performance target for developers.', 'On November 16, the company will launch its new gaming hardware, which has been highlighted by Engadget and Polygon for its 300 improvements.', 'The updated gaming hardware, which is set to release on November 16, aims to provide developers with a singular performance target, as covered by Engadget and Polygon.']\n",
      "local scores: [31]\n"
     ]
    },
    {
     "name": "stderr",
     "output_type": "stream",
     "text": [
      "2024-09-19 17:36:49,491 - 132904709523136 - __init__.py-__init__:531 - WARNING: Overriding of current TracerProvider is not allowed\n"
     ]
    },
    {
     "name": "stdout",
     "output_type": "stream",
     "text": [
      "detail scores: [97, 97, 76, 28, 20, 12]\n",
      "all scores: [97, 97, 76, 31, 28, 20, 12]\n",
      "\u001b[93m Error parsing JSON: Expecting value: line 1 column 1 (char 0). Attempting to handle partial JSON.\u001b[00m\n",
      "\u001b[93m Pydantic validation error: 1 validation error for InformationOrganizationResult\n",
      "organized_information\n",
      "  Field required [type=missing, input_value={'title': 'The Steam Deck...3-11-09T18:00:32+00:00'}, input_type=dict]\n",
      "    For further information visit https://errors.pydantic.dev/2.8/v/missing. The JSON structure doesn't match the expected model. Attempting alternative conversion method.\u001b[00m\n"
     ]
    },
    {
     "name": "stderr",
     "output_type": "stream",
     "text": [
      "2024-09-19 17:36:59,213 - 132904921335488 - __init__.py-__init__:531 - WARNING: Overriding of current TracerProvider is not allowed\n",
      "2024-09-19 17:37:01,756 - 132905101690560 - __init__.py-__init__:531 - WARNING: Overriding of current TracerProvider is not allowed\n"
     ]
    },
    {
     "name": "stdout",
     "output_type": "stream",
     "text": [
      "Query 3/20\n",
      "\u001b[93m Error parsing JSON: Expecting value: line 1 column 1 (char 0). Attempting to handle partial JSON.\u001b[00m\n"
     ]
    },
    {
     "name": "stderr",
     "output_type": "stream",
     "text": [
      "2024-09-19 17:37:06,888 - 132904720008896 - __init__.py-__init__:531 - WARNING: Overriding of current TracerProvider is not allowed\n"
     ]
    },
    {
     "name": "stdout",
     "output_type": "stream",
     "text": [
      "\u001b[93m Error parsing JSON: Expecting value: line 1 column 1 (char 0). Attempting to handle partial JSON.\u001b[00m\n",
      "global possible answers: [\"Jada Pinkett Smith's statements about what she learned from her children may reflect the complex dynamics of her relationship with Will Smith, suggesting that her views on self-acceptance are influenced by her family's experiences.\", \"The inconsistency in Jada Pinkett Smith's statements could be attributed to the evolving nature of her thoughts on self-acceptance, shaped by her interactions with her children and the public scrutiny they face.\", 'After the report by The Independent - Life and Style, Jada Pinkett Smith might have reassessed her views on self-acceptance, leading to different statements reflecting her ongoing journey with her family.']\n",
      "global scores: [90, 10, 10, 10]\n"
     ]
    },
    {
     "name": "stderr",
     "output_type": "stream",
     "text": [
      "2024-09-19 17:37:21,447 - 132904921335488 - __init__.py-__init__:531 - WARNING: Overriding of current TracerProvider is not allowed\n"
     ]
    },
    {
     "name": "stdout",
     "output_type": "stream",
     "text": [
      "detail scores: [81, 81, 76, 41, 39, 38, 31, 31, 21, 17]\n",
      "all scores: [90, 81, 81, 76, 41, 39, 38, 31, 31, 21, 17, 10, 10, 10]\n",
      "\u001b[93m Error parsing JSON: Expecting value: line 1 column 1 (char 0). Attempting to handle partial JSON.\u001b[00m\n"
     ]
    },
    {
     "name": "stderr",
     "output_type": "stream",
     "text": [
      "2024-09-19 17:37:28,642 - 132904740980416 - __init__.py-__init__:531 - WARNING: Overriding of current TracerProvider is not allowed\n",
      "2024-09-19 17:37:32,518 - 132904910849728 - __init__.py-__init__:531 - WARNING: Overriding of current TracerProvider is not allowed\n"
     ]
    },
    {
     "name": "stdout",
     "output_type": "stream",
     "text": [
      "Query 4/20\n",
      "\u001b[93m Error parsing JSON: Expecting value: line 1 column 1 (char 0). Attempting to handle partial JSON.\u001b[00m\n"
     ]
    },
    {
     "name": "stderr",
     "output_type": "stream",
     "text": [
      "2024-09-19 17:37:39,383 - 132905133147840 - __init__.py-__init__:531 - WARNING: Overriding of current TracerProvider is not allowed\n"
     ]
    },
    {
     "name": "stdout",
     "output_type": "stream",
     "text": [
      "\u001b[93m Error parsing JSON: Expecting value: line 1 column 1 (char 0). Attempting to handle partial JSON.\u001b[00m\n",
      "global possible answers: ['The country in North Africa expected to see a significant rise in GDP is likely Egypt, which recently unveiled an ancient artifact believed to be from the reign of a pharaoh named Tutankhamun.', \"Egypt is projected to experience a notable increase in GDP and has recently showcased an ancient artifact from the reign of a pharaoh whose name starts with 'T', specifically Tutankhamun.\", 'In North Africa, Egypt is anticipated to see a substantial rise in GDP and has recently revealed an ancient artifact attributed to the pharaoh Tutankhamun.']\n",
      "global scores: [10]\n"
     ]
    },
    {
     "name": "stderr",
     "output_type": "stream",
     "text": [
      "2024-09-19 17:37:51,523 - 132904931821248 - __init__.py-__init__:531 - WARNING: Overriding of current TracerProvider is not allowed\n"
     ]
    },
    {
     "name": "stdout",
     "output_type": "stream",
     "text": [
      "detail scores: []\n",
      "all scores: [10]\n",
      "\u001b[93m Error parsing JSON: Expecting value: line 1 column 1 (char 0). Attempting to handle partial JSON.\u001b[00m\n"
     ]
    },
    {
     "name": "stderr",
     "output_type": "stream",
     "text": [
      "2024-09-19 17:37:57,490 - 132904910849728 - __init__.py-__init__:531 - WARNING: Overriding of current TracerProvider is not allowed\n",
      "2024-09-19 17:37:59,694 - 132904699037376 - __init__.py-__init__:531 - WARNING: Overriding of current TracerProvider is not allowed\n"
     ]
    },
    {
     "name": "stdout",
     "output_type": "stream",
     "text": [
      "Query 5/20\n",
      "\u001b[93m Error parsing JSON: Expecting value: line 1 column 1 (char 0). Attempting to handle partial JSON.\u001b[00m\n"
     ]
    },
    {
     "name": "stderr",
     "output_type": "stream",
     "text": [
      "2024-09-19 17:38:21,411 - 132904730494656 - __init__.py-__init__:531 - WARNING: Overriding of current TracerProvider is not allowed\n"
     ]
    },
    {
     "name": "stdout",
     "output_type": "stream",
     "text": [
      "\u001b[93m Error parsing JSON: Expecting value: line 1 column 1 (char 0). Attempting to handle partial JSON.\u001b[00m\n",
      "local possible answers: [\"The news about Taylor Swift's relationship with Travis Kelce aligns with the later report from The Independent, as both sources acknowledge their public appearances and interactions.\", \"Entertainment Tonight's coverage of Taylor Swift and Travis Kelce's relationship is consistent with The Independent's report, highlighting their significant media presence together.\", \"The Independent's inquiry into Taylor Swift and Travis Kelce's relationship reflects the ongoing media scrutiny that has been present since their public appearances began.\", 'Reports from Entertainment Tonight and The Independent both confirm that Taylor Swift and Travis Kelce have been seen together, suggesting consistency in the news coverage.', \"The media narrative surrounding Taylor Swift and Travis Kelce's relationship has remained consistent, as both Entertainment Tonight and The Independent report on their public interactions.\"]\n",
      "local scores: [99, 99, 99, 99, 99, 99, 99, 99, 99, 99, 99, 98, 98, 98, 98, 97, 96, 85, 84, 83, 79, 71, 71, 61, 61, 54, 53, 51, 49, 48, 46, 24, 22, 15]\n"
     ]
    },
    {
     "name": "stderr",
     "output_type": "stream",
     "text": [
      "2024-09-19 17:38:35,972 - 132905143633600 - __init__.py-__init__:531 - WARNING: Overriding of current TracerProvider is not allowed\n"
     ]
    },
    {
     "name": "stdout",
     "output_type": "stream",
     "text": [
      "detail scores: [99, 99, 99, 99, 99, 99, 99, 99, 99, 99, 99, 99, 99, 99, 99, 99, 99, 99, 99, 99, 99, 99, 98, 98, 97, 93, 84, 70]\n",
      "all scores: [99, 99, 99, 99, 99, 99, 99, 99, 99, 99, 99, 99, 99, 99, 99, 99, 99, 99, 99, 99, 99, 99, 99, 99, 99, 99, 99, 99, 99, 99, 99, 99, 99, 98, 98, 98, 98, 98, 98, 97, 97, 96, 93, 85, 84, 84, 83, 79, 71, 71, 70, 61, 61, 54, 53, 51, 49, 48, 46, 24, 22, 15]\n",
      "\u001b[93m Error parsing JSON: Expecting value: line 1 column 1 (char 0). Attempting to handle partial JSON.\u001b[00m\n"
     ]
    },
    {
     "name": "stderr",
     "output_type": "stream",
     "text": [
      "2024-09-19 17:38:48,492 - 132905112176320 - __init__.py-__init__:531 - WARNING: Overriding of current TracerProvider is not allowed\n",
      "2024-09-19 17:38:53,813 - 132904900363968 - __init__.py-__init__:531 - WARNING: Overriding of current TracerProvider is not allowed\n"
     ]
    },
    {
     "name": "stdout",
     "output_type": "stream",
     "text": [
      "Query 6/20\n",
      "\u001b[93m Error parsing JSON: Expecting value: line 1 column 1 (char 0). Attempting to handle partial JSON.\u001b[00m\n"
     ]
    },
    {
     "name": "stderr",
     "output_type": "stream",
     "text": [
      "2024-09-19 17:38:58,597 - 132905514829504 - __init__.py-__init__:531 - WARNING: Overriding of current TracerProvider is not allowed\n"
     ]
    },
    {
     "name": "stdout",
     "output_type": "stream",
     "text": [
      "\u001b[93m Error parsing JSON: Expecting value: line 1 column 1 (char 0). Attempting to handle partial JSON.\u001b[00m\n",
      "global possible answers: [\"The portrayal of Google's market practices in reports by The Age before October 22, 2023, has likely remained consistent with The Verge's coverage of the Epic v. Google case, as both sources focus on Google's competitive dynamics and ongoing legal challenges.\", \"Reports from The Age and The Verge regarding Google's market practices are expected to align, particularly in their emphasis on regulatory scrutiny and the impact of technological advancements on competition.\", \"Given the ongoing legal challenges faced by Google, it is plausible that The Age's reports reflect similar themes as those found in The Verge's coverage of the Epic v. Google case, particularly regarding antitrust issues.\"]\n",
      "global scores: [90, 80, 10, 5]\n"
     ]
    },
    {
     "name": "stderr",
     "output_type": "stream",
     "text": [
      "2024-09-19 17:39:13,577 - 132905122662080 - __init__.py-__init__:531 - WARNING: Overriding of current TracerProvider is not allowed\n"
     ]
    },
    {
     "name": "stdout",
     "output_type": "stream",
     "text": [
      "detail scores: [99, 98, 97, 97, 97, 97, 97, 96, 96, 94, 91, 90, 90, 89, 89, 88, 87, 86, 85, 83, 81, 81, 80, 80, 79, 79, 77, 77, 74, 62, 59, 56, 54, 47, 47, 31, 13, 13]\n",
      "all scores: [99, 98, 97, 97, 97, 97, 97, 96, 96, 94, 91, 90, 90, 90, 89, 89, 88, 87, 86, 85, 83, 81, 81, 80, 80, 80, 79, 79, 77, 77, 74, 62, 59, 56, 54, 47, 47, 31, 13, 13, 10, 5]\n",
      "\u001b[93m Error parsing JSON: Expecting value: line 1 column 1 (char 0). Attempting to handle partial JSON.\u001b[00m\n"
     ]
    },
    {
     "name": "stderr",
     "output_type": "stream",
     "text": [
      "2024-09-19 17:39:28,422 - 132904699037376 - __init__.py-__init__:531 - WARNING: Overriding of current TracerProvider is not allowed\n",
      "2024-09-19 17:39:32,282 - 132905112176320 - __init__.py-__init__:531 - WARNING: Overriding of current TracerProvider is not allowed\n"
     ]
    },
    {
     "name": "stdout",
     "output_type": "stream",
     "text": [
      "Query 7/20\n",
      "\u001b[93m Error parsing JSON: Expecting value: line 1 column 1 (char 0). Attempting to handle partial JSON.\u001b[00m\n"
     ]
    },
    {
     "name": "stderr",
     "output_type": "stream",
     "text": [
      "2024-09-19 17:39:36,653 - 132905514829504 - __init__.py-__init__:531 - WARNING: Overriding of current TracerProvider is not allowed\n"
     ]
    },
    {
     "name": "stdout",
     "output_type": "stream",
     "text": [
      "\u001b[93m Error parsing JSON: Expecting value: line 1 column 1 (char 0). Attempting to handle partial JSON.\u001b[00m\n",
      "global possible answers: [\"The TechCrunch article suggests that Amazon's large language model (LLM) is not trained on kids' responses, indicating a focus on adult data sources to ensure compliance and safety. Meanwhile, The Age article raises concerns about TikTok's pixel collecting data without consent, highlighting the need for stricter data privacy regulations.\", \"According to the TechCrunch article, Amazon's LLM is designed to avoid training on kids' responses, which aligns with industry standards for protecting children's data. In contrast, The Age article points out that TikTok's pixel tracking practices may infringe on user consent, raising ethical questions about data collection.\", \"The TechCrunch article emphasizes that Amazon's LLM does not utilize kids' responses in its training data, reflecting a commitment to ethical AI practices. Conversely, The Age article expresses concerns regarding TikTok's pixel data collection without user consent, suggesting a gap in privacy protections.\"]\n",
      "global scores: [90, 85, 80, 70, 20, 20, 20, 20, 15, 15, 15, 10, 10, 10, 10, 10, 10, 10, 5, 5]\n"
     ]
    },
    {
     "name": "stderr",
     "output_type": "stream",
     "text": [
      "2024-09-19 17:39:52,019 - 132905133147840 - __init__.py-__init__:531 - WARNING: Overriding of current TracerProvider is not allowed\n"
     ]
    },
    {
     "name": "stdout",
     "output_type": "stream",
     "text": [
      "detail scores: [99, 99, 98, 97, 95, 90, 70, 66, 40, 28, 11]\n",
      "all scores: [99, 99, 98, 97, 95, 90, 90, 85, 80, 70, 70, 66, 40, 28, 20, 20, 20, 20, 15, 15, 15, 11, 10, 10, 10, 10, 10, 10, 10, 5, 5]\n",
      "\u001b[93m Error parsing JSON: Expecting value: line 1 column 1 (char 0). Attempting to handle partial JSON.\u001b[00m\n"
     ]
    },
    {
     "name": "stderr",
     "output_type": "stream",
     "text": [
      "2024-09-19 17:40:00,012 - 132905091204800 - __init__.py-__init__:531 - WARNING: Overriding of current TracerProvider is not allowed\n",
      "2024-09-19 17:40:02,991 - 132904720008896 - __init__.py-__init__:531 - WARNING: Overriding of current TracerProvider is not allowed\n"
     ]
    },
    {
     "name": "stdout",
     "output_type": "stream",
     "text": [
      "Query 8/20\n",
      "\u001b[93m Error parsing JSON: Expecting value: line 1 column 1 (char 0). Attempting to handle partial JSON.\u001b[00m\n"
     ]
    },
    {
     "name": "stderr",
     "output_type": "stream",
     "text": [
      "2024-09-19 17:40:08,207 - 132904942307008 - __init__.py-__init__:531 - WARNING: Overriding of current TracerProvider is not allowed\n"
     ]
    },
    {
     "name": "stdout",
     "output_type": "stream",
     "text": [
      "\u001b[93m Error parsing JSON: Expecting value: line 1 column 1 (char 0). Attempting to handle partial JSON.\u001b[00m\n",
      "global possible answers: []\n",
      "global scores: []\n"
     ]
    },
    {
     "name": "stderr",
     "output_type": "stream",
     "text": [
      "2024-09-19 17:40:14,576 - 132904931821248 - __init__.py-__init__:531 - WARNING: Overriding of current TracerProvider is not allowed\n"
     ]
    },
    {
     "name": "stdout",
     "output_type": "stream",
     "text": [
      "detail scores: [94, 92, 87]\n",
      "all scores: [94, 92, 87]\n",
      "\u001b[93m Error parsing JSON: Expecting value: line 1 column 1 (char 0). Attempting to handle partial JSON.\u001b[00m\n",
      "\u001b[93m Pydantic validation error: 1 validation error for InformationOrganizationResult\n",
      "  Invalid JSON: key must be a string at line 1 column 2 [type=json_invalid, input_value=\"{'title': 'Nike misses r...-09-28T20:31:00+00:00'}\", input_type=str]\n",
      "    For further information visit https://errors.pydantic.dev/2.8/v/json_invalid. The JSON structure doesn't match the expected model. Attempting alternative conversion method.\u001b[00m\n"
     ]
    },
    {
     "name": "stderr",
     "output_type": "stream",
     "text": [
      "2024-09-19 17:40:23,824 - 132904699037376 - __init__.py-__init__:531 - WARNING: Overriding of current TracerProvider is not allowed\n",
      "2024-09-19 17:40:28,170 - 132904921335488 - __init__.py-__init__:531 - WARNING: Overriding of current TracerProvider is not allowed\n"
     ]
    },
    {
     "name": "stdout",
     "output_type": "stream",
     "text": [
      "Query 9/20\n",
      "\u001b[93m Error parsing JSON: Expecting value: line 1 column 1 (char 0). Attempting to handle partial JSON.\u001b[00m\n"
     ]
    },
    {
     "name": "stderr",
     "output_type": "stream",
     "text": [
      "2024-09-19 17:40:33,338 - 132904942307008 - __init__.py-__init__:531 - WARNING: Overriding of current TracerProvider is not allowed\n"
     ]
    },
    {
     "name": "stdout",
     "output_type": "stream",
     "text": [
      "\u001b[93m Error parsing JSON: Expecting value: line 1 column 1 (char 0). Attempting to handle partial JSON.\u001b[00m\n",
      "global possible answers: [\"The coverage of ski resorts by 'The Independent - Travel' likely shifted focus towards Vail, especially considering the prominence of the Shiffrin family in the skiing community.\", \"After the report on the Swiss slopes of Zermatt and pistes of Vail, 'The Independent - Travel' may have emphasized Vail's significance in their subsequent coverage.\", 'The report on Tremblant Ski Resort could indicate a broader interest in ski resorts beyond just Vail, suggesting a diversification in coverage after the initial report.']\n",
      "global scores: [80, 20, 10, 5]\n"
     ]
    },
    {
     "name": "stderr",
     "output_type": "stream",
     "text": [
      "2024-09-19 17:40:47,613 - 132905133147840 - __init__.py-__init__:531 - WARNING: Overriding of current TracerProvider is not allowed\n"
     ]
    },
    {
     "name": "stdout",
     "output_type": "stream",
     "text": [
      "detail scores: [99, 99, 99, 99, 98, 98, 98, 98, 97, 97, 97, 96, 96, 95, 92, 91, 84, 82, 78, 77, 73, 65, 62, 53, 47, 37, 14]\n",
      "all scores: [99, 99, 99, 99, 98, 98, 98, 98, 97, 97, 97, 96, 96, 95, 92, 91, 84, 82, 80, 78, 77, 73, 65, 62, 53, 47, 37, 20, 14, 10, 5]\n",
      "\u001b[93m Error parsing JSON: Expecting value: line 1 column 1 (char 0). Attempting to handle partial JSON.\u001b[00m\n"
     ]
    },
    {
     "name": "stderr",
     "output_type": "stream",
     "text": [
      "2024-09-19 17:41:05,829 - 132905091204800 - __init__.py-__init__:531 - WARNING: Overriding of current TracerProvider is not allowed\n",
      "2024-09-19 17:41:09,622 - 132904730494656 - __init__.py-__init__:531 - WARNING: Overriding of current TracerProvider is not allowed\n"
     ]
    },
    {
     "name": "stdout",
     "output_type": "stream",
     "text": [
      "Query 10/20\n",
      "\u001b[93m Error parsing JSON: Expecting value: line 1 column 1 (char 0). Attempting to handle partial JSON.\u001b[00m\n"
     ]
    },
    {
     "name": "stderr",
     "output_type": "stream",
     "text": [
      "2024-09-19 17:41:16,087 - 132904709523136 - __init__.py-__init__:531 - WARNING: Overriding of current TracerProvider is not allowed\n"
     ]
    },
    {
     "name": "stdout",
     "output_type": "stream",
     "text": [
      "\u001b[93m Error parsing JSON: Expecting value: line 1 column 1 (char 0). Attempting to handle partial JSON.\u001b[00m\n",
      "global possible answers: [\"Google is the company that spent billions to maintain its default search engine status across various devices and platforms, and it was considered by a major tech competitor as the only valid option for such services at the time of their deal. Additionally, Google is currently facing a class action lawsuit for allegedly harming news publishers' revenues through its business practices.\", \"The dominant player in the technology sector, Google, not only invested heavily to secure its position as the default search engine across various platforms but was also viewed by a major competitor as the sole viable option for search services during their negotiations. Furthermore, Google is involved in a class action lawsuit regarding its impact on news publishers' revenue.\"]\n",
      "global scores: [90, 90, 80, 50, 30, 20, 20, 10, 10, 10, 10, 10, 5, 5]\n"
     ]
    },
    {
     "name": "stderr",
     "output_type": "stream",
     "text": [
      "2024-09-19 17:41:29,018 - 132905514829504 - __init__.py-__init__:531 - WARNING: Overriding of current TracerProvider is not allowed\n"
     ]
    },
    {
     "name": "stdout",
     "output_type": "stream",
     "text": [
      "detail scores: [99, 99, 99, 99, 94, 93, 89, 65, 42, 21, 15, 10]\n",
      "all scores: [99, 99, 99, 99, 94, 93, 90, 90, 89, 80, 65, 50, 42, 30, 21, 20, 20, 15, 10, 10, 10, 10, 10, 10, 5, 5]\n",
      "\u001b[93m Error parsing JSON: Expecting value: line 1 column 1 (char 0). Attempting to handle partial JSON.\u001b[00m\n"
     ]
    },
    {
     "name": "stderr",
     "output_type": "stream",
     "text": [
      "2024-09-19 17:41:56,561 - 132904720008896 - __init__.py-__init__:531 - WARNING: Overriding of current TracerProvider is not allowed\n",
      "2024-09-19 17:41:59,718 - 132905133147840 - __init__.py-__init__:531 - WARNING: Overriding of current TracerProvider is not allowed\n"
     ]
    },
    {
     "name": "stdout",
     "output_type": "stream",
     "text": [
      "Query 11/20\n",
      "\u001b[93m Error parsing JSON: Expecting value: line 1 column 1 (char 0). Attempting to handle partial JSON.\u001b[00m\n"
     ]
    },
    {
     "name": "stderr",
     "output_type": "stream",
     "text": [
      "2024-09-19 17:42:29,280 - 132904740980416 - __init__.py-__init__:531 - WARNING: Overriding of current TracerProvider is not allowed\n"
     ]
    },
    {
     "name": "stdout",
     "output_type": "stream",
     "text": [
      "\u001b[93m Error parsing JSON: Expecting value: line 1 column 1 (char 0). Attempting to handle partial JSON.\u001b[00m\n",
      "local possible answers: []\n",
      "local scores: [73]\n"
     ]
    },
    {
     "name": "stderr",
     "output_type": "stream",
     "text": [
      "2024-09-19 17:42:35,617 - 132904720008896 - __init__.py-__init__:531 - WARNING: Overriding of current TracerProvider is not allowed\n"
     ]
    },
    {
     "name": "stdout",
     "output_type": "stream",
     "text": [
      "detail scores: []\n",
      "all scores: [73]\n",
      "\u001b[93m Error parsing JSON: Expecting value: line 1 column 1 (char 0). Attempting to handle partial JSON.\u001b[00m\n"
     ]
    },
    {
     "name": "stderr",
     "output_type": "stream",
     "text": [
      "2024-09-19 17:42:39,774 - 132904942307008 - __init__.py-__init__:531 - WARNING: Overriding of current TracerProvider is not allowed\n",
      "2024-09-19 17:42:41,428 - 132905122662080 - __init__.py-__init__:531 - WARNING: Overriding of current TracerProvider is not allowed\n"
     ]
    },
    {
     "name": "stdout",
     "output_type": "stream",
     "text": [
      "Query 12/20\n",
      "\u001b[93m Error parsing JSON: Expecting value: line 1 column 1 (char 0). Attempting to handle partial JSON.\u001b[00m\n"
     ]
    },
    {
     "name": "stderr",
     "output_type": "stream",
     "text": [
      "2024-09-19 17:42:47,560 - 132905133147840 - __init__.py-__init__:531 - WARNING: Overriding of current TracerProvider is not allowed\n"
     ]
    },
    {
     "name": "stdout",
     "output_type": "stream",
     "text": [
      "\u001b[93m Error parsing JSON: Expecting value: line 1 column 1 (char 0). Attempting to handle partial JSON.\u001b[00m\n",
      "global possible answers: ['The individual associated with OpenAI, recognized for both his vision of AI agents and his generosity, is likely Sam Altman, who has made headlines in both Fortune and TechCrunch for his controversial departure from the company.', 'Sam Altman, known for his significant contributions to OpenAI and his philanthropic efforts, has been in the news for his departure from the organization, which has sparked discussions in major publications like Fortune and TechCrunch.', 'The person often linked to OpenAI and noted for his vision in AI development is Sam Altman, whose recent exit from the company has been a topic of interest in both Fortune and TechCrunch.']\n",
      "global scores: [90, 90, 80, 20, 20, 20, 20, 15, 15, 15, 15, 10, 10, 10, 10, 10, 10, 10, 10, 5, 5, 5]\n"
     ]
    },
    {
     "name": "stderr",
     "output_type": "stream",
     "text": [
      "2024-09-19 17:42:58,485 - 132905112176320 - __init__.py-__init__:531 - WARNING: Overriding of current TracerProvider is not allowed\n"
     ]
    },
    {
     "name": "stdout",
     "output_type": "stream",
     "text": [
      "detail scores: [99, 99, 99, 98, 98, 98, 98, 98, 97, 96, 96, 96, 95, 94, 93, 92, 91, 90, 90, 89, 87, 84, 76, 76, 75, 75, 72, 68, 64, 63, 41]\n",
      "all scores: [99, 99, 99, 98, 98, 98, 98, 98, 97, 96, 96, 96, 95, 94, 93, 92, 91, 90, 90, 90, 90, 89, 87, 84, 80, 76, 76, 75, 75, 72, 68, 64, 63, 41, 20, 20, 20, 20, 15, 15, 15, 15, 10, 10, 10, 10, 10, 10, 10, 10, 5, 5, 5]\n",
      "\u001b[93m Error parsing JSON: Expecting value: line 1 column 1 (char 0). Attempting to handle partial JSON.\u001b[00m\n"
     ]
    },
    {
     "name": "stderr",
     "output_type": "stream",
     "text": [
      "2024-09-19 17:43:08,321 - 132904910849728 - __init__.py-__init__:531 - WARNING: Overriding of current TracerProvider is not allowed\n",
      "2024-09-19 17:43:13,240 - 132905514829504 - __init__.py-__init__:531 - WARNING: Overriding of current TracerProvider is not allowed\n"
     ]
    },
    {
     "name": "stdout",
     "output_type": "stream",
     "text": [
      "Query 13/20\n",
      "\u001b[93m Error parsing JSON: Expecting value: line 1 column 1 (char 0). Attempting to handle partial JSON.\u001b[00m\n"
     ]
    },
    {
     "name": "stderr",
     "output_type": "stream",
     "text": [
      "2024-09-19 17:43:21,029 - 132905143633600 - __init__.py-__init__:531 - WARNING: Overriding of current TracerProvider is not allowed\n"
     ]
    },
    {
     "name": "stdout",
     "output_type": "stream",
     "text": [
      "\u001b[93m Error parsing JSON: Expecting value: line 1 column 1 (char 0). Attempting to handle partial JSON.\u001b[00m\n",
      "global possible answers: ['The company that recently reported significant profitability in the third quarter is likely Meta, which has faced criticism for not adequately preventing incidents and streamlining driver sign-ups.', 'Despite being aware of safety concerns since 2014, Meta has introduced new app features to address them, but criticism remains regarding their effectiveness.', \"Meta's profitability in the third quarter has been overshadowed by ongoing concerns about their safety measures and driver sign-up processes.\"]\n",
      "global scores: [90, 70, 60, 50, 30, 30, 30, 25, 20, 20, 20, 15, 15, 10, 10, 10, 10, 10, 10, 5, 5, 5, 5]\n"
     ]
    },
    {
     "name": "stderr",
     "output_type": "stream",
     "text": [
      "2024-09-19 17:43:33,508 - 132904942307008 - __init__.py-__init__:531 - WARNING: Overriding of current TracerProvider is not allowed\n"
     ]
    },
    {
     "name": "stdout",
     "output_type": "stream",
     "text": [
      "detail scores: [95, 79, 67, 57, 16]\n",
      "all scores: [95, 90, 79, 70, 67, 60, 57, 50, 30, 30, 30, 25, 20, 20, 20, 16, 15, 15, 10, 10, 10, 10, 10, 10, 5, 5, 5, 5]\n",
      "\u001b[93m Error parsing JSON: Expecting value: line 1 column 1 (char 0). Attempting to handle partial JSON.\u001b[00m\n"
     ]
    },
    {
     "name": "stderr",
     "output_type": "stream",
     "text": [
      "2024-09-19 17:43:48,656 - 132904931821248 - __init__.py-__init__:531 - WARNING: Overriding of current TracerProvider is not allowed\n",
      "2024-09-19 17:43:51,939 - 132904730494656 - __init__.py-__init__:531 - WARNING: Overriding of current TracerProvider is not allowed\n"
     ]
    },
    {
     "name": "stdout",
     "output_type": "stream",
     "text": [
      "Query 14/20\n",
      "\u001b[93m Error parsing JSON: Expecting value: line 1 column 1 (char 0). Attempting to handle partial JSON.\u001b[00m\n"
     ]
    },
    {
     "name": "stderr",
     "output_type": "stream",
     "text": [
      "2024-09-19 17:43:57,249 - 132905143633600 - __init__.py-__init__:531 - WARNING: Overriding of current TracerProvider is not allowed\n"
     ]
    },
    {
     "name": "stdout",
     "output_type": "stream",
     "text": [
      "\u001b[93m Error parsing JSON: Expecting value: line 1 column 1 (char 0). Attempting to handle partial JSON.\u001b[00m\n",
      "global possible answers: [\"TechCrunch's reporting on Google's financial strategies and the subsequent class action antitrust suit may reflect a dual narrative, where Google's competitive practices are portrayed as both innovative and potentially monopolistic.\", \"The inconsistency in TechCrunch's portrayal of Google's competitive practices could stem from the contrasting focus on financial strategies aimed at maintaining dominance versus the legal challenges that question the fairness of those practices.\", \"While TechCrunch highlights Google's efforts to sustain its search engine dominance, the class action antitrust suit suggests a critical view of those same practices, indicating a potential inconsistency in how these strategies are perceived.\"]\n",
      "global scores: [90, 30, 20, 10, 10, 10, 10, 10, 5, 5]\n"
     ]
    },
    {
     "name": "stderr",
     "output_type": "stream",
     "text": [
      "2024-09-19 17:44:08,018 - 132905122662080 - __init__.py-__init__:531 - WARNING: Overriding of current TracerProvider is not allowed\n"
     ]
    },
    {
     "name": "stdout",
     "output_type": "stream",
     "text": [
      "detail scores: [99, 99, 99, 98, 96, 95, 94, 93, 92, 91, 89, 89, 85, 60, 53, 46, 33, 24, 24, 21, 16, 12]\n",
      "all scores: [99, 99, 99, 98, 96, 95, 94, 93, 92, 91, 90, 89, 89, 85, 60, 53, 46, 33, 30, 24, 24, 21, 20, 16, 12, 10, 10, 10, 10, 10, 5, 5]\n",
      "\u001b[93m Error parsing JSON: Expecting value: line 1 column 1 (char 0). Attempting to handle partial JSON.\u001b[00m\n",
      "\u001b[93m Pydantic validation error: 1 validation error for InformationOrganizationResult\n",
      "  Invalid JSON: key must be a string at line 1 column 2 [type=json_invalid, input_value=\"{'title': '5 things we l...-12-15T17:56:02+00:00'}\", input_type=str]\n",
      "    For further information visit https://errors.pydantic.dev/2.8/v/json_invalid. The JSON structure doesn't match the expected model. Attempting alternative conversion method.\u001b[00m\n"
     ]
    },
    {
     "name": "stderr",
     "output_type": "stream",
     "text": [
      "2024-09-19 17:44:20,774 - 132904900363968 - __init__.py-__init__:531 - WARNING: Overriding of current TracerProvider is not allowed\n",
      "2024-09-19 17:44:25,247 - 132904931821248 - __init__.py-__init__:531 - WARNING: Overriding of current TracerProvider is not allowed\n"
     ]
    },
    {
     "name": "stdout",
     "output_type": "stream",
     "text": [
      "Query 15/20\n",
      "\u001b[93m Error parsing JSON: Expecting value: line 1 column 1 (char 0). Attempting to handle partial JSON.\u001b[00m\n"
     ]
    },
    {
     "name": "stderr",
     "output_type": "stream",
     "text": [
      "2024-09-19 17:44:29,769 - 132904720008896 - __init__.py-__init__:531 - WARNING: Overriding of current TracerProvider is not allowed\n"
     ]
    },
    {
     "name": "stdout",
     "output_type": "stream",
     "text": [
      "\u001b[93m Error parsing JSON: Expecting value: line 1 column 1 (char 0). Attempting to handle partial JSON.\u001b[00m\n",
      "global possible answers: ['The TechCrunch article on GPT-4 suggests that prompting toxic output may be easier compared to other models due to its advanced capabilities and the nuances in its training data.', \"The TechCrunch article on Meta's open-source AI approach indicates concerns about potential dangers and disinformation, particularly in the context of competition with industry giants like Google, OpenAI, and Microsoft.\", 'The discussions surrounding AI regulation by the Biden Administration highlight the need for oversight in AI technologies, which may relate to the concerns raised in the TechCrunch articles about the implications of AI outputs.', \"Meta's challenges with regulatory frameworks suggest that their open-source AI approach could exacerbate issues of misinformation, especially when compared to the more controlled environments of competitors like OpenAI and Google.\"]\n",
      "global scores: [90, 90, 80, 80, 70, 20, 20, 20, 15, 10, 10, 10, 10, 10, 10]\n"
     ]
    },
    {
     "name": "stderr",
     "output_type": "stream",
     "text": [
      "2024-09-19 17:44:42,072 - 132904709523136 - __init__.py-__init__:531 - WARNING: Overriding of current TracerProvider is not allowed\n"
     ]
    },
    {
     "name": "stdout",
     "output_type": "stream",
     "text": [
      "detail scores: [99, 99, 98, 98, 97, 96, 95, 90, 88, 87, 85, 84, 79, 78, 77, 75, 73, 66, 66, 55, 50, 29, 28, 26, 26, 19, 18, 16, 16, 14, 12]\n",
      "all scores: [99, 99, 98, 98, 97, 96, 95, 90, 90, 90, 88, 87, 85, 84, 80, 80, 79, 78, 77, 75, 73, 70, 66, 66, 55, 50, 29, 28, 26, 26, 20, 20, 20, 19, 18, 16, 16, 15, 14, 12, 10, 10, 10, 10, 10, 10]\n",
      "\u001b[93m Error parsing JSON: Expecting value: line 1 column 1 (char 0). Attempting to handle partial JSON.\u001b[00m\n"
     ]
    },
    {
     "name": "stderr",
     "output_type": "stream",
     "text": [
      "2024-09-19 17:44:49,701 - 132904931821248 - __init__.py-__init__:531 - WARNING: Overriding of current TracerProvider is not allowed\n",
      "2024-09-19 17:44:56,819 - 132905122662080 - __init__.py-__init__:531 - WARNING: Overriding of current TracerProvider is not allowed\n"
     ]
    },
    {
     "name": "stdout",
     "output_type": "stream",
     "text": [
      "Query 16/20\n",
      "\u001b[93m Error parsing JSON: Expecting value: line 1 column 1 (char 0). Attempting to handle partial JSON.\u001b[00m\n"
     ]
    },
    {
     "name": "stderr",
     "output_type": "stream",
     "text": [
      "2024-09-19 17:45:48,948 - 132904740980416 - __init__.py-__init__:531 - WARNING: Overriding of current TracerProvider is not allowed\n"
     ]
    },
    {
     "name": "stdout",
     "output_type": "stream",
     "text": [
      "\u001b[93m Error parsing JSON: Expecting value: line 1 column 1 (char 0). Attempting to handle partial JSON.\u001b[00m\n",
      "local possible answers: ['The Sporting News article claims that Caesars Sportsbook offers a cash-out option for early bet settlement, while the CBSSports.com article focuses on the welcome bonus offer for new customers.', 'According to the Sporting News, Caesars Sportsbook provides a cash-out option, whereas the CBSSports.com article highlights the welcome bonus for new users.', 'The articles suggest that Caesars Sportsbook has a cash-out feature for early bet settlement, while also promoting a welcome bonus for new customers.', 'While the Sporting News mentions a cash-out option, CBSSports.com emphasizes the welcome bonus available for new users at Caesars Sportsbook.', 'The Sporting News article indicates that Caesars Sportsbook offers a cash-out option, contrasting with the focus on welcome bonuses in the CBSSports.com article.']\n",
      "local scores: [99, 99, 99, 99, 99, 89, 87, 86, 86, 82, 81, 76, 53, 35, 26, 25, 14]\n"
     ]
    },
    {
     "name": "stderr",
     "output_type": "stream",
     "text": [
      "2024-09-19 17:46:02,411 - 132904931821248 - __init__.py-__init__:531 - WARNING: Overriding of current TracerProvider is not allowed\n"
     ]
    },
    {
     "name": "stdout",
     "output_type": "stream",
     "text": [
      "detail scores: [99, 99, 99, 91, 91, 90, 87, 70, 67, 50, 20, 11]\n",
      "all scores: [99, 99, 99, 99, 99, 99, 99, 99, 91, 91, 90, 89, 87, 87, 86, 86, 82, 81, 76, 70, 67, 53, 50, 35, 26, 25, 20, 14, 11]\n",
      "\u001b[93m Error parsing JSON: Expecting value: line 1 column 1 (char 0). Attempting to handle partial JSON.\u001b[00m\n"
     ]
    },
    {
     "name": "stderr",
     "output_type": "stream",
     "text": [
      "2024-09-19 17:46:08,228 - 132905514829504 - __init__.py-__init__:531 - WARNING: Overriding of current TracerProvider is not allowed\n",
      "2024-09-19 17:46:11,546 - 132905143633600 - __init__.py-__init__:531 - WARNING: Overriding of current TracerProvider is not allowed\n"
     ]
    },
    {
     "name": "stdout",
     "output_type": "stream",
     "text": [
      "Query 17/20\n",
      "\u001b[93m Error parsing JSON: Expecting value: line 1 column 1 (char 0). Attempting to handle partial JSON.\u001b[00m\n"
     ]
    },
    {
     "name": "stderr",
     "output_type": "stream",
     "text": [
      "2024-09-19 17:46:16,992 - 132904730494656 - __init__.py-__init__:531 - WARNING: Overriding of current TracerProvider is not allowed\n"
     ]
    },
    {
     "name": "stdout",
     "output_type": "stream",
     "text": [
      "\u001b[93m Error parsing JSON: Expecting value: line 1 column 1 (char 0). Attempting to handle partial JSON.\u001b[00m\n",
      "global possible answers: ['CIOs are more cautious in their AI adoption strategy due to regulatory considerations and the complexities of integrating AI technologies into existing systems, while business leaders believe AI will be essential for all businesses within five years.', 'The cautious approach of CIOs in AI adoption is influenced by the need for compliance with emerging regulations, contrasting with the belief of business leaders that AI will become a critical component of business operations in the near future.', \"While business leaders are optimistic about AI's potential, CIOs are taking a more measured approach, focusing on the implications of AI technologies and the need for strategic planning before widespread adoption.\"]\n",
      "global scores: [90, 90, 90, 80, 20, 15, 15, 10, 10, 10, 10, 10, 10, 5, 5]\n"
     ]
    },
    {
     "name": "stderr",
     "output_type": "stream",
     "text": [
      "2024-09-19 17:46:28,495 - 132904900363968 - __init__.py-__init__:531 - WARNING: Overriding of current TracerProvider is not allowed\n"
     ]
    },
    {
     "name": "stdout",
     "output_type": "stream",
     "text": [
      "detail scores: [99, 99, 99, 99, 99, 99, 99, 99, 99, 99, 99, 99, 99, 80, 73, 66, 51, 40, 32]\n",
      "all scores: [99, 99, 99, 99, 99, 99, 99, 99, 99, 99, 99, 99, 99, 90, 90, 90, 80, 80, 73, 66, 51, 40, 32, 20, 15, 15, 10, 10, 10, 10, 10, 10, 5, 5]\n",
      "\u001b[93m Error parsing JSON: Expecting value: line 1 column 1 (char 0). Attempting to handle partial JSON.\u001b[00m\n"
     ]
    },
    {
     "name": "stderr",
     "output_type": "stream",
     "text": [
      "2024-09-19 17:46:42,084 - 132905133147840 - __init__.py-__init__:531 - WARNING: Overriding of current TracerProvider is not allowed\n",
      "2024-09-19 17:46:46,804 - 132904709523136 - __init__.py-__init__:531 - WARNING: Overriding of current TracerProvider is not allowed\n"
     ]
    },
    {
     "name": "stdout",
     "output_type": "stream",
     "text": [
      "Query 18/20\n",
      "\u001b[93m Error parsing JSON: Expecting value: line 1 column 1 (char 0). Attempting to handle partial JSON.\u001b[00m\n"
     ]
    },
    {
     "name": "stderr",
     "output_type": "stream",
     "text": [
      "2024-09-19 17:46:51,360 - 132905122662080 - __init__.py-__init__:531 - WARNING: Overriding of current TracerProvider is not allowed\n"
     ]
    },
    {
     "name": "stdout",
     "output_type": "stream",
     "text": [
      "\u001b[93m Error parsing JSON: Expecting value: line 1 column 1 (char 0). Attempting to handle partial JSON.\u001b[00m\n",
      "local possible answers: [\"The first character of the European country where Sygic is headquartered could be 'S', and the last character of the name of Sygic's CEO could be 'k'.\", \"If Sygic is based in Slovakia, the first character would be 'S', and if the CEO's name ends with 'k', the answer could be 'k'.\", \"Assuming Sygic is in a country starting with 'S' and the CEO's name ends with 'k', the letters would be 'S' and 'k'.\"]\n",
      "local scores: [50, 13, 11]\n"
     ]
    },
    {
     "name": "stderr",
     "output_type": "stream",
     "text": [
      "2024-09-19 17:47:00,480 - 132905112176320 - __init__.py-__init__:531 - WARNING: Overriding of current TracerProvider is not allowed\n"
     ]
    },
    {
     "name": "stdout",
     "output_type": "stream",
     "text": [
      "detail scores: []\n",
      "all scores: [50, 13, 11]\n",
      "\u001b[93m Error parsing JSON: Expecting value: line 1 column 1 (char 0). Attempting to handle partial JSON.\u001b[00m\n"
     ]
    },
    {
     "name": "stderr",
     "output_type": "stream",
     "text": [
      "2024-09-19 17:47:05,653 - 132904910849728 - __init__.py-__init__:531 - WARNING: Overriding of current TracerProvider is not allowed\n",
      "2024-09-19 17:47:07,273 - 132905091204800 - __init__.py-__init__:531 - WARNING: Overriding of current TracerProvider is not allowed\n"
     ]
    },
    {
     "name": "stdout",
     "output_type": "stream",
     "text": [
      "Query 19/20\n",
      "\u001b[93m Error parsing JSON: Expecting value: line 1 column 1 (char 0). Attempting to handle partial JSON.\u001b[00m\n"
     ]
    },
    {
     "name": "stderr",
     "output_type": "stream",
     "text": [
      "2024-09-19 17:47:30,023 - 132904900363968 - __init__.py-__init__:531 - WARNING: Overriding of current TracerProvider is not allowed\n"
     ]
    },
    {
     "name": "stdout",
     "output_type": "stream",
     "text": [
      "\u001b[93m Error parsing JSON: Expecting value: line 1 column 1 (char 0). Attempting to handle partial JSON.\u001b[00m\n",
      "local possible answers: [\"The CEO of Pets Best Insurance Services is likely to start with the letter 'J', as John J. Ray III is a prominent figure in the insurance industry.\", \"Given the lack of specific information about Pets Best Insurance Services, one might speculate that the CEO's name starts with 'J', similar to John J. Ray III.\", \"While the data does not directly answer the query, it is plausible that the CEO of Pets Best Insurance Services has a name starting with 'J', reflecting common naming conventions in the industry.\"]\n",
      "local scores: [19, 17]\n"
     ]
    },
    {
     "name": "stderr",
     "output_type": "stream",
     "text": [
      "2024-09-19 17:47:39,697 - 132905514829504 - __init__.py-__init__:531 - WARNING: Overriding of current TracerProvider is not allowed\n"
     ]
    },
    {
     "name": "stdout",
     "output_type": "stream",
     "text": [
      "detail scores: []\n",
      "all scores: [19, 17]\n",
      "\u001b[93m Error parsing JSON: Expecting value: line 1 column 1 (char 0). Attempting to handle partial JSON.\u001b[00m\n"
     ]
    },
    {
     "name": "stderr",
     "output_type": "stream",
     "text": [
      "2024-09-19 17:47:44,352 - 132904889878208 - __init__.py-__init__:531 - WARNING: Overriding of current TracerProvider is not allowed\n"
     ]
    },
    {
     "name": "stdout",
     "output_type": "stream",
     "text": [
      "user_query\n",
      "specific_collection\n",
      "use_cohere_reranker\n",
      "user_query_classification_result\n",
      "query_process_result\n",
      "sub_queries_classification_result\n",
      "global_topic_searching_and_hyde_result\n",
      "local_topic_searching_and_hyde_result\n",
      "detailed_search_result\n",
      "information_organization_result\n",
      "response_audit_result\n",
      "retrieval_data\n",
      "global_mapping_result\n",
      "local_mapping_result\n",
      "detail_mapping_result\n",
      "generation_result\n",
      "repeat_times\n",
      "dataset_queries\n",
      "all_results\n",
      "all_contexts_ragas\n",
      "all_contexts_multihop\n"
     ]
    },
    {
     "data": {
      "image/jpeg": "[encoded data removed]",
      "text/plain": [
       "<IPython.core.display.Image object>"
      ]
     },
     "execution_count": 10,
     "metadata": {},
     "output_type": "execute_result"
    }
   ],
   "source": [
    "from Module import *\n",
    "from Config.output_pydantic import *\n",
    "from langchain_core.runnables.config import RunnableConfig\n",
    "from IPython.display import Image\n",
    "\n",
    "config = RunnableConfig(recursion_limit=1000000)\n",
    "workflow = WorkFlowModularHybridRAGMultiHopRAG()\n",
    "\n",
    "results = workflow.graph.invoke({\n",
    "    \"dataset_queries\": queries,\n",
    "    \"specific_collection\": \"multihop\",\n",
    "    \"use_cohere_reranker\": True,\n",
    "}, config=config)\n",
    "\n",
    "for result in results:\n",
    "    print(result)\n",
    "    \n",
    "Image(workflow.graph.get_graph().draw_mermaid_png())\n"
   ]
  },
  {
   "cell_type": "code",
   "execution_count": 19,
   "metadata": {},
   "outputs": [
    {
     "data": {
      "text/html": [
       "<div>\n",
       "<style scoped>\n",
       "    .dataframe tbody tr th:only-of-type {\n",
       "        vertical-align: middle;\n",
       "    }\n",
       "\n",
       "    .dataframe tbody tr th {\n",
       "        vertical-align: top;\n",
       "    }\n",
       "\n",
       "    .dataframe thead th {\n",
       "        text-align: right;\n",
       "    }\n",
       "</style>\n",
       "<table border=\"1\" class=\"dataframe\">\n",
       "  <thead>\n",
       "    <tr style=\"text-align: right;\">\n",
       "      <th></th>\n",
       "      <th>query</th>\n",
       "      <th>question_type</th>\n",
       "      <th>gold_list</th>\n",
       "      <th>retrieval_list</th>\n",
       "      <th>model_answer</th>\n",
       "      <th>gold_answer</th>\n",
       "    </tr>\n",
       "  </thead>\n",
       "  <tbody>\n",
       "    <tr>\n",
       "      <th>20</th>\n",
       "      <td>Considering the information from an article in...</td>\n",
       "      <td>null_query</td>\n",
       "      <td>[]</td>\n",
       "      <td>[]</td>\n",
       "      <td>I do not have enough information to answer the...</td>\n",
       "      <td>Insufficient information.</td>\n",
       "    </tr>\n",
       "    <tr>\n",
       "      <th>21</th>\n",
       "      <td>Has the advice provided by Sporting News to be...</td>\n",
       "      <td>temporal_query</td>\n",
       "      <td>[{'fact': 'We urge you to read the requirement...</td>\n",
       "      <td>[{'text': 'FanDuel promo code link for MNF Eag...</td>\n",
       "      <td>Yes, the advice provided by Sporting News to b...</td>\n",
       "      <td>no</td>\n",
       "    </tr>\n",
       "    <tr>\n",
       "      <th>22</th>\n",
       "      <td>Which company, covered by Engadget and Polygon...</td>\n",
       "      <td>inference_query</td>\n",
       "      <td>[{'fact': 'Valve has announced a new Steam Dec...</td>\n",
       "      <td>[{'text': 'Finally, there’s also a Limited Edi...</td>\n",
       "      <td>Valve is set to release an updated gaming hard...</td>\n",
       "      <td>Valve</td>\n",
       "    </tr>\n",
       "    <tr>\n",
       "      <th>23</th>\n",
       "      <td>Was there inconsistency in Jada Pinkett Smith'...</td>\n",
       "      <td>temporal_query</td>\n",
       "      <td>[{'fact': 'This isn’t the first time that Jada...</td>\n",
       "      <td>[{'text': 'The Fresh Prince of Bel-Air star ha...</td>\n",
       "      <td>No, there was no inconsistency in Jada Pinkett...</td>\n",
       "      <td>no</td>\n",
       "    </tr>\n",
       "    <tr>\n",
       "      <th>24</th>\n",
       "      <td>Considering the economic forecasts from a Bloo...</td>\n",
       "      <td>null_query</td>\n",
       "      <td>[]</td>\n",
       "      <td>[]</td>\n",
       "      <td>Based on the information provided, I cannot de...</td>\n",
       "      <td>Insufficient information.</td>\n",
       "    </tr>\n",
       "    <tr>\n",
       "      <th>25</th>\n",
       "      <td>Was the news about Taylor Swift's relationship...</td>\n",
       "      <td>temporal_query</td>\n",
       "      <td>[{'fact': 'On his podcast, he later invited th...</td>\n",
       "      <td>[{'text': 'Stay ahead of the trend in fashion ...</td>\n",
       "      <td>No, the news about Taylor Swift's relationship...</td>\n",
       "      <td>no</td>\n",
       "    </tr>\n",
       "    <tr>\n",
       "      <th>26</th>\n",
       "      <td>Has the portrayal of Google's market practices...</td>\n",
       "      <td>temporal_query</td>\n",
       "      <td>[{'fact': 'This whole line of argument is call...</td>\n",
       "      <td>[{'text': 'Google CEO Sundar Pichai testified ...</td>\n",
       "      <td>Yes, the portrayal of Google's market practice...</td>\n",
       "      <td>no</td>\n",
       "    </tr>\n",
       "    <tr>\n",
       "      <th>27</th>\n",
       "      <td>Does the TechCrunch article suggest that Amazo...</td>\n",
       "      <td>comparison_query</td>\n",
       "      <td>[{'fact': 'In terms of privacy, the company no...</td>\n",
       "      <td>[{'text': '“We do want to integrate an LLM in ...</td>\n",
       "      <td>Yes, the TechCrunch article suggests that Amaz...</td>\n",
       "      <td>Yes</td>\n",
       "    </tr>\n",
       "    <tr>\n",
       "      <th>28</th>\n",
       "      <td>Did the report from Cnbc | World Business News...</td>\n",
       "      <td>comparison_query</td>\n",
       "      <td>[{'fact': 'Sales in its Latin America and Asia...</td>\n",
       "      <td>[{'text': 'In Europe, the Middle East and Afri...</td>\n",
       "      <td>Yes, both reports indicate a decrease in their...</td>\n",
       "      <td>no</td>\n",
       "    </tr>\n",
       "    <tr>\n",
       "      <th>29</th>\n",
       "      <td>Did the coverage of ski resorts by 'The Indepe...</td>\n",
       "      <td>temporal_query</td>\n",
       "      <td>[{'fact': 'Quebec’s premier ski resort sits at...</td>\n",
       "      <td>[{'text': 'Tremblant\n",
       "\n",
       "Tremblant is Quebec’s pr...</td>\n",
       "      <td>Yes, the coverage of ski resorts by 'The Indep...</td>\n",
       "      <td>no</td>\n",
       "    </tr>\n",
       "    <tr>\n",
       "      <th>30</th>\n",
       "      <td>Which company, according to articles from Tech...</td>\n",
       "      <td>inference_query</td>\n",
       "      <td>[{'fact': 'When Google’s search head Prabhakar...</td>\n",
       "      <td>[{'text': 'The government has argued that Goog...</td>\n",
       "      <td>The company you are referring to is Google. Ac...</td>\n",
       "      <td>Google</td>\n",
       "    </tr>\n",
       "    <tr>\n",
       "      <th>31</th>\n",
       "      <td>Do 'The Verge' and 'Engadget' articles both su...</td>\n",
       "      <td>comparison_query</td>\n",
       "      <td>[{'fact': 'And if you want to do even more res...</td>\n",
       "      <td>[]</td>\n",
       "      <td>I don't have enough information to answer the ...</td>\n",
       "      <td>Yes</td>\n",
       "    </tr>\n",
       "    <tr>\n",
       "      <th>32</th>\n",
       "      <td>Who is the individual associated with OpenAI, ...</td>\n",
       "      <td>inference_query</td>\n",
       "      <td>[{'fact': 'At its first developer conference l...</td>\n",
       "      <td>[{'text': 'At its first developer conference l...</td>\n",
       "      <td>The individual associated with OpenAI, recogni...</td>\n",
       "      <td>Sam Altman</td>\n",
       "    </tr>\n",
       "    <tr>\n",
       "      <th>33</th>\n",
       "      <td>What company, recently reported by TechCrunch ...</td>\n",
       "      <td>inference_query</td>\n",
       "      <td>[{'fact': 'Hundreds of women have filed lawsui...</td>\n",
       "      <td>[{'text': 'Hundreds of women have filed lawsui...</td>\n",
       "      <td>The company that recently reported significant...</td>\n",
       "      <td>Uber</td>\n",
       "    </tr>\n",
       "    <tr>\n",
       "      <th>34</th>\n",
       "      <td>After TechCrunch reported on October 31, 2023,...</td>\n",
       "      <td>temporal_query</td>\n",
       "      <td>[{'fact': 'When Google’s search head Prabhakar...</td>\n",
       "      <td>[{'text': 'Update (Nov. 17): Checked prices an...</td>\n",
       "      <td>Yes, there is an inconsistency in the portraya...</td>\n",
       "      <td>no</td>\n",
       "    </tr>\n",
       "    <tr>\n",
       "      <th>35</th>\n",
       "      <td>Does the TechCrunch article on GPT-4 suggest a...</td>\n",
       "      <td>comparison_query</td>\n",
       "      <td>[{'fact': 'Because GPT-4 is more likely to fol...</td>\n",
       "      <td>[{'text': '“[M]ore collaboration and informati...</td>\n",
       "      <td>Yes, the TechCrunch article on GPT-4 suggests ...</td>\n",
       "      <td>Yes</td>\n",
       "    </tr>\n",
       "    <tr>\n",
       "      <th>36</th>\n",
       "      <td>Does the Sporting News article claim that Caes...</td>\n",
       "      <td>comparison_query</td>\n",
       "      <td>[{'fact': 'Caesars also has a cash-out option ...</td>\n",
       "      <td>[{'text': 'See more:\n",
       "\n",
       "Caesars Sportsbook\n",
       "\n",
       "Caes...</td>\n",
       "      <td>Yes, the Sporting News article claims that Cae...</td>\n",
       "      <td>Yes</td>\n",
       "    </tr>\n",
       "    <tr>\n",
       "      <th>37</th>\n",
       "      <td>Does the TechCrunch article on generative AI i...</td>\n",
       "      <td>comparison_query</td>\n",
       "      <td>[{'fact': '“So we’ve been doing this whole pus...</td>\n",
       "      <td>[{'text': 'That said, much like the consumeriz...</td>\n",
       "      <td>Yes, the TechCrunch article on generative AI i...</td>\n",
       "      <td>Yes</td>\n",
       "    </tr>\n",
       "    <tr>\n",
       "      <th>38</th>\n",
       "      <td>Considering the information from an article by...</td>\n",
       "      <td>null_query</td>\n",
       "      <td>[]</td>\n",
       "      <td>[]</td>\n",
       "      <td>I don't have enough information to answer the ...</td>\n",
       "      <td>Insufficient information.</td>\n",
       "    </tr>\n",
       "    <tr>\n",
       "      <th>39</th>\n",
       "      <td>Considering the information from an article by...</td>\n",
       "      <td>null_query</td>\n",
       "      <td>[]</td>\n",
       "      <td>[]</td>\n",
       "      <td>I don't have enough information to answer the ...</td>\n",
       "      <td>Insufficient information.</td>\n",
       "    </tr>\n",
       "  </tbody>\n",
       "</table>\n",
       "</div>"
      ],
      "text/plain": [
       "                                                query     question_type  \\\n",
       "20  Considering the information from an article in...        null_query   \n",
       "21  Has the advice provided by Sporting News to be...    temporal_query   \n",
       "22  Which company, covered by Engadget and Polygon...   inference_query   \n",
       "23  Was there inconsistency in Jada Pinkett Smith'...    temporal_query   \n",
       "24  Considering the economic forecasts from a Bloo...        null_query   \n",
       "25  Was the news about Taylor Swift's relationship...    temporal_query   \n",
       "26  Has the portrayal of Google's market practices...    temporal_query   \n",
       "27  Does the TechCrunch article suggest that Amazo...  comparison_query   \n",
       "28  Did the report from Cnbc | World Business News...  comparison_query   \n",
       "29  Did the coverage of ski resorts by 'The Indepe...    temporal_query   \n",
       "30  Which company, according to articles from Tech...   inference_query   \n",
       "31  Do 'The Verge' and 'Engadget' articles both su...  comparison_query   \n",
       "32  Who is the individual associated with OpenAI, ...   inference_query   \n",
       "33  What company, recently reported by TechCrunch ...   inference_query   \n",
       "34  After TechCrunch reported on October 31, 2023,...    temporal_query   \n",
       "35  Does the TechCrunch article on GPT-4 suggest a...  comparison_query   \n",
       "36  Does the Sporting News article claim that Caes...  comparison_query   \n",
       "37  Does the TechCrunch article on generative AI i...  comparison_query   \n",
       "38  Considering the information from an article by...        null_query   \n",
       "39  Considering the information from an article by...        null_query   \n",
       "\n",
       "                                            gold_list  \\\n",
       "20                                                 []   \n",
       "21  [{'fact': 'We urge you to read the requirement...   \n",
       "22  [{'fact': 'Valve has announced a new Steam Dec...   \n",
       "23  [{'fact': 'This isn’t the first time that Jada...   \n",
       "24                                                 []   \n",
       "25  [{'fact': 'On his podcast, he later invited th...   \n",
       "26  [{'fact': 'This whole line of argument is call...   \n",
       "27  [{'fact': 'In terms of privacy, the company no...   \n",
       "28  [{'fact': 'Sales in its Latin America and Asia...   \n",
       "29  [{'fact': 'Quebec’s premier ski resort sits at...   \n",
       "30  [{'fact': 'When Google’s search head Prabhakar...   \n",
       "31  [{'fact': 'And if you want to do even more res...   \n",
       "32  [{'fact': 'At its first developer conference l...   \n",
       "33  [{'fact': 'Hundreds of women have filed lawsui...   \n",
       "34  [{'fact': 'When Google’s search head Prabhakar...   \n",
       "35  [{'fact': 'Because GPT-4 is more likely to fol...   \n",
       "36  [{'fact': 'Caesars also has a cash-out option ...   \n",
       "37  [{'fact': '“So we’ve been doing this whole pus...   \n",
       "38                                                 []   \n",
       "39                                                 []   \n",
       "\n",
       "                                       retrieval_list  \\\n",
       "20                                                 []   \n",
       "21  [{'text': 'FanDuel promo code link for MNF Eag...   \n",
       "22  [{'text': 'Finally, there’s also a Limited Edi...   \n",
       "23  [{'text': 'The Fresh Prince of Bel-Air star ha...   \n",
       "24                                                 []   \n",
       "25  [{'text': 'Stay ahead of the trend in fashion ...   \n",
       "26  [{'text': 'Google CEO Sundar Pichai testified ...   \n",
       "27  [{'text': '“We do want to integrate an LLM in ...   \n",
       "28  [{'text': 'In Europe, the Middle East and Afri...   \n",
       "29  [{'text': 'Tremblant\n",
       "\n",
       "Tremblant is Quebec’s pr...   \n",
       "30  [{'text': 'The government has argued that Goog...   \n",
       "31                                                 []   \n",
       "32  [{'text': 'At its first developer conference l...   \n",
       "33  [{'text': 'Hundreds of women have filed lawsui...   \n",
       "34  [{'text': 'Update (Nov. 17): Checked prices an...   \n",
       "35  [{'text': '“[M]ore collaboration and informati...   \n",
       "36  [{'text': 'See more:\n",
       "\n",
       "Caesars Sportsbook\n",
       "\n",
       "Caes...   \n",
       "37  [{'text': 'That said, much like the consumeriz...   \n",
       "38                                                 []   \n",
       "39                                                 []   \n",
       "\n",
       "                                         model_answer  \\\n",
       "20  I do not have enough information to answer the...   \n",
       "21  Yes, the advice provided by Sporting News to b...   \n",
       "22  Valve is set to release an updated gaming hard...   \n",
       "23  No, there was no inconsistency in Jada Pinkett...   \n",
       "24  Based on the information provided, I cannot de...   \n",
       "25  No, the news about Taylor Swift's relationship...   \n",
       "26  Yes, the portrayal of Google's market practice...   \n",
       "27  Yes, the TechCrunch article suggests that Amaz...   \n",
       "28  Yes, both reports indicate a decrease in their...   \n",
       "29  Yes, the coverage of ski resorts by 'The Indep...   \n",
       "30  The company you are referring to is Google. Ac...   \n",
       "31  I don't have enough information to answer the ...   \n",
       "32  The individual associated with OpenAI, recogni...   \n",
       "33  The company that recently reported significant...   \n",
       "34  Yes, there is an inconsistency in the portraya...   \n",
       "35  Yes, the TechCrunch article on GPT-4 suggests ...   \n",
       "36  Yes, the Sporting News article claims that Cae...   \n",
       "37  Yes, the TechCrunch article on generative AI i...   \n",
       "38  I don't have enough information to answer the ...   \n",
       "39  I don't have enough information to answer the ...   \n",
       "\n",
       "                  gold_answer  \n",
       "20  Insufficient information.  \n",
       "21                         no  \n",
       "22                      Valve  \n",
       "23                         no  \n",
       "24  Insufficient information.  \n",
       "25                         no  \n",
       "26                         no  \n",
       "27                        Yes  \n",
       "28                         no  \n",
       "29                         no  \n",
       "30                     Google  \n",
       "31                        Yes  \n",
       "32                 Sam Altman  \n",
       "33                       Uber  \n",
       "34                         no  \n",
       "35                        Yes  \n",
       "36                        Yes  \n",
       "37                        Yes  \n",
       "38  Insufficient information.  \n",
       "39  Insufficient information.  "
      ]
     },
     "execution_count": 19,
     "metadata": {},
     "output_type": "execute_result"
    }
   ],
   "source": [
    "df_dataset_multihop[\"retrieval_list\"] = results[\"all_contexts_multihop\"]\n",
    "df_dataset_multihop[\"model_answer\"] = results[\"all_results\"]\n",
    "df_dataset_multihop.to_json(\"/home/yarikama/VGMARS/src/.dataset/multihop/result_sample_10.json\", orient=\"records\", indent=4)\n",
    "df_dataset_multihop"
   ]
  },
  {
   "cell_type": "markdown",
   "metadata": {},
   "source": [
    "# Use RAGAS to Evaluate Multihop"
   ]
  },
  {
   "cell_type": "code",
   "execution_count": 20,
   "metadata": {},
   "outputs": [
    {
     "data": {
      "text/html": [
       "<div>\n",
       "<style scoped>\n",
       "    .dataframe tbody tr th:only-of-type {\n",
       "        vertical-align: middle;\n",
       "    }\n",
       "\n",
       "    .dataframe tbody tr th {\n",
       "        vertical-align: top;\n",
       "    }\n",
       "\n",
       "    .dataframe thead th {\n",
       "        text-align: right;\n",
       "    }\n",
       "</style>\n",
       "<table border=\"1\" class=\"dataframe\">\n",
       "  <thead>\n",
       "    <tr style=\"text-align: right;\">\n",
       "      <th></th>\n",
       "      <th>question</th>\n",
       "      <th>answer</th>\n",
       "      <th>contexts</th>\n",
       "      <th>ground_truth</th>\n",
       "    </tr>\n",
       "  </thead>\n",
       "  <tbody>\n",
       "    <tr>\n",
       "      <th>20</th>\n",
       "      <td>Considering the information from an article in...</td>\n",
       "      <td>I do not have enough information to answer the...</td>\n",
       "      <td>[Retrieved Data: ['BJ is the son of Alicia Plu...</td>\n",
       "      <td>Insufficient information.</td>\n",
       "    </tr>\n",
       "    <tr>\n",
       "      <th>21</th>\n",
       "      <td>Has the advice provided by Sporting News to be...</td>\n",
       "      <td>Yes, the advice provided by Sporting News to b...</td>\n",
       "      <td>[The advice provided by Sporting News to betto...</td>\n",
       "      <td>no</td>\n",
       "    </tr>\n",
       "    <tr>\n",
       "      <th>22</th>\n",
       "      <td>Which company, covered by Engadget and Polygon...</td>\n",
       "      <td>Valve is set to release an updated gaming hard...</td>\n",
       "      <td>[Valve is set to release an updated gaming har...</td>\n",
       "      <td>Valve</td>\n",
       "    </tr>\n",
       "    <tr>\n",
       "      <th>23</th>\n",
       "      <td>Was there inconsistency in Jada Pinkett Smith'...</td>\n",
       "      <td>No, there was no inconsistency in Jada Pinkett...</td>\n",
       "      <td>[On 16 October, Jada Pinkett Smith stated duri...</td>\n",
       "      <td>no</td>\n",
       "    </tr>\n",
       "    <tr>\n",
       "      <th>24</th>\n",
       "      <td>Considering the economic forecasts from a Bloo...</td>\n",
       "      <td>Based on the information provided, I cannot de...</td>\n",
       "      <td>[The community encompasses key entities involv...</td>\n",
       "      <td>Insufficient information.</td>\n",
       "    </tr>\n",
       "    <tr>\n",
       "      <th>25</th>\n",
       "      <td>Was the news about Taylor Swift's relationship...</td>\n",
       "      <td>No, the news about Taylor Swift's relationship...</td>\n",
       "      <td>[1. Taylor Swift revealed in an interview with...</td>\n",
       "      <td>no</td>\n",
       "    </tr>\n",
       "    <tr>\n",
       "      <th>26</th>\n",
       "      <td>Has the portrayal of Google's market practices...</td>\n",
       "      <td>Yes, the portrayal of Google's market practice...</td>\n",
       "      <td>[The Age's report on Google's market practices...</td>\n",
       "      <td>no</td>\n",
       "    </tr>\n",
       "    <tr>\n",
       "      <th>27</th>\n",
       "      <td>Does the TechCrunch article suggest that Amazo...</td>\n",
       "      <td>Yes, the TechCrunch article suggests that Amaz...</td>\n",
       "      <td>[Amazon's large language model (LLM) is not tr...</td>\n",
       "      <td>Yes</td>\n",
       "    </tr>\n",
       "    <tr>\n",
       "      <th>28</th>\n",
       "      <td>Did the report from Cnbc | World Business News...</td>\n",
       "      <td>Yes, both reports indicate a decrease in their...</td>\n",
       "      <td>[In Europe, the Middle East and Africa, sales ...</td>\n",
       "      <td>no</td>\n",
       "    </tr>\n",
       "    <tr>\n",
       "      <th>29</th>\n",
       "      <td>Did the coverage of ski resorts by 'The Indepe...</td>\n",
       "      <td>Yes, the coverage of ski resorts by 'The Indep...</td>\n",
       "      <td>[1. On October 13, 2023, 'The Independent - Tr...</td>\n",
       "      <td>no</td>\n",
       "    </tr>\n",
       "    <tr>\n",
       "      <th>30</th>\n",
       "      <td>Which company, according to articles from Tech...</td>\n",
       "      <td>The company you are referring to is Google. Ac...</td>\n",
       "      <td>[The government has argued that Google uses it...</td>\n",
       "      <td>Google</td>\n",
       "    </tr>\n",
       "    <tr>\n",
       "      <th>31</th>\n",
       "      <td>Do 'The Verge' and 'Engadget' articles both su...</td>\n",
       "      <td>I don't have enough information to answer the ...</td>\n",
       "      <td>[WIRED features articles and recommendations o...</td>\n",
       "      <td>Yes</td>\n",
       "    </tr>\n",
       "    <tr>\n",
       "      <th>32</th>\n",
       "      <td>Who is the individual associated with OpenAI, ...</td>\n",
       "      <td>The individual associated with OpenAI, recogni...</td>\n",
       "      <td>[Sam Altman is the individual associated with ...</td>\n",
       "      <td>Sam Altman</td>\n",
       "    </tr>\n",
       "    <tr>\n",
       "      <th>33</th>\n",
       "      <td>What company, recently reported by TechCrunch ...</td>\n",
       "      <td>The company that recently reported significant...</td>\n",
       "      <td>[Uber reported third-quarter earnings on Tuesd...</td>\n",
       "      <td>Uber</td>\n",
       "    </tr>\n",
       "    <tr>\n",
       "      <th>34</th>\n",
       "      <td>After TechCrunch reported on October 31, 2023,...</td>\n",
       "      <td>Yes, there is an inconsistency in the portraya...</td>\n",
       "      <td>[1. On October 31, 2023, TechCrunch reported o...</td>\n",
       "      <td>no</td>\n",
       "    </tr>\n",
       "    <tr>\n",
       "      <th>35</th>\n",
       "      <td>Does the TechCrunch article on GPT-4 suggest a...</td>\n",
       "      <td>Yes, the TechCrunch article on GPT-4 suggests ...</td>\n",
       "      <td>[OpenAI-affiliated research indicates that GPT...</td>\n",
       "      <td>Yes</td>\n",
       "    </tr>\n",
       "    <tr>\n",
       "      <th>36</th>\n",
       "      <td>Does the Sporting News article claim that Caes...</td>\n",
       "      <td>Yes, the Sporting News article claims that Cae...</td>\n",
       "      <td>[Caesars Sportsbook offers a cash-out option t...</td>\n",
       "      <td>Yes</td>\n",
       "    </tr>\n",
       "    <tr>\n",
       "      <th>37</th>\n",
       "      <td>Does the TechCrunch article on generative AI i...</td>\n",
       "      <td>Yes, the TechCrunch article on generative AI i...</td>\n",
       "      <td>[CIOs are under pressure to deliver the kind o...</td>\n",
       "      <td>Yes</td>\n",
       "    </tr>\n",
       "    <tr>\n",
       "      <th>38</th>\n",
       "      <td>Considering the information from an article by...</td>\n",
       "      <td>I don't have enough information to answer the ...</td>\n",
       "      <td>[Sankaet Pathak is the CEO of Synapse, who has...</td>\n",
       "      <td>Insufficient information.</td>\n",
       "    </tr>\n",
       "    <tr>\n",
       "      <th>39</th>\n",
       "      <td>Considering the information from an article by...</td>\n",
       "      <td>I don't have enough information to answer the ...</td>\n",
       "      <td>[John J. Ray III is the individual currently l...</td>\n",
       "      <td>Insufficient information.</td>\n",
       "    </tr>\n",
       "  </tbody>\n",
       "</table>\n",
       "</div>"
      ],
      "text/plain": [
       "                                             question  \\\n",
       "20  Considering the information from an article in...   \n",
       "21  Has the advice provided by Sporting News to be...   \n",
       "22  Which company, covered by Engadget and Polygon...   \n",
       "23  Was there inconsistency in Jada Pinkett Smith'...   \n",
       "24  Considering the economic forecasts from a Bloo...   \n",
       "25  Was the news about Taylor Swift's relationship...   \n",
       "26  Has the portrayal of Google's market practices...   \n",
       "27  Does the TechCrunch article suggest that Amazo...   \n",
       "28  Did the report from Cnbc | World Business News...   \n",
       "29  Did the coverage of ski resorts by 'The Indepe...   \n",
       "30  Which company, according to articles from Tech...   \n",
       "31  Do 'The Verge' and 'Engadget' articles both su...   \n",
       "32  Who is the individual associated with OpenAI, ...   \n",
       "33  What company, recently reported by TechCrunch ...   \n",
       "34  After TechCrunch reported on October 31, 2023,...   \n",
       "35  Does the TechCrunch article on GPT-4 suggest a...   \n",
       "36  Does the Sporting News article claim that Caes...   \n",
       "37  Does the TechCrunch article on generative AI i...   \n",
       "38  Considering the information from an article by...   \n",
       "39  Considering the information from an article by...   \n",
       "\n",
       "                                               answer  \\\n",
       "20  I do not have enough information to answer the...   \n",
       "21  Yes, the advice provided by Sporting News to b...   \n",
       "22  Valve is set to release an updated gaming hard...   \n",
       "23  No, there was no inconsistency in Jada Pinkett...   \n",
       "24  Based on the information provided, I cannot de...   \n",
       "25  No, the news about Taylor Swift's relationship...   \n",
       "26  Yes, the portrayal of Google's market practice...   \n",
       "27  Yes, the TechCrunch article suggests that Amaz...   \n",
       "28  Yes, both reports indicate a decrease in their...   \n",
       "29  Yes, the coverage of ski resorts by 'The Indep...   \n",
       "30  The company you are referring to is Google. Ac...   \n",
       "31  I don't have enough information to answer the ...   \n",
       "32  The individual associated with OpenAI, recogni...   \n",
       "33  The company that recently reported significant...   \n",
       "34  Yes, there is an inconsistency in the portraya...   \n",
       "35  Yes, the TechCrunch article on GPT-4 suggests ...   \n",
       "36  Yes, the Sporting News article claims that Cae...   \n",
       "37  Yes, the TechCrunch article on generative AI i...   \n",
       "38  I don't have enough information to answer the ...   \n",
       "39  I don't have enough information to answer the ...   \n",
       "\n",
       "                                             contexts  \\\n",
       "20  [Retrieved Data: ['BJ is the son of Alicia Plu...   \n",
       "21  [The advice provided by Sporting News to betto...   \n",
       "22  [Valve is set to release an updated gaming har...   \n",
       "23  [On 16 October, Jada Pinkett Smith stated duri...   \n",
       "24  [The community encompasses key entities involv...   \n",
       "25  [1. Taylor Swift revealed in an interview with...   \n",
       "26  [The Age's report on Google's market practices...   \n",
       "27  [Amazon's large language model (LLM) is not tr...   \n",
       "28  [In Europe, the Middle East and Africa, sales ...   \n",
       "29  [1. On October 13, 2023, 'The Independent - Tr...   \n",
       "30  [The government has argued that Google uses it...   \n",
       "31  [WIRED features articles and recommendations o...   \n",
       "32  [Sam Altman is the individual associated with ...   \n",
       "33  [Uber reported third-quarter earnings on Tuesd...   \n",
       "34  [1. On October 31, 2023, TechCrunch reported o...   \n",
       "35  [OpenAI-affiliated research indicates that GPT...   \n",
       "36  [Caesars Sportsbook offers a cash-out option t...   \n",
       "37  [CIOs are under pressure to deliver the kind o...   \n",
       "38  [Sankaet Pathak is the CEO of Synapse, who has...   \n",
       "39  [John J. Ray III is the individual currently l...   \n",
       "\n",
       "                 ground_truth  \n",
       "20  Insufficient information.  \n",
       "21                         no  \n",
       "22                      Valve  \n",
       "23                         no  \n",
       "24  Insufficient information.  \n",
       "25                         no  \n",
       "26                         no  \n",
       "27                        Yes  \n",
       "28                         no  \n",
       "29                         no  \n",
       "30                     Google  \n",
       "31                        Yes  \n",
       "32                 Sam Altman  \n",
       "33                       Uber  \n",
       "34                         no  \n",
       "35                        Yes  \n",
       "36                        Yes  \n",
       "37                        Yes  \n",
       "38  Insufficient information.  \n",
       "39  Insufficient information.  "
      ]
     },
     "execution_count": 20,
     "metadata": {},
     "output_type": "execute_result"
    }
   ],
   "source": [
    "ragas_multihop = pd.DataFrame({\n",
    "    \"question\": df_dataset_multihop[\"query\"],\n",
    "    \"answer\": df_dataset_multihop[\"model_answer\"],\n",
    "    \"contexts\": results[\"all_contexts_ragas\"],\n",
    "    \"ground_truth\": df_dataset_multihop[\"gold_answer\"]\n",
    "})\n",
    "ragas_multihop"
   ]
  },
  {
   "cell_type": "code",
   "execution_count": 21,
   "metadata": {},
   "outputs": [
    {
     "data": {
      "text/plain": [
       "Dataset({\n",
       "    features: ['question', 'answer', 'contexts', 'ground_truth'],\n",
       "    num_rows: 20\n",
       "})"
      ]
     },
     "execution_count": 21,
     "metadata": {},
     "output_type": "execute_result"
    }
   ],
   "source": [
    "from datasets import Dataset\n",
    "ragas_multihop_evaluation = Dataset.from_pandas(ragas_multihop)\n",
    "ragas_multihop_evaluation"
   ]
  },
  {
   "cell_type": "code",
   "execution_count": 22,
   "metadata": {},
   "outputs": [
    {
     "data": {
      "application/vnd.jupyter.widget-view+json": {
       "model_id": "bbb8a3c8ae004bfaa304ebf9c9f4ecc0",
       "version_major": 2,
       "version_minor": 0
      },
      "text/plain": [
       "Evaluating:   0%|          | 0/80 [00:00<?, ?it/s]"
      ]
     },
     "metadata": {},
     "output_type": "display_data"
    },
    {
     "data": {
      "text/html": [
       "<div>\n",
       "<style scoped>\n",
       "    .dataframe tbody tr th:only-of-type {\n",
       "        vertical-align: middle;\n",
       "    }\n",
       "\n",
       "    .dataframe tbody tr th {\n",
       "        vertical-align: top;\n",
       "    }\n",
       "\n",
       "    .dataframe thead th {\n",
       "        text-align: right;\n",
       "    }\n",
       "</style>\n",
       "<table border=\"1\" class=\"dataframe\">\n",
       "  <thead>\n",
       "    <tr style=\"text-align: right;\">\n",
       "      <th></th>\n",
       "      <th>question</th>\n",
       "      <th>answer</th>\n",
       "      <th>contexts</th>\n",
       "      <th>ground_truth</th>\n",
       "      <th>faithfulness</th>\n",
       "      <th>answer_relevancy</th>\n",
       "      <th>context_precision</th>\n",
       "      <th>context_recall</th>\n",
       "    </tr>\n",
       "  </thead>\n",
       "  <tbody>\n",
       "    <tr>\n",
       "      <th>0</th>\n",
       "      <td>Considering the information from an article in...</td>\n",
       "      <td>I do not have enough information to answer the...</td>\n",
       "      <td>[Retrieved Data: ['BJ is the son of Alicia Plu...</td>\n",
       "      <td>Insufficient information.</td>\n",
       "      <td>0.833333</td>\n",
       "      <td>0.000000</td>\n",
       "      <td>0.325000</td>\n",
       "      <td>0.000000</td>\n",
       "    </tr>\n",
       "    <tr>\n",
       "      <th>1</th>\n",
       "      <td>Has the advice provided by Sporting News to be...</td>\n",
       "      <td>Yes, the advice provided by Sporting News to b...</td>\n",
       "      <td>[The advice provided by Sporting News to betto...</td>\n",
       "      <td>no</td>\n",
       "      <td>0.916667</td>\n",
       "      <td>0.903719</td>\n",
       "      <td>0.000000</td>\n",
       "      <td>1.000000</td>\n",
       "    </tr>\n",
       "    <tr>\n",
       "      <th>2</th>\n",
       "      <td>Which company, covered by Engadget and Polygon...</td>\n",
       "      <td>Valve is set to release an updated gaming hard...</td>\n",
       "      <td>[Valve is set to release an updated gaming har...</td>\n",
       "      <td>Valve</td>\n",
       "      <td>1.000000</td>\n",
       "      <td>0.822531</td>\n",
       "      <td>0.642857</td>\n",
       "      <td>1.000000</td>\n",
       "    </tr>\n",
       "    <tr>\n",
       "      <th>3</th>\n",
       "      <td>Was there inconsistency in Jada Pinkett Smith'...</td>\n",
       "      <td>No, there was no inconsistency in Jada Pinkett...</td>\n",
       "      <td>[On 16 October, Jada Pinkett Smith stated duri...</td>\n",
       "      <td>no</td>\n",
       "      <td>1.000000</td>\n",
       "      <td>0.927652</td>\n",
       "      <td>0.733333</td>\n",
       "      <td>1.000000</td>\n",
       "    </tr>\n",
       "    <tr>\n",
       "      <th>4</th>\n",
       "      <td>Considering the economic forecasts from a Bloo...</td>\n",
       "      <td>Based on the information provided, I cannot de...</td>\n",
       "      <td>[The community encompasses key entities involv...</td>\n",
       "      <td>Insufficient information.</td>\n",
       "      <td>0.833333</td>\n",
       "      <td>0.000000</td>\n",
       "      <td>0.166667</td>\n",
       "      <td>1.000000</td>\n",
       "    </tr>\n",
       "    <tr>\n",
       "      <th>5</th>\n",
       "      <td>Was the news about Taylor Swift's relationship...</td>\n",
       "      <td>No, the news about Taylor Swift's relationship...</td>\n",
       "      <td>[1. Taylor Swift revealed in an interview with...</td>\n",
       "      <td>no</td>\n",
       "      <td>1.000000</td>\n",
       "      <td>0.943957</td>\n",
       "      <td>0.950000</td>\n",
       "      <td>0.000000</td>\n",
       "    </tr>\n",
       "    <tr>\n",
       "      <th>6</th>\n",
       "      <td>Has the portrayal of Google's market practices...</td>\n",
       "      <td>Yes, the portrayal of Google's market practice...</td>\n",
       "      <td>[The Age's report on Google's market practices...</td>\n",
       "      <td>no</td>\n",
       "      <td>1.000000</td>\n",
       "      <td>0.920056</td>\n",
       "      <td>0.833333</td>\n",
       "      <td>0.800000</td>\n",
       "    </tr>\n",
       "    <tr>\n",
       "      <th>7</th>\n",
       "      <td>Does the TechCrunch article suggest that Amazo...</td>\n",
       "      <td>Yes, the TechCrunch article suggests that Amaz...</td>\n",
       "      <td>[Amazon's large language model (LLM) is not tr...</td>\n",
       "      <td>Yes</td>\n",
       "      <td>1.000000</td>\n",
       "      <td>0.934717</td>\n",
       "      <td>0.700000</td>\n",
       "      <td>1.000000</td>\n",
       "    </tr>\n",
       "    <tr>\n",
       "      <th>8</th>\n",
       "      <td>Did the report from Cnbc | World Business News...</td>\n",
       "      <td>Yes, both reports indicate a decrease in their...</td>\n",
       "      <td>[In Europe, the Middle East and Africa, sales ...</td>\n",
       "      <td>no</td>\n",
       "      <td>0.812500</td>\n",
       "      <td>0.880171</td>\n",
       "      <td>0.500000</td>\n",
       "      <td>1.000000</td>\n",
       "    </tr>\n",
       "    <tr>\n",
       "      <th>9</th>\n",
       "      <td>Did the coverage of ski resorts by 'The Indepe...</td>\n",
       "      <td>Yes, the coverage of ski resorts by 'The Indep...</td>\n",
       "      <td>[1. On October 13, 2023, 'The Independent - Tr...</td>\n",
       "      <td>no</td>\n",
       "      <td>1.000000</td>\n",
       "      <td>0.949352</td>\n",
       "      <td>0.383333</td>\n",
       "      <td>0.750000</td>\n",
       "    </tr>\n",
       "    <tr>\n",
       "      <th>10</th>\n",
       "      <td>Which company, according to articles from Tech...</td>\n",
       "      <td>The company you are referring to is Google. Ac...</td>\n",
       "      <td>[The government has argued that Google uses it...</td>\n",
       "      <td>Google</td>\n",
       "      <td>0.850000</td>\n",
       "      <td>0.867696</td>\n",
       "      <td>1.000000</td>\n",
       "      <td>0.666667</td>\n",
       "    </tr>\n",
       "    <tr>\n",
       "      <th>11</th>\n",
       "      <td>Do 'The Verge' and 'Engadget' articles both su...</td>\n",
       "      <td>I don't have enough information to answer the ...</td>\n",
       "      <td>[WIRED features articles and recommendations o...</td>\n",
       "      <td>Yes</td>\n",
       "      <td>0.800000</td>\n",
       "      <td>0.000000</td>\n",
       "      <td>0.500000</td>\n",
       "      <td>0.000000</td>\n",
       "    </tr>\n",
       "    <tr>\n",
       "      <th>12</th>\n",
       "      <td>Who is the individual associated with OpenAI, ...</td>\n",
       "      <td>The individual associated with OpenAI, recogni...</td>\n",
       "      <td>[Sam Altman is the individual associated with ...</td>\n",
       "      <td>Sam Altman</td>\n",
       "      <td>1.000000</td>\n",
       "      <td>0.866347</td>\n",
       "      <td>0.966667</td>\n",
       "      <td>1.000000</td>\n",
       "    </tr>\n",
       "    <tr>\n",
       "      <th>13</th>\n",
       "      <td>What company, recently reported by TechCrunch ...</td>\n",
       "      <td>The company that recently reported significant...</td>\n",
       "      <td>[Uber reported third-quarter earnings on Tuesd...</td>\n",
       "      <td>Uber</td>\n",
       "      <td>0.944444</td>\n",
       "      <td>0.882918</td>\n",
       "      <td>1.000000</td>\n",
       "      <td>1.000000</td>\n",
       "    </tr>\n",
       "    <tr>\n",
       "      <th>14</th>\n",
       "      <td>After TechCrunch reported on October 31, 2023,...</td>\n",
       "      <td>Yes, there is an inconsistency in the portraya...</td>\n",
       "      <td>[1. On October 31, 2023, TechCrunch reported o...</td>\n",
       "      <td>no</td>\n",
       "      <td>1.000000</td>\n",
       "      <td>0.921224</td>\n",
       "      <td>0.416667</td>\n",
       "      <td>0.800000</td>\n",
       "    </tr>\n",
       "    <tr>\n",
       "      <th>15</th>\n",
       "      <td>Does the TechCrunch article on GPT-4 suggest a...</td>\n",
       "      <td>Yes, the TechCrunch article on GPT-4 suggests ...</td>\n",
       "      <td>[OpenAI-affiliated research indicates that GPT...</td>\n",
       "      <td>Yes</td>\n",
       "      <td>1.000000</td>\n",
       "      <td>0.941537</td>\n",
       "      <td>1.000000</td>\n",
       "      <td>1.000000</td>\n",
       "    </tr>\n",
       "    <tr>\n",
       "      <th>16</th>\n",
       "      <td>Does the Sporting News article claim that Caes...</td>\n",
       "      <td>Yes, the Sporting News article claims that Cae...</td>\n",
       "      <td>[Caesars Sportsbook offers a cash-out option t...</td>\n",
       "      <td>Yes</td>\n",
       "      <td>0.785714</td>\n",
       "      <td>0.886574</td>\n",
       "      <td>0.750000</td>\n",
       "      <td>1.000000</td>\n",
       "    </tr>\n",
       "    <tr>\n",
       "      <th>17</th>\n",
       "      <td>Does the TechCrunch article on generative AI i...</td>\n",
       "      <td>Yes, the TechCrunch article on generative AI i...</td>\n",
       "      <td>[CIOs are under pressure to deliver the kind o...</td>\n",
       "      <td>Yes</td>\n",
       "      <td>1.000000</td>\n",
       "      <td>0.947789</td>\n",
       "      <td>0.915079</td>\n",
       "      <td>1.000000</td>\n",
       "    </tr>\n",
       "    <tr>\n",
       "      <th>18</th>\n",
       "      <td>Considering the information from an article by...</td>\n",
       "      <td>I don't have enough information to answer the ...</td>\n",
       "      <td>[Sankaet Pathak is the CEO of Synapse, who has...</td>\n",
       "      <td>Insufficient information.</td>\n",
       "      <td>1.000000</td>\n",
       "      <td>0.000000</td>\n",
       "      <td>0.638889</td>\n",
       "      <td>1.000000</td>\n",
       "    </tr>\n",
       "    <tr>\n",
       "      <th>19</th>\n",
       "      <td>Considering the information from an article by...</td>\n",
       "      <td>I don't have enough information to answer the ...</td>\n",
       "      <td>[John J. Ray III is the individual currently l...</td>\n",
       "      <td>Insufficient information.</td>\n",
       "      <td>1.000000</td>\n",
       "      <td>0.000000</td>\n",
       "      <td>0.325000</td>\n",
       "      <td>1.000000</td>\n",
       "    </tr>\n",
       "  </tbody>\n",
       "</table>\n",
       "</div>"
      ],
      "text/plain": [
       "                                             question  \\\n",
       "0   Considering the information from an article in...   \n",
       "1   Has the advice provided by Sporting News to be...   \n",
       "2   Which company, covered by Engadget and Polygon...   \n",
       "3   Was there inconsistency in Jada Pinkett Smith'...   \n",
       "4   Considering the economic forecasts from a Bloo...   \n",
       "5   Was the news about Taylor Swift's relationship...   \n",
       "6   Has the portrayal of Google's market practices...   \n",
       "7   Does the TechCrunch article suggest that Amazo...   \n",
       "8   Did the report from Cnbc | World Business News...   \n",
       "9   Did the coverage of ski resorts by 'The Indepe...   \n",
       "10  Which company, according to articles from Tech...   \n",
       "11  Do 'The Verge' and 'Engadget' articles both su...   \n",
       "12  Who is the individual associated with OpenAI, ...   \n",
       "13  What company, recently reported by TechCrunch ...   \n",
       "14  After TechCrunch reported on October 31, 2023,...   \n",
       "15  Does the TechCrunch article on GPT-4 suggest a...   \n",
       "16  Does the Sporting News article claim that Caes...   \n",
       "17  Does the TechCrunch article on generative AI i...   \n",
       "18  Considering the information from an article by...   \n",
       "19  Considering the information from an article by...   \n",
       "\n",
       "                                               answer  \\\n",
       "0   I do not have enough information to answer the...   \n",
       "1   Yes, the advice provided by Sporting News to b...   \n",
       "2   Valve is set to release an updated gaming hard...   \n",
       "3   No, there was no inconsistency in Jada Pinkett...   \n",
       "4   Based on the information provided, I cannot de...   \n",
       "5   No, the news about Taylor Swift's relationship...   \n",
       "6   Yes, the portrayal of Google's market practice...   \n",
       "7   Yes, the TechCrunch article suggests that Amaz...   \n",
       "8   Yes, both reports indicate a decrease in their...   \n",
       "9   Yes, the coverage of ski resorts by 'The Indep...   \n",
       "10  The company you are referring to is Google. Ac...   \n",
       "11  I don't have enough information to answer the ...   \n",
       "12  The individual associated with OpenAI, recogni...   \n",
       "13  The company that recently reported significant...   \n",
       "14  Yes, there is an inconsistency in the portraya...   \n",
       "15  Yes, the TechCrunch article on GPT-4 suggests ...   \n",
       "16  Yes, the Sporting News article claims that Cae...   \n",
       "17  Yes, the TechCrunch article on generative AI i...   \n",
       "18  I don't have enough information to answer the ...   \n",
       "19  I don't have enough information to answer the ...   \n",
       "\n",
       "                                             contexts  \\\n",
       "0   [Retrieved Data: ['BJ is the son of Alicia Plu...   \n",
       "1   [The advice provided by Sporting News to betto...   \n",
       "2   [Valve is set to release an updated gaming har...   \n",
       "3   [On 16 October, Jada Pinkett Smith stated duri...   \n",
       "4   [The community encompasses key entities involv...   \n",
       "5   [1. Taylor Swift revealed in an interview with...   \n",
       "6   [The Age's report on Google's market practices...   \n",
       "7   [Amazon's large language model (LLM) is not tr...   \n",
       "8   [In Europe, the Middle East and Africa, sales ...   \n",
       "9   [1. On October 13, 2023, 'The Independent - Tr...   \n",
       "10  [The government has argued that Google uses it...   \n",
       "11  [WIRED features articles and recommendations o...   \n",
       "12  [Sam Altman is the individual associated with ...   \n",
       "13  [Uber reported third-quarter earnings on Tuesd...   \n",
       "14  [1. On October 31, 2023, TechCrunch reported o...   \n",
       "15  [OpenAI-affiliated research indicates that GPT...   \n",
       "16  [Caesars Sportsbook offers a cash-out option t...   \n",
       "17  [CIOs are under pressure to deliver the kind o...   \n",
       "18  [Sankaet Pathak is the CEO of Synapse, who has...   \n",
       "19  [John J. Ray III is the individual currently l...   \n",
       "\n",
       "                 ground_truth  faithfulness  answer_relevancy  \\\n",
       "0   Insufficient information.      0.833333          0.000000   \n",
       "1                          no      0.916667          0.903719   \n",
       "2                       Valve      1.000000          0.822531   \n",
       "3                          no      1.000000          0.927652   \n",
       "4   Insufficient information.      0.833333          0.000000   \n",
       "5                          no      1.000000          0.943957   \n",
       "6                          no      1.000000          0.920056   \n",
       "7                         Yes      1.000000          0.934717   \n",
       "8                          no      0.812500          0.880171   \n",
       "9                          no      1.000000          0.949352   \n",
       "10                     Google      0.850000          0.867696   \n",
       "11                        Yes      0.800000          0.000000   \n",
       "12                 Sam Altman      1.000000          0.866347   \n",
       "13                       Uber      0.944444          0.882918   \n",
       "14                         no      1.000000          0.921224   \n",
       "15                        Yes      1.000000          0.941537   \n",
       "16                        Yes      0.785714          0.886574   \n",
       "17                        Yes      1.000000          0.947789   \n",
       "18  Insufficient information.      1.000000          0.000000   \n",
       "19  Insufficient information.      1.000000          0.000000   \n",
       "\n",
       "    context_precision  context_recall  \n",
       "0            0.325000        0.000000  \n",
       "1            0.000000        1.000000  \n",
       "2            0.642857        1.000000  \n",
       "3            0.733333        1.000000  \n",
       "4            0.166667        1.000000  \n",
       "5            0.950000        0.000000  \n",
       "6            0.833333        0.800000  \n",
       "7            0.700000        1.000000  \n",
       "8            0.500000        1.000000  \n",
       "9            0.383333        0.750000  \n",
       "10           1.000000        0.666667  \n",
       "11           0.500000        0.000000  \n",
       "12           0.966667        1.000000  \n",
       "13           1.000000        1.000000  \n",
       "14           0.416667        0.800000  \n",
       "15           1.000000        1.000000  \n",
       "16           0.750000        1.000000  \n",
       "17           0.915079        1.000000  \n",
       "18           0.638889        1.000000  \n",
       "19           0.325000        1.000000  "
      ]
     },
     "execution_count": 22,
     "metadata": {},
     "output_type": "execute_result"
    }
   ],
   "source": [
    "from ragas import evaluate\n",
    "from ragas.metrics import (\n",
    "    faithfulness,\n",
    "    answer_relevancy,\n",
    "    context_recall,\n",
    "    context_precision,\n",
    ")\n",
    "\n",
    "result = evaluate(\n",
    "    dataset = ragas_multihop_evaluation, \n",
    "    metrics=[\n",
    "        faithfulness,\n",
    "        answer_relevancy,\n",
    "        context_precision,\n",
    "        context_recall,\n",
    "    ],\n",
    ")\n",
    "\n",
    "df = result.to_pandas()\n",
    "df"
   ]
  },
  {
   "cell_type": "markdown",
   "metadata": {},
   "source": [
    "# Test out Retriever for local retriever and global retriever"
   ]
  },
  {
   "cell_type": "code",
   "execution_count": null,
   "metadata": {},
   "outputs": [],
   "source": [
    "from Utils import *\n",
    "retriever = Retriever()\n",
    "knowledge_DB = KnowledgeGraphDatabase()\n",
    "# knowledge_DB.create_entity_vector_index()\n",
    "# knowledge_DB.create_community_weight()\n",
    "global_result = retriever.global_retrieve(0)\n",
    "local_result = retriever.local_retrieve([\"What is the meaning of life\"])"
   ]
  },
  {
   "cell_type": "code",
   "execution_count": null,
   "metadata": {},
   "outputs": [],
   "source": [
    "local_result"
   ]
  },
  {
   "cell_type": "code",
   "execution_count": null,
   "metadata": {},
   "outputs": [],
   "source": [
    "global_result[\"communities\"]"
   ]
  },
  {
   "cell_type": "code",
   "execution_count": null,
   "metadata": {},
   "outputs": [],
   "source": [
    "import Config.constants as const\n",
    "import json\n",
    "from MultiAgent import *\n",
    "from Utils import *\n",
    "\n",
    "retriever = Retriever()\n",
    "multi_agent = MultiAgent_RAG()\n",
    "# all_communities = retriever.global_retrieve(0)[\"communities\"]\n",
    "\n",
    "# batches = []\n",
    "# for i in range(0, len(all_communities), const.NODE_BATCH_SIZE):\n",
    "#     batch_communities = all_communities[i:i + const.NODE_BATCH_SIZE]\n",
    "#     batches.append({\n",
    "#         \"user_query\": \"What is the meaning of life\",\n",
    "#         \"sub_queries\": [],\n",
    "#         \"batch_communities\": batch_communities,\n",
    "#         \"batch_size\": len(batch_communities),\n",
    "#     })\n",
    "\n",
    "\n",
    "# all_scores = multi_agent.topic_reranking_run_batch_async(node_batch_inputs=batches).relevant_scores\n",
    "# print(all_scores)\n",
    "# print(len(all_scores))\n",
    "# print(len(all_communities))\n",
    "\n",
    "multi_agent.user_query_classification_run(user_query=\"Why does the author choose to use first-person point of view in this article?\")\n",
    "\n",
    "\n",
    "\n"
   ]
  },
  {
   "cell_type": "code",
   "execution_count": null,
   "metadata": {},
   "outputs": [],
   "source": [
    "from Utils import *\n",
    "retriever = Retriever()\n",
    "retriever.hybrid_retrieve(collection_name=\"narrative_qa_full_gpu\", query_texts=[\"What is the meaning of life\"])"
   ]
  },
  {
   "cell_type": "code",
   "execution_count": null,
   "metadata": {},
   "outputs": [],
   "source": []
  }
 ],
 "metadata": {
  "kernelspec": {
   "display_name": "poetry310",
   "language": "python",
   "name": "python3"
  },
  "language_info": {
   "codemirror_mode": {
    "name": "ipython",
    "version": 3
   },
   "file_extension": ".py",
   "mimetype": "text/x-python",
   "name": "python",
   "nbconvert_exporter": "python",
   "pygments_lexer": "ipython3",
   "version": "3.10.14"
  }
 },
 "nbformat": 4,
 "nbformat_minor": 2
}
