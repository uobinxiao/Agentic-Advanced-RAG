{
 "cells": [
  {
   "cell_type": "code",
   "execution_count": 1,
   "metadata": {},
   "outputs": [
    {
     "name": "stderr",
     "output_type": "stream",
     "text": [
      "/opt/anaconda3/envs/poetry310/lib/python3.10/site-packages/sentence_transformers/cross_encoder/CrossEncoder.py:11: TqdmWarning: IProgress not found. Please update jupyter and ipywidgets. See https://ipywidgets.readthedocs.io/en/stable/user_install.html\n",
      "  from tqdm.autonotebook import tqdm, trange\n"
     ]
    },
    {
     "name": "stdout",
     "output_type": "stream",
     "text": [
      "Agents initialized (with model: \"gpt-4o-mini\" and temperature: \"0.1\")\n",
      "Tasks initialized\n",
      "LLMMA RAG System initialized\n",
      "User Query and Collection updated\n",
      "\u001b[1m\u001b[95m [2024-08-31 09:27:46][DEBUG]: == Working Agent: Query Processor\u001b[00m\n",
      "\u001b[1m\u001b[95m [2024-08-31 09:27:46][INFO]: == Starting Task: \n",
      "User query: How many time does Alice failed in the book?\n",
      "\n",
      "Analyze the following user query and prepare it for retrieval:\n",
      "a. Transform or rephrase the query to improve its effectiveness for retrieval.\n",
      "b. Identify any complex or ambiguous terms that may require further decomposition.\n",
      "c. Decompose the transformed query into simpler sub-queries if necessary.\n",
      "\u001b[00m\n",
      "\n",
      "\n",
      "\u001b[1m> Entering new CrewAgentExecutor chain...\u001b[0m\n",
      "\u001b[32;1m\u001b[1;3mI now can give a great answer\n",
      "\n",
      "Final Answer: \n",
      "```python\n",
      "from typing import List, Optional\n",
      "from pydantic import BaseModel\n",
      "\n",
      "class QueriesProcessResult(BaseModel):\n",
      "    original_query: str\n",
      "    transformed_queries: Optional[List[str]]\n",
      "    decomposed_queries: Optional[List[str]]\n",
      "\n",
      "result = QueriesProcessResult(\n",
      "    original_query=\"How many time does Alice failed in the book?\",\n",
      "    transformed_queries=[\n",
      "        \"What is the number of times Alice failed in the book?\",\n",
      "        \"Count the instances of Alice's failures in the book.\"\n",
      "    ],\n",
      "    decomposed_queries=[\n",
      "        \"Identify the specific failures of Alice in the book.\",\n",
      "        \"List the chapters or sections where Alice fails in the book.\",\n",
      "        \"Determine the total count of Alice's failures in the book.\"\n",
      "    ]\n",
      ")\n",
      "\n",
      "result\n",
      "```\u001b[0m\n",
      "\n",
      "\u001b[1m> Finished chain.\u001b[0m\n"
     ]
    },
    {
     "name": "stderr",
     "output_type": "stream",
     "text": [
      "2024-08-31 09:27:49,890 - 131111583770112 - __init__.py-__init__:531 - WARNING: Overriding of current TracerProvider is not allowed\n"
     ]
    },
    {
     "name": "stdout",
     "output_type": "stream",
     "text": [
      "\u001b[1m\u001b[92m [2024-08-31 09:27:49][DEBUG]: == [Query Processor] Task output: original_query='How many time does Alice failed in the book?' transformed_queries=['What is the number of times Alice failed in the book?', \"Count the instances of Alice's failures in the book.\"] decomposed_queries=['Identify the specific failures of Alice in the book.', 'List the chapters or sections where Alice fails in the book.', \"Determine the total count of Alice's failures in the book.\"]\n",
      "\n",
      "\u001b[00m\n",
      "{'queries_process_result': QueriesProcessResult(original_query='How many time does Alice failed in the book?', transformed_queries=['What is the number of times Alice failed in the book?', \"Count the instances of Alice's failures in the book.\"], decomposed_queries=['Identify the specific failures of Alice in the book.', 'List the chapters or sections where Alice fails in the book.', \"Determine the total count of Alice's failures in the book.\"])}\n",
      "\u001b[1m\u001b[95m [2024-08-31 09:27:49][DEBUG]: == Working Agent: Query Classifier\u001b[00m\n",
      "\u001b[1m\u001b[95m [2024-08-31 09:27:49][INFO]: == Starting Task: \n",
      "Using the query decomposition and transformation results from the context, perform classification:\n",
      "\n",
      "Expected context: You will receive a Queries object with the following structure:\n",
      "\n",
      "class QueriesProcessResult(BaseModel):\n",
      "    original_query: str\n",
      "    transformed_queries: Optional[List[str]]\n",
      "    decomposed_queries: Optional[List[str]]\n",
      "\n",
      "Specific Collection: alice\n",
      "\n",
      "For every query(in original query, transformed query, decomposed_queries) in Queries:\n",
      "a. Classify the query as needing retrieval or not (by judging whether the query requires external data or time-sensitive information).\n",
      "- If retrieval is needed, store the query with the collection name.\n",
      "    - the collection name is the input of specific collection.\n",
      "- If retrieval is not needed, skip the query.\n",
      "    - Elaborate on the reason for skipping in the justification.\n",
      "\n",
      "Compile a QueriesIdentification only for queries that need retrieval.\n",
      "\u001b[00m\n",
      "\n",
      "\n",
      "\u001b[1m> Entering new CrewAgentExecutor chain...\u001b[0m\n",
      "\u001b[32;1m\u001b[1;3mThought: I now can give a great answer\n",
      "Final Answer: \n",
      "```python\n",
      "from typing import List, Optional\n",
      "from pydantic import BaseModel\n",
      "\n",
      "class SubQueriesClassificationResult(BaseModel):\n",
      "    queries: List[str]\n",
      "    collection_name: List[Optional[str]]\n",
      "\n",
      "# Identifying queries that need retrieval\n",
      "queries_needing_retrieval = [\n",
      "    \"How many time does Alice failed in the book?\",\n",
      "    \"What is the number of times Alice failed in the book?\",\n",
      "    \"Count the instances of Alice's failures in the book.\",\n",
      "    \"Determine the total count of Alice's failures in the book.\"\n",
      "]\n",
      "\n",
      "# The reason for skipping the decomposed queries is that they are more exploratory and do not require specific external data retrieval.\n",
      "# They can be answered with general knowledge about the book and its content.\n",
      "\n",
      "collection_name = [\"alice\"] * len(queries_needing_retrieval)\n",
      "\n",
      "result = SubQueriesClassificationResult(\n",
      "    queries=queries_needing_retrieval,\n",
      "    collection_name=collection_name\n",
      ")\n",
      "\n",
      "result\n",
      "```\u001b[0m\n",
      "\n",
      "\u001b[1m> Finished chain.\u001b[0m\n"
     ]
    },
    {
     "name": "stderr",
     "output_type": "stream",
     "text": [
      "2024-08-31 09:27:52,670 - 131111583770112 - __init__.py-__init__:531 - WARNING: Overriding of current TracerProvider is not allowed\n"
     ]
    },
    {
     "name": "stdout",
     "output_type": "stream",
     "text": [
      "\u001b[1m\u001b[92m [2024-08-31 09:27:52][DEBUG]: == [Query Classifier] Task output: queries=['How many time does Alice failed in the book?', 'What is the number of times Alice failed in the book?', \"Count the instances of Alice's failures in the book.\", \"Determine the total count of Alice's failures in the book.\"] collection_name=['alice', 'alice', 'alice', 'alice']\n",
      "\n",
      "\u001b[00m\n",
      "{'sub_queries_classification_result': SubQueriesClassificationResult(queries=['How many time does Alice failed in the book?', 'What is the number of times Alice failed in the book?', \"Count the instances of Alice's failures in the book.\", \"Determine the total count of Alice's failures in the book.\"], collection_name=['alice', 'alice', 'alice', 'alice'])}\n",
      "\u001b[1m\u001b[95m [2024-08-31 09:27:52][DEBUG]: == Working Agent: Topic Searcher\u001b[00m\n",
      "\u001b[1m\u001b[95m [2024-08-31 09:27:52][INFO]: == Starting Task: \n",
      "1. Analyze the user's question and the retrieve the topic using the global_retrieve_topic tool.\n",
      "    - The global_retrieve_topic tool requires the user's question and a level of community data to retrieve (0-3).\n",
      "2. Generate key points that address the user's question based on the data.\n",
      "3. For each key point:\n",
      "    - Write a comprehensive description.\n",
      "    - Assign an importance score (0-100).\n",
      "    - Create 2-3 example sentences that might appear in documents related to this key point.\n",
      "4. Format the response as a TopicSearchingResult object containing a list of TopicSearchingEntity objects.\n",
      "5. Ensure all information is supported by the provided data.\n",
      "6. If the answer is unknown or data is insufficient, create a single TopicSearchingEntity with a score of 0 and appropriate description and example sentences.\n",
      "\u001b[00m\n"
     ]
    },
    {
     "ename": "ValidationError",
     "evalue": "1 validation error for CrewAgentExecutor\ntools -> 0\n  value is not a valid dict (type=type_error.dict)",
     "output_type": "error",
     "traceback": [
      "\u001b[0;31m---------------------------------------------------------------------------\u001b[0m",
      "\u001b[0;31mValidationError\u001b[0m                           Traceback (most recent call last)",
      "Cell \u001b[0;32mIn[1], line 6\u001b[0m\n\u001b[1;32m      4\u001b[0m \u001b[38;5;28mprint\u001b[39m(MARAG\u001b[38;5;241m.\u001b[39mquery_process_run())\n\u001b[1;32m      5\u001b[0m \u001b[38;5;28mprint\u001b[39m(MARAG\u001b[38;5;241m.\u001b[39msub_queries_classification_with_specification_run())\n\u001b[0;32m----> 6\u001b[0m \u001b[38;5;28mprint\u001b[39m(\u001b[43mMARAG\u001b[49m\u001b[38;5;241;43m.\u001b[39;49m\u001b[43mtopic_search_run\u001b[49m\u001b[43m(\u001b[49m\u001b[43m)\u001b[49m)\n",
      "File \u001b[0;32m~/VGMARS/src/MultiAgent/process.py:96\u001b[0m, in \u001b[0;36mMultiAgent_RAG.topic_search_run\u001b[0;34m(self)\u001b[0m\n\u001b[1;32m     95\u001b[0m \u001b[38;5;28;01mdef\u001b[39;00m \u001b[38;5;21mtopic_search_run\u001b[39m(\u001b[38;5;28mself\u001b[39m):\n\u001b[0;32m---> 96\u001b[0m     \u001b[38;5;28;43mself\u001b[39;49m\u001b[38;5;241;43m.\u001b[39;49m\u001b[43mrun_crew\u001b[49m\u001b[43m(\u001b[49m\u001b[43m   \u001b[49m\n\u001b[1;32m     97\u001b[0m \u001b[43m        \u001b[49m\u001b[43mnode_agents\u001b[49m\u001b[38;5;241;43m=\u001b[39;49m\u001b[43m[\u001b[49m\u001b[38;5;124;43m\"\u001b[39;49m\u001b[38;5;124;43mTopic Searcher\u001b[39;49m\u001b[38;5;124;43m\"\u001b[39;49m\u001b[43m]\u001b[49m\u001b[43m,\u001b[49m\n\u001b[1;32m     98\u001b[0m \u001b[43m        \u001b[49m\u001b[43mnode_tasks\u001b[49m\u001b[38;5;241;43m=\u001b[39;49m\u001b[43m[\u001b[49m\u001b[38;5;124;43m\"\u001b[39;49m\u001b[38;5;124;43mTopic Searching\u001b[39;49m\u001b[38;5;124;43m\"\u001b[39;49m\u001b[43m]\u001b[49m\u001b[43m,\u001b[49m\n\u001b[1;32m     99\u001b[0m \u001b[43m        \u001b[49m\u001b[43mnode_process\u001b[49m\u001b[38;5;241;43m=\u001b[39;49m\u001b[38;5;124;43m\"\u001b[39;49m\u001b[38;5;124;43msequential\u001b[39;49m\u001b[38;5;124;43m\"\u001b[39;49m\n\u001b[1;32m    100\u001b[0m \u001b[43m    \u001b[49m\u001b[43m)\u001b[49m\n\u001b[1;32m    101\u001b[0m     \u001b[38;5;28;01mreturn\u001b[39;00m {\n\u001b[1;32m    102\u001b[0m         \u001b[38;5;124m\"\u001b[39m\u001b[38;5;124mtopic_search_result\u001b[39m\u001b[38;5;124m\"\u001b[39m: \u001b[38;5;28mself\u001b[39m\u001b[38;5;241m.\u001b[39mtasks\u001b[38;5;241m.\u001b[39mcreate_topic_searching_task\u001b[38;5;241m.\u001b[39moutput\u001b[38;5;241m.\u001b[39mpydantic\n\u001b[1;32m    103\u001b[0m     }\n",
      "File \u001b[0;32m~/VGMARS/src/MultiAgent/process.py:43\u001b[0m, in \u001b[0;36mMultiAgent_RAG.run_crew\u001b[0;34m(self, **kwargs)\u001b[0m\n\u001b[1;32m     36\u001b[0m \u001b[38;5;28;01mdef\u001b[39;00m \u001b[38;5;21mrun_crew\u001b[39m(\u001b[38;5;28mself\u001b[39m, \u001b[38;5;241m*\u001b[39m\u001b[38;5;241m*\u001b[39mkwargs):\n\u001b[1;32m     37\u001b[0m     \u001b[38;5;28mself\u001b[39m\u001b[38;5;241m.\u001b[39mcrew \u001b[38;5;241m=\u001b[39m Crew(\n\u001b[1;32m     38\u001b[0m         agents\u001b[38;5;241m=\u001b[39m\u001b[38;5;28mself\u001b[39m\u001b[38;5;241m.\u001b[39magents\u001b[38;5;241m.\u001b[39mget_agents(\u001b[38;5;241m*\u001b[39mkwargs[\u001b[38;5;124m\"\u001b[39m\u001b[38;5;124mnode_agents\u001b[39m\u001b[38;5;124m\"\u001b[39m]),\n\u001b[1;32m     39\u001b[0m         tasks\u001b[38;5;241m=\u001b[39m\u001b[38;5;28mself\u001b[39m\u001b[38;5;241m.\u001b[39mtasks\u001b[38;5;241m.\u001b[39mget_tasks(\u001b[38;5;241m*\u001b[39mkwargs[\u001b[38;5;124m\"\u001b[39m\u001b[38;5;124mnode_tasks\u001b[39m\u001b[38;5;124m\"\u001b[39m]),\n\u001b[1;32m     40\u001b[0m         process\u001b[38;5;241m=\u001b[39mProcess\u001b[38;5;241m.\u001b[39mhierarchical \u001b[38;5;28;01mif\u001b[39;00m kwargs[\u001b[38;5;124m\"\u001b[39m\u001b[38;5;124mnode_process\u001b[39m\u001b[38;5;124m\"\u001b[39m] \u001b[38;5;241m==\u001b[39m \u001b[38;5;124m\"\u001b[39m\u001b[38;5;124mhierarchical\u001b[39m\u001b[38;5;124m\"\u001b[39m \u001b[38;5;28;01melse\u001b[39;00m Process\u001b[38;5;241m.\u001b[39msequential,\n\u001b[1;32m     41\u001b[0m         verbose\u001b[38;5;241m=\u001b[39m\u001b[38;5;28;01mTrue\u001b[39;00m,\n\u001b[1;32m     42\u001b[0m     )\n\u001b[0;32m---> 43\u001b[0m     \u001b[38;5;28;43mself\u001b[39;49m\u001b[38;5;241;43m.\u001b[39;49m\u001b[43mcrew\u001b[49m\u001b[38;5;241;43m.\u001b[39;49m\u001b[43mkickoff\u001b[49m\u001b[43m(\u001b[49m\u001b[43m)\u001b[49m\n",
      "File \u001b[0;32m/opt/anaconda3/envs/poetry310/lib/python3.10/site-packages/crewai/crew.py:468\u001b[0m, in \u001b[0;36mCrew.kickoff\u001b[0;34m(self, inputs)\u001b[0m\n\u001b[1;32m    465\u001b[0m metrics \u001b[38;5;241m=\u001b[39m []\n\u001b[1;32m    467\u001b[0m \u001b[38;5;28;01mif\u001b[39;00m \u001b[38;5;28mself\u001b[39m\u001b[38;5;241m.\u001b[39mprocess \u001b[38;5;241m==\u001b[39m Process\u001b[38;5;241m.\u001b[39msequential:\n\u001b[0;32m--> 468\u001b[0m     result \u001b[38;5;241m=\u001b[39m \u001b[38;5;28;43mself\u001b[39;49m\u001b[38;5;241;43m.\u001b[39;49m\u001b[43m_run_sequential_process\u001b[49m\u001b[43m(\u001b[49m\u001b[43m)\u001b[49m\n\u001b[1;32m    469\u001b[0m \u001b[38;5;28;01melif\u001b[39;00m \u001b[38;5;28mself\u001b[39m\u001b[38;5;241m.\u001b[39mprocess \u001b[38;5;241m==\u001b[39m Process\u001b[38;5;241m.\u001b[39mhierarchical:\n\u001b[1;32m    470\u001b[0m     result \u001b[38;5;241m=\u001b[39m \u001b[38;5;28mself\u001b[39m\u001b[38;5;241m.\u001b[39m_run_hierarchical_process()\n",
      "File \u001b[0;32m/opt/anaconda3/envs/poetry310/lib/python3.10/site-packages/crewai/crew.py:603\u001b[0m, in \u001b[0;36mCrew._run_sequential_process\u001b[0;34m(self)\u001b[0m\n\u001b[1;32m    601\u001b[0m \u001b[38;5;28;01mdef\u001b[39;00m \u001b[38;5;21m_run_sequential_process\u001b[39m(\u001b[38;5;28mself\u001b[39m) \u001b[38;5;241m-\u001b[39m\u001b[38;5;241m>\u001b[39m CrewOutput:\n\u001b[1;32m    602\u001b[0m \u001b[38;5;250m    \u001b[39m\u001b[38;5;124;03m\"\"\"Executes tasks sequentially and returns the final output.\"\"\"\u001b[39;00m\n\u001b[0;32m--> 603\u001b[0m     \u001b[38;5;28;01mreturn\u001b[39;00m \u001b[38;5;28;43mself\u001b[39;49m\u001b[38;5;241;43m.\u001b[39;49m\u001b[43m_execute_tasks\u001b[49m\u001b[43m(\u001b[49m\u001b[38;5;28;43mself\u001b[39;49m\u001b[38;5;241;43m.\u001b[39;49m\u001b[43mtasks\u001b[49m\u001b[43m)\u001b[49m\n",
      "File \u001b[0;32m/opt/anaconda3/envs/poetry310/lib/python3.10/site-packages/crewai/crew.py:692\u001b[0m, in \u001b[0;36mCrew._execute_tasks\u001b[0;34m(self, tasks, manager, start_index, was_replayed)\u001b[0m\n\u001b[1;32m    689\u001b[0m     futures\u001b[38;5;241m.\u001b[39mclear()\n\u001b[1;32m    691\u001b[0m context \u001b[38;5;241m=\u001b[39m \u001b[38;5;28mself\u001b[39m\u001b[38;5;241m.\u001b[39m_get_context(task, task_outputs)\n\u001b[0;32m--> 692\u001b[0m task_output \u001b[38;5;241m=\u001b[39m \u001b[43mtask\u001b[49m\u001b[38;5;241;43m.\u001b[39;49m\u001b[43mexecute_sync\u001b[49m\u001b[43m(\u001b[49m\n\u001b[1;32m    693\u001b[0m \u001b[43m    \u001b[49m\u001b[43magent\u001b[49m\u001b[38;5;241;43m=\u001b[39;49m\u001b[43magent_to_use\u001b[49m\u001b[43m,\u001b[49m\n\u001b[1;32m    694\u001b[0m \u001b[43m    \u001b[49m\u001b[43mcontext\u001b[49m\u001b[38;5;241;43m=\u001b[39;49m\u001b[43mcontext\u001b[49m\u001b[43m,\u001b[49m\n\u001b[1;32m    695\u001b[0m \u001b[43m    \u001b[49m\u001b[43mtools\u001b[49m\u001b[38;5;241;43m=\u001b[39;49m\u001b[43magent_to_use\u001b[49m\u001b[38;5;241;43m.\u001b[39;49m\u001b[43mtools\u001b[49m\u001b[43m,\u001b[49m\n\u001b[1;32m    696\u001b[0m \u001b[43m\u001b[49m\u001b[43m)\u001b[49m\n\u001b[1;32m    697\u001b[0m task_outputs \u001b[38;5;241m=\u001b[39m [task_output]\n\u001b[1;32m    698\u001b[0m \u001b[38;5;28mself\u001b[39m\u001b[38;5;241m.\u001b[39m_process_task_result(task, task_output)\n",
      "File \u001b[0;32m/opt/anaconda3/envs/poetry310/lib/python3.10/site-packages/crewai/task.py:175\u001b[0m, in \u001b[0;36mTask.execute_sync\u001b[0;34m(self, agent, context, tools)\u001b[0m\n\u001b[1;32m    168\u001b[0m \u001b[38;5;28;01mdef\u001b[39;00m \u001b[38;5;21mexecute_sync\u001b[39m(\n\u001b[1;32m    169\u001b[0m     \u001b[38;5;28mself\u001b[39m,\n\u001b[1;32m    170\u001b[0m     agent: Optional[BaseAgent] \u001b[38;5;241m=\u001b[39m \u001b[38;5;28;01mNone\u001b[39;00m,\n\u001b[1;32m    171\u001b[0m     context: Optional[\u001b[38;5;28mstr\u001b[39m] \u001b[38;5;241m=\u001b[39m \u001b[38;5;28;01mNone\u001b[39;00m,\n\u001b[1;32m    172\u001b[0m     tools: Optional[List[Any]] \u001b[38;5;241m=\u001b[39m \u001b[38;5;28;01mNone\u001b[39;00m,\n\u001b[1;32m    173\u001b[0m ) \u001b[38;5;241m-\u001b[39m\u001b[38;5;241m>\u001b[39m TaskOutput:\n\u001b[1;32m    174\u001b[0m \u001b[38;5;250m    \u001b[39m\u001b[38;5;124;03m\"\"\"Execute the task synchronously.\"\"\"\u001b[39;00m\n\u001b[0;32m--> 175\u001b[0m     \u001b[38;5;28;01mreturn\u001b[39;00m \u001b[38;5;28;43mself\u001b[39;49m\u001b[38;5;241;43m.\u001b[39;49m\u001b[43m_execute_core\u001b[49m\u001b[43m(\u001b[49m\u001b[43magent\u001b[49m\u001b[43m,\u001b[49m\u001b[43m \u001b[49m\u001b[43mcontext\u001b[49m\u001b[43m,\u001b[49m\u001b[43m \u001b[49m\u001b[43mtools\u001b[49m\u001b[43m)\u001b[49m\n",
      "File \u001b[0;32m/opt/anaconda3/envs/poetry310/lib/python3.10/site-packages/crewai/task.py:228\u001b[0m, in \u001b[0;36mTask._execute_core\u001b[0;34m(self, agent, context, tools)\u001b[0m\n\u001b[1;32m    225\u001b[0m \u001b[38;5;28mself\u001b[39m\u001b[38;5;241m.\u001b[39mprompt_context \u001b[38;5;241m=\u001b[39m context\n\u001b[1;32m    226\u001b[0m tools \u001b[38;5;241m=\u001b[39m tools \u001b[38;5;129;01mor\u001b[39;00m \u001b[38;5;28mself\u001b[39m\u001b[38;5;241m.\u001b[39mtools \u001b[38;5;129;01mor\u001b[39;00m []\n\u001b[0;32m--> 228\u001b[0m result \u001b[38;5;241m=\u001b[39m \u001b[43magent\u001b[49m\u001b[38;5;241;43m.\u001b[39;49m\u001b[43mexecute_task\u001b[49m\u001b[43m(\u001b[49m\n\u001b[1;32m    229\u001b[0m \u001b[43m    \u001b[49m\u001b[43mtask\u001b[49m\u001b[38;5;241;43m=\u001b[39;49m\u001b[38;5;28;43mself\u001b[39;49m\u001b[43m,\u001b[49m\n\u001b[1;32m    230\u001b[0m \u001b[43m    \u001b[49m\u001b[43mcontext\u001b[49m\u001b[38;5;241;43m=\u001b[39;49m\u001b[43mcontext\u001b[49m\u001b[43m,\u001b[49m\n\u001b[1;32m    231\u001b[0m \u001b[43m    \u001b[49m\u001b[43mtools\u001b[49m\u001b[38;5;241;43m=\u001b[39;49m\u001b[43mtools\u001b[49m\u001b[43m,\u001b[49m\n\u001b[1;32m    232\u001b[0m \u001b[43m\u001b[49m\u001b[43m)\u001b[49m\n\u001b[1;32m    234\u001b[0m pydantic_output, json_output \u001b[38;5;241m=\u001b[39m \u001b[38;5;28mself\u001b[39m\u001b[38;5;241m.\u001b[39m_export_output(result)\n\u001b[1;32m    236\u001b[0m task_output \u001b[38;5;241m=\u001b[39m TaskOutput(\n\u001b[1;32m    237\u001b[0m     description\u001b[38;5;241m=\u001b[39m\u001b[38;5;28mself\u001b[39m\u001b[38;5;241m.\u001b[39mdescription,\n\u001b[1;32m    238\u001b[0m     raw\u001b[38;5;241m=\u001b[39mresult,\n\u001b[0;32m   (...)\u001b[0m\n\u001b[1;32m    242\u001b[0m     output_format\u001b[38;5;241m=\u001b[39m\u001b[38;5;28mself\u001b[39m\u001b[38;5;241m.\u001b[39m_get_output_format(),\n\u001b[1;32m    243\u001b[0m )\n",
      "File \u001b[0;32m/opt/anaconda3/envs/poetry310/lib/python3.10/site-packages/crewai/agent.py:180\u001b[0m, in \u001b[0;36mAgent.execute_task\u001b[0;34m(self, task, context, tools)\u001b[0m\n\u001b[1;32m    178\u001b[0m tools \u001b[38;5;241m=\u001b[39m tools \u001b[38;5;129;01mor\u001b[39;00m \u001b[38;5;28mself\u001b[39m\u001b[38;5;241m.\u001b[39mtools \u001b[38;5;129;01mor\u001b[39;00m []\n\u001b[1;32m    179\u001b[0m parsed_tools \u001b[38;5;241m=\u001b[39m \u001b[38;5;28mself\u001b[39m\u001b[38;5;241m.\u001b[39m_parse_tools(tools)\n\u001b[0;32m--> 180\u001b[0m \u001b[38;5;28;43mself\u001b[39;49m\u001b[38;5;241;43m.\u001b[39;49m\u001b[43mcreate_agent_executor\u001b[49m\u001b[43m(\u001b[49m\u001b[43mtools\u001b[49m\u001b[38;5;241;43m=\u001b[39;49m\u001b[43mtools\u001b[49m\u001b[43m)\u001b[49m\n\u001b[1;32m    181\u001b[0m \u001b[38;5;28mself\u001b[39m\u001b[38;5;241m.\u001b[39magent_executor\u001b[38;5;241m.\u001b[39mtools \u001b[38;5;241m=\u001b[39m parsed_tools\n\u001b[1;32m    182\u001b[0m \u001b[38;5;28mself\u001b[39m\u001b[38;5;241m.\u001b[39magent_executor\u001b[38;5;241m.\u001b[39mtask \u001b[38;5;241m=\u001b[39m task\n",
      "File \u001b[0;32m/opt/anaconda3/envs/poetry310/lib/python3.10/site-packages/crewai/agent.py:296\u001b[0m, in \u001b[0;36mAgent.create_agent_executor\u001b[0;34m(self, tools)\u001b[0m\n\u001b[1;32m    293\u001b[0m bind \u001b[38;5;241m=\u001b[39m \u001b[38;5;28mself\u001b[39m\u001b[38;5;241m.\u001b[39mllm\u001b[38;5;241m.\u001b[39mbind(stop\u001b[38;5;241m=\u001b[39mstop_words)\n\u001b[1;32m    295\u001b[0m inner_agent \u001b[38;5;241m=\u001b[39m agent_args \u001b[38;5;241m|\u001b[39m execution_prompt \u001b[38;5;241m|\u001b[39m bind \u001b[38;5;241m|\u001b[39m CrewAgentParser(agent\u001b[38;5;241m=\u001b[39m\u001b[38;5;28mself\u001b[39m)\n\u001b[0;32m--> 296\u001b[0m \u001b[38;5;28mself\u001b[39m\u001b[38;5;241m.\u001b[39magent_executor \u001b[38;5;241m=\u001b[39m \u001b[43mCrewAgentExecutor\u001b[49m\u001b[43m(\u001b[49m\n\u001b[1;32m    297\u001b[0m \u001b[43m    \u001b[49m\u001b[43magent\u001b[49m\u001b[38;5;241;43m=\u001b[39;49m\u001b[43mRunnableAgent\u001b[49m\u001b[43m(\u001b[49m\u001b[43mrunnable\u001b[49m\u001b[38;5;241;43m=\u001b[39;49m\u001b[43minner_agent\u001b[49m\u001b[43m)\u001b[49m\u001b[43m,\u001b[49m\u001b[43m \u001b[49m\u001b[38;5;241;43m*\u001b[39;49m\u001b[38;5;241;43m*\u001b[39;49m\u001b[43mexecutor_args\u001b[49m\n\u001b[1;32m    298\u001b[0m \u001b[43m\u001b[49m\u001b[43m)\u001b[49m\n",
      "File \u001b[0;32m/opt/anaconda3/envs/poetry310/lib/python3.10/site-packages/pydantic/v1/main.py:341\u001b[0m, in \u001b[0;36mBaseModel.__init__\u001b[0;34m(__pydantic_self__, **data)\u001b[0m\n\u001b[1;32m    339\u001b[0m values, fields_set, validation_error \u001b[38;5;241m=\u001b[39m validate_model(__pydantic_self__\u001b[38;5;241m.\u001b[39m\u001b[38;5;18m__class__\u001b[39m, data)\n\u001b[1;32m    340\u001b[0m \u001b[38;5;28;01mif\u001b[39;00m validation_error:\n\u001b[0;32m--> 341\u001b[0m     \u001b[38;5;28;01mraise\u001b[39;00m validation_error\n\u001b[1;32m    342\u001b[0m \u001b[38;5;28;01mtry\u001b[39;00m:\n\u001b[1;32m    343\u001b[0m     object_setattr(__pydantic_self__, \u001b[38;5;124m'\u001b[39m\u001b[38;5;124m__dict__\u001b[39m\u001b[38;5;124m'\u001b[39m, values)\n",
      "\u001b[0;31mValidationError\u001b[0m: 1 validation error for CrewAgentExecutor\ntools -> 0\n  value is not a valid dict (type=type_error.dict)"
     ]
    }
   ],
   "source": [
    "from MultiAgent import MultiAgent_RAG\n",
    "MARAG = MultiAgent_RAG()\n",
    "MARAG.update_from_user_input(user_query=\"How many time does Alice failed in the book?\", specific_collection=\"alice\")\n",
    "print(MARAG.query_process_run())\n",
    "print(MARAG.sub_queries_classification_without_specification_run())\n",
    "print(MARAG.topic_searching_run())"
   ]
  },
  {
   "cell_type": "code",
   "execution_count": null,
   "metadata": {},
   "outputs": [],
   "source": [
    "MARAG.update_from_user_input(user_query=\"How many time does Alice failed in the book?\", specific_collection=\"alice\")\n",
    "print(MARAG.user_query_classification_run())\n",
    "MARAG.update_from_user_input(user_query=\"Who is alice?\", specific_collection=\"alice\")\n",
    "print(MARAG.user_query_classification_run())"
   ]
  },
  {
   "cell_type": "code",
   "execution_count": null,
   "metadata": {},
   "outputs": [],
   "source": [
    "MARAG.update_from_user_input(user_query=\"How many time does Alice failed in the book?\", specific_collection=\"alice\")\n",
    "print(MARAG.query_process_run())"
   ]
  },
  {
   "cell_type": "code",
   "execution_count": null,
   "metadata": {},
   "outputs": [],
   "source": [
    "MARAG.update_from_user_input(user_query=\"How many time does Alice failed in the book?\", specific_collection=\"alice\")\n",
    "print(MARAG.query_process_run())\n",
    "print(MARAG.sub_queries_classification_with_specification_run())"
   ]
  },
  {
   "cell_type": "code",
   "execution_count": null,
   "metadata": {},
   "outputs": [],
   "source": []
  },
  {
   "cell_type": "code",
   "execution_count": null,
   "metadata": {},
   "outputs": [],
   "source": []
  }
 ],
 "metadata": {
  "kernelspec": {
   "display_name": "poetry310",
   "language": "python",
   "name": "python3"
  },
  "language_info": {
   "codemirror_mode": {
    "name": "ipython",
    "version": 3
   },
   "file_extension": ".py",
   "mimetype": "text/x-python",
   "name": "python",
   "nbconvert_exporter": "python",
   "pygments_lexer": "ipython3",
   "version": "3.10.14"
  }
 },
 "nbformat": 4,
 "nbformat_minor": 2
}
