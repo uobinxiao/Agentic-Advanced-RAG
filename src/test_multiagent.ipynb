{
 "cells": [
  {
   "cell_type": "code",
   "execution_count": null,
   "metadata": {},
   "outputs": [],
   "source": [
    "from MultiAgent import MultiAgent_RAG\n",
    "MARAG = MultiAgent_RAG()\n",
    "print(MARAG.plan_coordination_run(user_query=\"How old is Alice?\"))\n",
    "print(MARAG.user_query_classification_run(user_query=\"How old is Alice?\"))\n",
    "# print(MARAG.query_process_run(**{\"user_query\": \"How old is Alice?\"}))\n",
    "# print(MARAG.sub_queries_classification_with_specification_run(**{\"specific_collection\": \"alice\"}))\n",
    "# print(MARAG.sub_queries_classification_without_specification_run())\n",
    "# print(MARAG.topic_searching_run())"
   ]
  },
  {
   "cell_type": "code",
   "execution_count": null,
   "metadata": {},
   "outputs": [],
   "source": [
    "\n",
    "communities = retriever.retrieve_all_communities(0)\n",
    "communities"
   ]
  },
  {
   "cell_type": "code",
   "execution_count": null,
   "metadata": {},
   "outputs": [],
   "source": [
    "communities_1 = retriever.retrieve_all_communities(1)\n",
    "communities_1"
   ]
  },
  {
   "cell_type": "code",
   "execution_count": 1,
   "metadata": {},
   "outputs": [
    {
     "name": "stderr",
     "output_type": "stream",
     "text": [
      "/opt/anaconda3/envs/poetry310/lib/python3.10/site-packages/sentence_transformers/cross_encoder/CrossEncoder.py:11: TqdmWarning: IProgress not found. Please update jupyter and ipywidgets. See https://ipywidgets.readthedocs.io/en/stable/user_install.html\n",
      "  from tqdm.autonotebook import tqdm, trange\n"
     ]
    },
    {
     "name": "stderr",
     "output_type": "stream",
     "text": [
      "2024-09-01 15:29:53,623 - 123541196039680 - milvus_client.py-milvus_client:653 - DEBUG: Created new connection using: 6484ce21bd4e46099069354c8b14f61a\n"
     ]
    },
    {
     "name": "stdout",
     "output_type": "stream",
     "text": [
      "Initializing sparse embedder...\n",
      "Embedder initialized\n",
      "Connected to Milvus at localhost:19530 with database default.\n",
      "VectorDatabase initialized.\n",
      "GraphDatabase initialized.\n",
      "Retriever initialized\n",
      "3\n",
      "46\n",
      "Agents initialized (with model: \"gpt-4o-mini\" and temperature: \"0.1\")\n",
      "Tasks initialized\n",
      "LLMMA RAG System initialized\n"
     ]
    },
    {
     "ename": "TypeError",
     "evalue": "'coroutine' object is not iterable",
     "output_type": "error",
     "traceback": [
      "\u001b[0;31m---------------------------------------------------------------------------\u001b[0m",
      "\u001b[0;31mTypeError\u001b[0m                                 Traceback (most recent call last)",
      "Cell \u001b[0;32mIn[1], line 16\u001b[0m\n\u001b[1;32m     14\u001b[0m MARAG \u001b[38;5;241m=\u001b[39m MultiAgent_RAG()\n\u001b[1;32m     15\u001b[0m results \u001b[38;5;241m=\u001b[39m MARAG\u001b[38;5;241m.\u001b[39mtopic_reranking_run_batch_async(node_batch_inputs\u001b[38;5;241m=\u001b[39mbatches)\n\u001b[0;32m---> 16\u001b[0m \u001b[38;5;28;01mfor\u001b[39;00m result \u001b[38;5;129;01min\u001b[39;00m results:\n\u001b[1;32m     17\u001b[0m     \u001b[38;5;28mprint\u001b[39m(result)\n",
      "\u001b[0;31mTypeError\u001b[0m: 'coroutine' object is not iterable"
     ]
    }
   ],
   "source": [
    "from Utils import *\n",
    "from pandas import DataFrame\n",
    "from MultiAgent import MultiAgent_RAG\n",
    "import asyncio\n",
    "\n",
    "retriever = Retriever()\n",
    "communities_2 = retriever.retrieve_all_communities(0)\n",
    "communities_2 = communities_2.values.tolist()\n",
    "batch_size = 20\n",
    "# Assign the community to the agents\n",
    "batches = [{\"batch_communities\": communities_2[i:i + batch_size], \"user_query\": \"What are the movies about love in this dataset?\"} for i in range(0, len(communities_2), batch_size)] \n",
    "print(len(batches))\n",
    "print(len(communities_2))\n",
    "\n",
    "from MultiAgent import MultiAgent_RAG\n",
    "MARAG = MultiAgent_RAG()\n",
    "results = await MARAG.topic_reranking_run_batch_async(node_batch_inputs=batches)\n",
    "for result in results:\n",
    "    print(result)\n"
   ]
  },
  {
   "cell_type": "code",
   "execution_count": null,
   "metadata": {},
   "outputs": [],
   "source": [
    "from crewai import Crew, Agent, Task\n",
    "\n",
    "# Create an agent with code execution enabled\n",
    "coding_agent = Agent(\n",
    "    role=\"Python Data Analyst\",\n",
    "    goal=\"Analyze data and provide insights using Python\",\n",
    "    backstory=\"You are an experienced data analyst with strong Python skills.\",\n",
    "    allow_code_execution=True,\n",
    "    verbose=True,\n",
    ")\n",
    "\n",
    "# Create a task that requires code execution\n",
    "data_analysis_task = Task(\n",
    "    description=\"Analyze the given dataset and calculate the average age of participants. Ages: {ages}\",\n",
    "    agent=coding_agent,\n",
    "    expected_output=\"The average age of participants.\",\n",
    "    \n",
    ")\n",
    "\n",
    "# Create a crew and add the task\n",
    "analysis_crew = Crew(\n",
    "    agents=[coding_agent],\n",
    "    tasks=[data_analysis_task]\n",
    ")\n",
    "\n",
    "datasets = [\n",
    "  { \"ages\": [25, 30, 35, 40, 45] },\n",
    "  { \"ages\": [20, 25, 30, 35, 40] },\n",
    "  { \"ages\": [30, 35, 40, 45, 50] }\n",
    "]\n",
    "\n",
    "# Execute the crew\n",
    "result = analysis_crew.kickoff_for_each(inputs=datasets)"
   ]
  },
  {
   "cell_type": "code",
   "execution_count": null,
   "metadata": {},
   "outputs": [],
   "source": []
  },
  {
   "cell_type": "code",
   "execution_count": null,
   "metadata": {},
   "outputs": [],
   "source": []
  }
 ],
 "metadata": {
  "kernelspec": {
   "display_name": "poetry310",
   "language": "python",
   "name": "python3"
  },
  "language_info": {
   "codemirror_mode": {
    "name": "ipython",
    "version": 3
   },
   "file_extension": ".py",
   "mimetype": "text/x-python",
   "name": "python",
   "nbconvert_exporter": "python",
   "pygments_lexer": "ipython3",
   "version": "3.10.14"
  }
 },
 "nbformat": 4,
 "nbformat_minor": 2
}
