{
 "cells": [
  {
   "cell_type": "code",
   "execution_count": null,
   "metadata": {},
   "outputs": [],
   "source": [
    "from MultiAgent import MultiAgent_RAG\n",
    "MARAG = MultiAgent_RAG()\n",
    "print(MARAG.plan_coordination_run(user_query=\"How old is Alice?\"))\n",
    "print(MARAG.user_query_classification_run(user_query=\"How old is Alice?\"))\n",
    "# print(MARAG.query_process_run(**{\"user_query\": \"How old is Alice?\"}))\n",
    "# print(MARAG.sub_queries_classification_with_specification_run(**{\"specific_collection\": \"alice\"}))\n",
    "# print(MARAG.sub_queries_classification_without_specification_run())\n",
    "# print(MARAG.topic_searching_run())"
   ]
  },
  {
   "cell_type": "code",
   "execution_count": null,
   "metadata": {},
   "outputs": [],
   "source": [
    "\n",
    "communities = retriever.retrieve_all_communities(0)\n",
    "communities"
   ]
  },
  {
   "cell_type": "code",
   "execution_count": null,
   "metadata": {},
   "outputs": [],
   "source": [
    "communities_1 = retriever.retrieve_all_communities(1)\n",
    "communities_1"
   ]
  },
  {
   "cell_type": "code",
   "execution_count": 2,
   "metadata": {},
   "outputs": [
    {
     "name": "stderr",
     "output_type": "stream",
     "text": [
      "2024-09-01 20:46:09,517 - 125963580638720 - milvus_client.py-milvus_client:658 - DEBUG: Created new connection using: 45e9bff0dab148488d17dc8d47f4e6e8\n"
     ]
    },
    {
     "name": "stdout",
     "output_type": "stream",
     "text": [
      "Initializing sparse embedder...\n",
      "Embedder initialized\n",
      "Connected to Milvus at localhost:19530 with database default.\n",
      "VectorDatabase initialized.\n",
      "GraphDatabase initialized.\n",
      "Retriever initialized\n",
      "3\n",
      "46\n",
      "Agents initialized (with model: \"gpt-4o-mini\" and temperature: \"0.1\")\n",
      "Tasks initialized\n",
      "LLMMA RAG System initialized\n",
      "<Task pending name='Task-5' coro=<MultiAgent_RAG.run_crew_batch_async.<locals>.run_async() running at /home/yarikama/VGMARS/src/MultiAgent/process.py:63>>\n"
     ]
    },
    {
     "ename": "RuntimeError",
     "evalue": "await wasn't used with future",
     "output_type": "error",
     "traceback": [
      "\u001b[0;31m---------------------------------------------------------------------------\u001b[0m",
      "\u001b[0;31mRuntimeError\u001b[0m                              Traceback (most recent call last)",
      "Cell \u001b[0;32mIn[2], line 18\u001b[0m\n\u001b[1;32m     16\u001b[0m MARAG \u001b[38;5;241m=\u001b[39m MultiAgent_RAG()\n\u001b[1;32m     17\u001b[0m results \u001b[38;5;241m=\u001b[39m MARAG\u001b[38;5;241m.\u001b[39mtopic_reranking_run_batch_async(node_batch_inputs\u001b[38;5;241m=\u001b[39mbatches)\n\u001b[0;32m---> 18\u001b[0m \u001b[38;5;28;01mfor\u001b[39;00m result \u001b[38;5;129;01min\u001b[39;00m results:\n\u001b[1;32m     19\u001b[0m     \u001b[38;5;28mprint\u001b[39m(result)\n",
      "\u001b[0;31mRuntimeError\u001b[0m: await wasn't used with future"
     ]
    },
    {
     "name": "stderr",
     "output_type": "stream",
     "text": [
      "2024-09-01 20:46:09,969 - 125963580638720 - __init__.py-__init__:531 - WARNING: Overriding of current TracerProvider is not allowed\n",
      "2024-09-01 20:46:09,971 - 125963580638720 - __init__.py-__init__:531 - WARNING: Overriding of current TracerProvider is not allowed\n",
      "2024-09-01 20:46:09,972 - 125963580638720 - __init__.py-__init__:531 - WARNING: Overriding of current TracerProvider is not allowed\n"
     ]
    }
   ],
   "source": [
    "from Utils import *\n",
    "from pandas import DataFrame\n",
    "from MultiAgent import MultiAgent_RAG\n",
    "\n",
    "\n",
    "retriever = Retriever()\n",
    "communities_2 = retriever.retrieve_all_communities(0)\n",
    "communities_2 = communities_2.values.tolist()\n",
    "batch_size = 20\n",
    "# Assign the community to the agents\n",
    "batches = [{\"batch_communities\": communities_2[i:i + batch_size], \"user_query\": \"What are the movies about love in this dataset?\"} for i in range(0, len(communities_2), batch_size)] \n",
    "print(len(batches))\n",
    "print(len(communities_2))\n",
    "\n",
    "from MultiAgent import MultiAgent_RAG\n",
    "MARAG = MultiAgent_RAG()\n",
    "results = MARAG.topic_reranking_run_batch_async(node_batch_inputs=batches)\n",
    "for result in results:\n",
    "    print(result)\n",
    "    \n",
    "\n"
   ]
  },
  {
   "cell_type": "code",
   "execution_count": 2,
   "metadata": {},
   "outputs": [
    {
     "ename": "ImportError",
     "evalue": "cannot import name 'asyncio_kernel' from 'IPython.lib' (/opt/anaconda3/envs/poetry310/lib/python3.10/site-packages/IPython/lib/__init__.py)",
     "output_type": "error",
     "traceback": [
      "\u001b[0;31m---------------------------------------------------------------------------\u001b[0m",
      "\u001b[0;31mImportError\u001b[0m                               Traceback (most recent call last)",
      "Cell \u001b[0;32mIn[2], line 1\u001b[0m\n\u001b[0;32m----> 1\u001b[0m \u001b[38;5;28;01mfrom\u001b[39;00m \u001b[38;5;21;01mIPython\u001b[39;00m\u001b[38;5;21;01m.\u001b[39;00m\u001b[38;5;21;01mlib\u001b[39;00m \u001b[38;5;28;01mimport\u001b[39;00m asyncio_kernel\n\u001b[1;32m      2\u001b[0m \u001b[38;5;28mprint\u001b[39m(asyncio_kernel)\n",
      "\u001b[0;31mImportError\u001b[0m: cannot import name 'asyncio_kernel' from 'IPython.lib' (/opt/anaconda3/envs/poetry310/lib/python3.10/site-packages/IPython/lib/__init__.py)"
     ]
    }
   ],
   "source": [
    "from IPython.lib import asyncio_kernel\n",
    "print(asyncio_kernel)"
   ]
  },
  {
   "cell_type": "markdown",
   "metadata": {},
   "source": []
  },
  {
   "cell_type": "code",
   "execution_count": null,
   "metadata": {},
   "outputs": [],
   "source": []
  },
  {
   "cell_type": "code",
   "execution_count": null,
   "metadata": {},
   "outputs": [],
   "source": []
  }
 ],
 "metadata": {
  "kernelspec": {
   "display_name": "poetry310",
   "language": "python",
   "name": "python3"
  },
  "language_info": {
   "codemirror_mode": {
    "name": "ipython",
    "version": 3
   },
   "file_extension": ".py",
   "mimetype": "text/x-python",
   "name": "python",
   "nbconvert_exporter": "python",
   "pygments_lexer": "ipython3",
   "version": "3.10.14"
  }
 },
 "nbformat": 4,
 "nbformat_minor": 2
}
