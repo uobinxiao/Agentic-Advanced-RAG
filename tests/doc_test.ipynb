{
 "cells": [
  {
   "cell_type": "code",
   "execution_count": 2,
   "metadata": {},
   "outputs": [
    {
     "name": "stderr",
     "output_type": "stream",
     "text": [
      "2024-08-04 20:14:23,266 - 138577621325312 - milvus_client.py-milvus_client:653 - DEBUG: Created new connection using: c6854728df1e40f1be0b8e99b72f16d3\n",
      "[nltk_data] Downloading package words to /home/yarikama/nltk_data...\n",
      "[nltk_data]   Package words is already up-to-date!\n",
      "[nltk_data] Downloading package words to /home/yarikama/nltk_data...\n",
      "[nltk_data]   Package words is already up-to-date!\n",
      "2024-08-04 20:14:23,370 - 138577621325312 - __init__.py-__init__:531 - WARNING: Overriding of current TracerProvider is not allowed\n"
     ]
    },
    {
     "name": "stdout",
     "output_type": "stream",
     "text": [
      "Initializing sparse embedder...\n",
      "Embedder initialized\n",
      "Connected to Milvus at localhost:19530 with database default.\n",
      "VectorDatabase initialized.\n",
      "DatasetLoads initialized\n",
      "Retriever initialized\n",
      "Data Processor initialized\n",
      "Retriever initialized\n",
      "Data Processor initialized\n",
      "Tools initialized\n",
      "Agents initialized. (with model: \"gpt-4o-mini\" and temperature: \"0.1\")\n",
      "Tasks initialized\n",
      "LLMMA Sequential RAG System initialized\n"
     ]
    },
    {
     "ename": "TypeError",
     "evalue": "DatasetLoader.process_dataset() missing 1 required positional argument: 'dataset_name'",
     "output_type": "error",
     "traceback": [
      "\u001b[0;31m---------------------------------------------------------------------------\u001b[0m",
      "\u001b[0;31mTypeError\u001b[0m                                 Traceback (most recent call last)",
      "Cell \u001b[0;32mIn[2], line 14\u001b[0m\n\u001b[1;32m     12\u001b[0m \u001b[38;5;28;01mfor\u001b[39;00m dataset_name \u001b[38;5;129;01min\u001b[39;00m dataset_names:\n\u001b[1;32m     13\u001b[0m     df \u001b[38;5;241m=\u001b[39m dataset_loader\u001b[38;5;241m.\u001b[39mload_dataset(dataset_name)\n\u001b[0;32m---> 14\u001b[0m     docs_from_dataset, df \u001b[38;5;241m=\u001b[39m \u001b[43mdataset_loader\u001b[49m\u001b[38;5;241;43m.\u001b[39;49m\u001b[43mprocess_dataset\u001b[49m\u001b[43m(\u001b[49m\u001b[43mdf\u001b[49m\u001b[43m)\u001b[49m\n\u001b[1;32m     15\u001b[0m     dataProcessor\u001b[38;5;241m.\u001b[39mdocument_process(dataset_name, docs_from_dataset, \u001b[38;5;28;01mTrue\u001b[39;00m)\n",
      "\u001b[0;31mTypeError\u001b[0m: DatasetLoader.process_dataset() missing 1 required positional argument: 'dataset_name'"
     ]
    }
   ],
   "source": [
    "from Utils import *\n",
    "from LLMMA import *\n",
    "\n",
    "embedder = Embedder()\n",
    "vectorDatabase = VectorDatabase()\n",
    "dataset_loader = DatasetLoader()\n",
    "retriever = Retriever(vectorDatabase, embedder)\n",
    "dataProcessor = DataProcessor(vectorDatabase, embedder)\n",
    "rag_system = LLMMA_Sequential_RAG_System(\"Hello world\", vectorDatabase, embedder, \"alice\")\n",
    "\n",
    "dataset_names = [\"squad\",]\n",
    "for dataset_name in dataset_names:\n",
    "    df = dataset_loader.load_dataset(dataset_name)\n",
    "    docs_from_dataset, df = dataset_loader.process_dataset(df, dataset_name)\n",
    "    dataProcessor.document_process(dataset_name, docs_from_dataset, True)"
   ]
  },
  {
   "cell_type": "code",
   "execution_count": null,
   "metadata": {},
   "outputs": [],
   "source": []
  }
 ],
 "metadata": {
  "kernelspec": {
   "display_name": "poetry310",
   "language": "python",
   "name": "python3"
  },
  "language_info": {
   "codemirror_mode": {
    "name": "ipython",
    "version": 3
   },
   "file_extension": ".py",
   "mimetype": "text/x-python",
   "name": "python",
   "nbconvert_exporter": "python",
   "pygments_lexer": "ipython3",
   "version": "3.10.14"
  }
 },
 "nbformat": 4,
 "nbformat_minor": 2
}
